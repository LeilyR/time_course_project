{
 "cells": [
  {
   "cell_type": "code",
   "execution_count": 1,
   "metadata": {},
   "outputs": [],
   "source": [
    "#  run hmmratac on filtered bam of any length"
   ]
  },
  {
   "cell_type": "code",
   "execution_count": 2,
   "metadata": {},
   "outputs": [],
   "source": [
    "import os \n",
    "import subprocess as sp\n",
    "import pandas as pd\n",
    "import glob\n",
    "from multiprocessing import Pool\n",
    "import pybedtools\n",
    "import importlib\n",
    "pybedtools.set_bedtools_path('/home/rabbani/localenv/anaconda/miniconda3/envs/matplotlib/bin/')\n",
    "pybedtools = importlib.reload(pybedtools)"
   ]
  },
  {
   "cell_type": "code",
   "execution_count": 3,
   "metadata": {},
   "outputs": [],
   "source": [
    "root = os.path.join(\"/data/manke/group/rabbani/atac_project2078\")\n",
    "output_path = os.path.join(\"/data/akhtar/group2/rabbani/atac_project2078/\")"
   ]
  },
  {
   "cell_type": "code",
   "execution_count": 4,
   "metadata": {},
   "outputs": [],
   "source": [
    "# sort and index bam files: RUN IT ONLY ONCE!"
   ]
  },
  {
   "cell_type": "code",
   "execution_count": 5,
   "metadata": {},
   "outputs": [],
   "source": [
    "for file in glob.glob(os.path.join(root,\"snakepipes_output/filtered_bam/\", \"*.bam\")):\n",
    "    name = os.path.basename(file)\n",
    "    cmd = \"module load samtools; samtools sort -@ 14 \"+file\n",
    "    cmd += \" -o \"+os.path.join(root, \"hmmratac/filteredbams_sorted\", name.split(\".bam\")[0]+\".sorted.bam\")\n",
    "    cmd += \"; samtools index -@ 10 \"+os.path.join(root, \"hmmratac/filteredbams_sorted\",\n",
    "                                            name.split(\".bam\")[0]+\".sorted.bam\")\n",
    "    sp.check_output(cmd, shell = True)"
   ]
  },
  {
   "cell_type": "code",
   "execution_count": 6,
   "metadata": {},
   "outputs": [],
   "source": [
    "# run peak calling on sorted bams RUN IT ONLY ONCE!\n",
    "def peak_calling(file):\n",
    "    name = os.path.basename(file).split(\".sorted.bam\")[0]\n",
    "    cmd = \"module load  slurm/19.05.3-2; SlurmEasy -t 15 \\'\"\n",
    "    cmd += \"java -jar /data/processing1/leily/hmmratac/HMMRATAC_V1.2.10_exe.jar -b \"+file+\" -i \"+file+\".bai \"\n",
    "    cmd += \" -g /data/repository/organisms/GRCm38_ensembl/genome_fasta/genome.chrom.sizes \"\n",
    "    cmd += \" --blacklist /data/repository/organisms/GRCm38_ensembl/akundaje/blacklist.bed \"\n",
    "    cmd += \" -f False -m 50.0,157.25,354.26,712.46 -s 20.0,40.21,79.91,119.62 \"\n",
    "    cmd += \" --bedgraph True --bgscore True \"\n",
    "    cmd += \" -o \"+os.path.join(output_path,\"hmmratac/peaks\", name)+\"\\'\"\n",
    "    sp.check_output(cmd, shell = True)\n",
    "with Pool(9) as p:\n",
    "    p.map(peak_calling, glob.glob(os.path.join(root,\"hmmratac/filteredbams_sorted\", \"*.bam\")))\n",
    "for file in glob.glob(os.path.join(root,\"hmmratac/filteredbams_sorted\", \"V*.bam\")):\n",
    "    peak_calling(file)"
   ]
  },
  {
   "cell_type": "code",
   "execution_count": 7,
   "metadata": {},
   "outputs": [],
   "source": [
    "# filter the ocr part of peaks & remove hiCov regions to use them for the diff analysis"
   ]
  },
  {
   "cell_type": "code",
   "execution_count": 8,
   "metadata": {
    "collapsed": true,
    "jupyter": {
     "outputs_hidden": true
    }
   },
   "outputs": [
    {
     "name": "stdout",
     "output_type": "stream",
     "text": [
      "Vector-LPS12-rep1.filtered_peaks.\n",
      "hmmratac: 70576\n",
      "macs2: 127563\n",
      "Vector-LPS12-rep2.filtered_peaks.\n",
      "hmmratac: 80082\n",
      "macs2: 140249\n",
      "K197R-LPS12-rep1.filtered_peaks.\n",
      "hmmratac: 70397\n",
      "macs2: 126801\n",
      "K197R-LPS12-rep2.filtered_peaks.\n",
      "hmmratac: 64216\n",
      "macs2: 120441\n",
      "Vector-LPS0-rep1.filtered_peaks.\n",
      "hmmratac: 51652\n",
      "macs2: 111328\n",
      "WT-LPS12-rep3.filtered_peaks.\n",
      "hmmratac: 68300\n",
      "macs2: 123504\n",
      "K197Q-LPS12-rep2.filtered_peaks.\n",
      "hmmratac: 65788\n",
      "macs2: 134963\n",
      "WT-LPS3-rep3.filtered_peaks.\n",
      "hmmratac: 65121\n",
      "macs2: 117662\n",
      "K197R-LPS3-rep3.filtered_peaks.\n",
      "hmmratac: 52351\n",
      "macs2: 96229\n",
      "Vector-LPS0-rep2.filtered_peaks.\n",
      "hmmratac: 53504\n",
      "macs2: 101892\n",
      "K197Q-LPS12-rep1.filtered_peaks.\n",
      "hmmratac: 71612\n",
      "macs2: 130551\n",
      "K197Q-LPS0-rep3.filtered_peaks.\n",
      "hmmratac: 53988\n",
      "macs2: 104164\n",
      "K197R-LPS0-rep1.filtered_peaks.\n",
      "hmmratac: 50168\n",
      "macs2: 94351\n",
      "WT-LPS0-rep1.filtered_peaks.\n",
      "hmmratac: 58691\n",
      "macs2: 107553\n",
      "K197Q-LPS3-rep1.filtered_peaks.\n",
      "hmmratac: 64186\n",
      "macs2: 121925\n",
      "WT-LPS0-rep2.filtered_peaks.\n",
      "hmmratac: 45523\n",
      "macs2: 87451\n",
      "Vector-LPS3-rep3.filtered_peaks.\n",
      "hmmratac: 62687\n",
      "macs2: 111638\n",
      "K197R-LPS0-rep2.filtered_peaks.\n",
      "hmmratac: 58052\n",
      "macs2: 106947\n",
      "K197Q-LPS3-rep2.filtered_peaks.\n",
      "hmmratac: 69892\n",
      "macs2: 126884\n",
      "Vector-LPS12-rep3.filtered_peaks.\n",
      "hmmratac: 71282\n",
      "macs2: 129962\n",
      "K197R-LPS12-rep3.filtered_peaks.\n",
      "hmmratac: 63966\n",
      "macs2: 118218\n",
      "K197R-LPS3-rep1.filtered_peaks.\n",
      "hmmratac: 68937\n",
      "macs2: 124621\n",
      "WT-LPS3-rep1.filtered_peaks.\n",
      "hmmratac: 68254\n",
      "macs2: 127979\n",
      "WT-LPS12-rep2.filtered_peaks.\n",
      "hmmratac: 71068\n",
      "macs2: 126146\n",
      "K197Q-LPS0-rep1.filtered_peaks.\n",
      "hmmratac: 41206\n",
      "macs2: 79997\n",
      "K197Q-LPS12-rep3.filtered_peaks.\n",
      "hmmratac: 70134\n",
      "macs2: 130685\n",
      "WT-LPS3-rep2.filtered_peaks.\n",
      "hmmratac: 71374\n",
      "macs2: 129094\n",
      "Vector-LPS0-rep3.filtered_peaks.\n",
      "hmmratac: 54849\n",
      "macs2: 112052\n",
      "K197R-LPS3-rep2.filtered_peaks.\n",
      "hmmratac: 69422\n",
      "macs2: 124476\n",
      "WT-LPS12-rep1.filtered_peaks.\n",
      "hmmratac: 66416\n",
      "macs2: 129900\n",
      "K197Q-LPS0-rep2.filtered_peaks.\n",
      "hmmratac: 55029\n",
      "macs2: 102110\n",
      "Vector-LPS3-rep1.filtered_peaks.\n",
      "hmmratac: 47446\n",
      "macs2: 92434\n",
      "WT-LPS0-rep3.filtered_peaks.\n",
      "hmmratac: 57042\n",
      "macs2: 104922\n",
      "K197R-LPS0-rep3.filtered_peaks.\n",
      "hmmratac: 58583\n",
      "macs2: 106957\n",
      "Vector-LPS3-rep2.filtered_peaks.\n",
      "hmmratac: 55691\n",
      "macs2: 103986\n",
      "K197Q-LPS3-rep3.filtered_peaks.\n",
      "hmmratac: 73176\n",
      "macs2: 130374\n",
      "2240661\n"
     ]
    }
   ],
   "source": [
    "union_df = pd.DataFrame()\n",
    "for file in glob.glob(os.path.join(root, \"hmmratac\", \"peaks\", \"*.gappedPeak\")):\n",
    "    name = os.path.basename(file).split(\"gappedPeak\")[0]\n",
    "    print(name)\n",
    "    df = pd.read_csv(file, sep = \"\\t\", header = None)\n",
    "    df = df.loc[~ df[3].str.contains(\"HighCoveragePeak_\")]   \n",
    "    df = df[[0,6,7,12]]\n",
    "    df.to_csv(os.path.join(root, \"hmmratac\", \"ocrs\", name+\"bed\"), header = None, index =False, sep = \"\\t\")\n",
    "    print(\"hmmratac:\", len(df))\n",
    "    macs_file = \"/data/manke/group/rabbani/atac_project2078/atac_pipeline/MACS2/\"+name+\"narrowPeak\"\n",
    "    macs_file = macs_file.replace(\"-\", \"_\")\n",
    "    print(\"macs2:\", len(pd.read_csv(macs_file)))\n",
    "    if len(union_df) == 0:\n",
    "        union_df = df[[0,6,7]]\n",
    "    else:\n",
    "        union_df = pd.concat([union_df, df[[0,6,7]]], ignore_index = True)\n",
    "print(len(union_df))\n",
    "a = pybedtools.BedTool.from_dataframe(union_df)\n",
    "a = a.sort()\n",
    "a = a.merge()\n",
    "a.saveas(os.path.join(root, \"hmmratac\",\"unionOfPeaks.bed\"))"
   ]
  },
  {
   "cell_type": "code",
   "execution_count": 9,
   "metadata": {
    "collapsed": true,
    "jupyter": {
     "outputs_hidden": true
    }
   },
   "outputs": [
    {
     "name": "stdout",
     "output_type": "stream",
     "text": [
      "module load bedtools2/v2.27.0; cat /data/manke/group/rabbani/atac_project2078/hmmratac/ocrs/WT-LPS0-rep1.filtered_peaks.bed /data/manke/group/rabbani/atac_project2078/hmmratac/ocrs/WT-LPS0-rep3.filtered_peaks.bed /data/manke/group/rabbani/atac_project2078/hmmratac/ocrs/WT-LPS0-rep2.filtered_peaks.bed| bedtools sort -i stdin | bedtools merge -i stdin > /data/akhtar/group2/rabbani/atac_project2078/hmmratac/ocrs/merged_peaks/merged_WT_LPS0_.bed\n",
      "module load bedtools2/v2.27.0; cat /data/manke/group/rabbani/atac_project2078/hmmratac/ocrs/WT-LPS3-rep3.filtered_peaks.bed /data/manke/group/rabbani/atac_project2078/hmmratac/ocrs/WT-LPS3-rep1.filtered_peaks.bed /data/manke/group/rabbani/atac_project2078/hmmratac/ocrs/WT-LPS3-rep2.filtered_peaks.bed| bedtools sort -i stdin | bedtools merge -i stdin > /data/akhtar/group2/rabbani/atac_project2078/hmmratac/ocrs/merged_peaks/merged_WT_LPS3_.bed\n",
      "module load bedtools2/v2.27.0; cat /data/manke/group/rabbani/atac_project2078/hmmratac/ocrs/WT-LPS12-rep2.filtered_peaks.bed /data/manke/group/rabbani/atac_project2078/hmmratac/ocrs/WT-LPS12-rep1.filtered_peaks.bed /data/manke/group/rabbani/atac_project2078/hmmratac/ocrs/WT-LPS12-rep3.filtered_peaks.bed| bedtools sort -i stdin | bedtools merge -i stdin > /data/akhtar/group2/rabbani/atac_project2078/hmmratac/ocrs/merged_peaks/merged_WT_LPS12_.bed\n",
      "module load bedtools2/v2.27.0; cat /data/manke/group/rabbani/atac_project2078/hmmratac/ocrs/Vector-LPS0-rep3.filtered_peaks.bed /data/manke/group/rabbani/atac_project2078/hmmratac/ocrs/Vector-LPS0-rep1.filtered_peaks.bed /data/manke/group/rabbani/atac_project2078/hmmratac/ocrs/Vector-LPS0-rep2.filtered_peaks.bed| bedtools sort -i stdin | bedtools merge -i stdin > /data/akhtar/group2/rabbani/atac_project2078/hmmratac/ocrs/merged_peaks/merged_Vector_LPS0_.bed\n",
      "module load bedtools2/v2.27.0; cat /data/manke/group/rabbani/atac_project2078/hmmratac/ocrs/Vector-LPS3-rep1.filtered_peaks.bed /data/manke/group/rabbani/atac_project2078/hmmratac/ocrs/Vector-LPS3-rep3.filtered_peaks.bed /data/manke/group/rabbani/atac_project2078/hmmratac/ocrs/Vector-LPS3-rep2.filtered_peaks.bed| bedtools sort -i stdin | bedtools merge -i stdin > /data/akhtar/group2/rabbani/atac_project2078/hmmratac/ocrs/merged_peaks/merged_Vector_LPS3_.bed\n",
      "module load bedtools2/v2.27.0; cat /data/manke/group/rabbani/atac_project2078/hmmratac/ocrs/Vector-LPS12-rep1.filtered_peaks.bed /data/manke/group/rabbani/atac_project2078/hmmratac/ocrs/Vector-LPS12-rep3.filtered_peaks.bed /data/manke/group/rabbani/atac_project2078/hmmratac/ocrs/Vector-LPS12-rep2.filtered_peaks.bed| bedtools sort -i stdin | bedtools merge -i stdin > /data/akhtar/group2/rabbani/atac_project2078/hmmratac/ocrs/merged_peaks/merged_Vector_LPS12_.bed\n",
      "module load bedtools2/v2.27.0; cat /data/manke/group/rabbani/atac_project2078/hmmratac/ocrs/K197Q-LPS0-rep2.filtered_peaks.bed /data/manke/group/rabbani/atac_project2078/hmmratac/ocrs/K197Q-LPS0-rep1.filtered_peaks.bed /data/manke/group/rabbani/atac_project2078/hmmratac/ocrs/K197Q-LPS0-rep3.filtered_peaks.bed| bedtools sort -i stdin | bedtools merge -i stdin > /data/akhtar/group2/rabbani/atac_project2078/hmmratac/ocrs/merged_peaks/merged_K197Q_LPS0_.bed\n",
      "module load bedtools2/v2.27.0; cat /data/manke/group/rabbani/atac_project2078/hmmratac/ocrs/K197Q-LPS3-rep2.filtered_peaks.bed /data/manke/group/rabbani/atac_project2078/hmmratac/ocrs/K197Q-LPS3-rep3.filtered_peaks.bed /data/manke/group/rabbani/atac_project2078/hmmratac/ocrs/K197Q-LPS3-rep1.filtered_peaks.bed| bedtools sort -i stdin | bedtools merge -i stdin > /data/akhtar/group2/rabbani/atac_project2078/hmmratac/ocrs/merged_peaks/merged_K197Q_LPS3_.bed\n",
      "module load bedtools2/v2.27.0; cat /data/manke/group/rabbani/atac_project2078/hmmratac/ocrs/K197Q-LPS12-rep3.filtered_peaks.bed /data/manke/group/rabbani/atac_project2078/hmmratac/ocrs/K197Q-LPS12-rep1.filtered_peaks.bed /data/manke/group/rabbani/atac_project2078/hmmratac/ocrs/K197Q-LPS12-rep2.filtered_peaks.bed| bedtools sort -i stdin | bedtools merge -i stdin > /data/akhtar/group2/rabbani/atac_project2078/hmmratac/ocrs/merged_peaks/merged_K197Q_LPS12_.bed\n",
      "module load bedtools2/v2.27.0; cat /data/manke/group/rabbani/atac_project2078/hmmratac/ocrs/K197R-LPS0-rep2.filtered_peaks.bed /data/manke/group/rabbani/atac_project2078/hmmratac/ocrs/K197R-LPS0-rep3.filtered_peaks.bed /data/manke/group/rabbani/atac_project2078/hmmratac/ocrs/K197R-LPS0-rep1.filtered_peaks.bed| bedtools sort -i stdin | bedtools merge -i stdin > /data/akhtar/group2/rabbani/atac_project2078/hmmratac/ocrs/merged_peaks/merged_K197R_LPS0_.bed\n",
      "module load bedtools2/v2.27.0; cat /data/manke/group/rabbani/atac_project2078/hmmratac/ocrs/K197R-LPS3-rep2.filtered_peaks.bed /data/manke/group/rabbani/atac_project2078/hmmratac/ocrs/K197R-LPS3-rep1.filtered_peaks.bed /data/manke/group/rabbani/atac_project2078/hmmratac/ocrs/K197R-LPS3-rep3.filtered_peaks.bed| bedtools sort -i stdin | bedtools merge -i stdin > /data/akhtar/group2/rabbani/atac_project2078/hmmratac/ocrs/merged_peaks/merged_K197R_LPS3_.bed\n",
      "module load bedtools2/v2.27.0; cat /data/manke/group/rabbani/atac_project2078/hmmratac/ocrs/K197R-LPS12-rep2.filtered_peaks.bed /data/manke/group/rabbani/atac_project2078/hmmratac/ocrs/K197R-LPS12-rep1.filtered_peaks.bed /data/manke/group/rabbani/atac_project2078/hmmratac/ocrs/K197R-LPS12-rep3.filtered_peaks.bed| bedtools sort -i stdin | bedtools merge -i stdin > /data/akhtar/group2/rabbani/atac_project2078/hmmratac/ocrs/merged_peaks/merged_K197R_LPS12_.bed\n"
     ]
    }
   ],
   "source": [
    "# merge reps of ocrs\n",
    "for cond in ['WT', 'Vector', 'K197Q', 'K197R']:\n",
    "    for time in ['LPS0', 'LPS3', 'LPS12']:\n",
    "        files = glob.glob(os.path.join(root,  \"hmmratac\", \"ocrs\", \"-\".join([cond, time, '*'])))\n",
    "        cmd = \"module load bedtools2/v2.27.0; cat \"\n",
    "        cmd += \" \".join(files)\n",
    "        cmd += \"| bedtools sort -i stdin | bedtools merge -i stdin > \"\n",
    "        cmd += os.path.join(output_path, \"hmmratac\", \"ocrs\", \"merged_peaks\", \"_\".join([\"merged\", cond, time, '.bed']))\n",
    "        print(cmd)\n",
    "        sp.check_output(cmd, shell =True)"
   ]
  },
  {
   "cell_type": "code",
   "execution_count": 10,
   "metadata": {},
   "outputs": [],
   "source": [
    "# compute the count matrix over the union of all peaks (HighCoveragePeak are getting excluded)"
   ]
  },
  {
   "cell_type": "code",
   "execution_count": 11,
   "metadata": {
    "collapsed": true,
    "jupyter": {
     "outputs_hidden": true
    }
   },
   "outputs": [
    {
     "name": "stdout",
     "output_type": "stream",
     "text": [
      "module load deeptools/3.5.0 slurm/19.05.3-2; SlurmEasy -t 10 -n 'bamSummORCs' 'multiBamSummary BED-file --BED /data/manke/group/rabbani/atac_project2078/hmmratac/unionOfPeaks.bed -b /data/manke/group/rabbani/atac_project2078/hmmratac/filteredbams_sorted/WT-LPS0-rep3.filtered.sorted.bam /data/manke/group/rabbani/atac_project2078/hmmratac/filteredbams_sorted/K197R-LPS0-rep1.filtered.sorted.bam /data/manke/group/rabbani/atac_project2078/hmmratac/filteredbams_sorted/Vector-LPS12-rep2.filtered.sorted.bam /data/manke/group/rabbani/atac_project2078/hmmratac/filteredbams_sorted/WT-LPS3-rep3.filtered.sorted.bam /data/manke/group/rabbani/atac_project2078/hmmratac/filteredbams_sorted/K197R-LPS3-rep1.filtered.sorted.bam /data/manke/group/rabbani/atac_project2078/hmmratac/filteredbams_sorted/K197R-LPS12-rep2.filtered.sorted.bam /data/manke/group/rabbani/atac_project2078/hmmratac/filteredbams_sorted/Vector-LPS3-rep3.filtered.sorted.bam /data/manke/group/rabbani/atac_project2078/hmmratac/filteredbams_sorted/K197Q-LPS0-rep3.filtered.sorted.bam /data/manke/group/rabbani/atac_project2078/hmmratac/filteredbams_sorted/Vector-LPS0-rep3.filtered.sorted.bam /data/manke/group/rabbani/atac_project2078/hmmratac/filteredbams_sorted/K197Q-LPS3-rep3.filtered.sorted.bam /data/manke/group/rabbani/atac_project2078/hmmratac/filteredbams_sorted/K197Q-LPS12-rep3.filtered.sorted.bam /data/manke/group/rabbani/atac_project2078/hmmratac/filteredbams_sorted/K197R-LPS3-rep2.filtered.sorted.bam /data/manke/group/rabbani/atac_project2078/hmmratac/filteredbams_sorted/K197R-LPS0-rep2.filtered.sorted.bam /data/manke/group/rabbani/atac_project2078/hmmratac/filteredbams_sorted/Vector-LPS12-rep1.filtered.sorted.bam /data/manke/group/rabbani/atac_project2078/hmmratac/filteredbams_sorted/WT-LPS12-rep3.filtered.sorted.bam /data/manke/group/rabbani/atac_project2078/hmmratac/filteredbams_sorted/K197R-LPS12-rep1.filtered.sorted.bam /data/manke/group/rabbani/atac_project2078/hmmratac/filteredbams_sorted/WT-LPS12-rep1.filtered.sorted.bam /data/manke/group/rabbani/atac_project2078/hmmratac/filteredbams_sorted/K197Q-LPS12-rep2.filtered.sorted.bam /data/manke/group/rabbani/atac_project2078/hmmratac/filteredbams_sorted/K197Q-LPS3-rep2.filtered.sorted.bam /data/manke/group/rabbani/atac_project2078/hmmratac/filteredbams_sorted/Vector-LPS0-rep2.filtered.sorted.bam /data/manke/group/rabbani/atac_project2078/hmmratac/filteredbams_sorted/K197Q-LPS0-rep2.filtered.sorted.bam /data/manke/group/rabbani/atac_project2078/hmmratac/filteredbams_sorted/K197R-LPS12-rep3.filtered.sorted.bam /data/manke/group/rabbani/atac_project2078/hmmratac/filteredbams_sorted/Vector-LPS3-rep2.filtered.sorted.bam /data/manke/group/rabbani/atac_project2078/hmmratac/filteredbams_sorted/WT-LPS3-rep2.filtered.sorted.bam /data/manke/group/rabbani/atac_project2078/hmmratac/filteredbams_sorted/Vector-LPS12-rep3.filtered.sorted.bam /data/manke/group/rabbani/atac_project2078/hmmratac/filteredbams_sorted/WT-LPS0-rep2.filtered.sorted.bam /data/manke/group/rabbani/atac_project2078/hmmratac/filteredbams_sorted/Vector-LPS3-rep1.filtered.sorted.bam /data/manke/group/rabbani/atac_project2078/hmmratac/filteredbams_sorted/K197Q-LPS0-rep1.filtered.sorted.bam /data/manke/group/rabbani/atac_project2078/hmmratac/filteredbams_sorted/Vector-LPS0-rep1.filtered.sorted.bam /data/manke/group/rabbani/atac_project2078/hmmratac/filteredbams_sorted/WT-LPS12-rep2.filtered.sorted.bam /data/manke/group/rabbani/atac_project2078/hmmratac/filteredbams_sorted/K197Q-LPS3-rep1.filtered.sorted.bam /data/manke/group/rabbani/atac_project2078/hmmratac/filteredbams_sorted/K197Q-LPS12-rep1.filtered.sorted.bam /data/manke/group/rabbani/atac_project2078/hmmratac/filteredbams_sorted/WT-LPS0-rep1.filtered.sorted.bam /data/manke/group/rabbani/atac_project2078/hmmratac/filteredbams_sorted/K197R-LPS0-rep3.filtered.sorted.bam /data/manke/group/rabbani/atac_project2078/hmmratac/filteredbams_sorted/WT-LPS3-rep1.filtered.sorted.bam /data/manke/group/rabbani/atac_project2078/hmmratac/filteredbams_sorted/K197R-LPS3-rep3.filtered.sorted.bam -bl /data/repository/organisms/GRCm38_ensembl/akundaje/blacklist.bed -p 20 --outRawCounts /data/manke/group/rabbani/atac_project2078/hmmratac/multibamsummary_counts.tsv -o /data/manke/group/rabbani/atac_project2078/hmmratac/multibamsummary_counts.npz'\n",
      "module load deeptools/3.5.0 slurm/19.05.3-2; SlurmEasy -t 10 -n 'bwSummORCs' 'multiBigwigSummary BED-file --BED /data/manke/group/rabbani/atac_project2078/hmmratac/unionOfPeaks.bed -b /data/manke/group/rabbani/atac_project2078/atac_pipeline/BigWigs/Vector_LPS3_rep1.filtered.bw /data/manke/group/rabbani/atac_project2078/atac_pipeline/BigWigs/K197R_LPS3_rep3.filtered.bw /data/manke/group/rabbani/atac_project2078/atac_pipeline/BigWigs/K197R_LPS12_rep3.filtered.bw /data/manke/group/rabbani/atac_project2078/atac_pipeline/BigWigs/Vector_LPS12_rep2.filtered.bw /data/manke/group/rabbani/atac_project2078/atac_pipeline/BigWigs/Vector_LPS0_rep3.filtered.bw /data/manke/group/rabbani/atac_project2078/atac_pipeline/BigWigs/K197R_LPS0_rep1.filtered.bw /data/manke/group/rabbani/atac_project2078/atac_pipeline/BigWigs/K197Q_LPS3_rep2.filtered.bw /data/manke/group/rabbani/atac_project2078/atac_pipeline/BigWigs/K197Q_LPS0_rep2.filtered.bw /data/manke/group/rabbani/atac_project2078/atac_pipeline/BigWigs/K197R_LPS12_rep1.filtered.bw /data/manke/group/rabbani/atac_project2078/atac_pipeline/BigWigs/K197R_LPS3_rep1.filtered.bw /data/manke/group/rabbani/atac_project2078/atac_pipeline/BigWigs/Vector_LPS3_rep3.filtered.bw /data/manke/group/rabbani/atac_project2078/atac_pipeline/BigWigs/K197R_LPS0_rep3.filtered.bw /data/manke/group/rabbani/atac_project2078/atac_pipeline/BigWigs/Vector_LPS0_rep1.filtered.bw /data/manke/group/rabbani/atac_project2078/atac_pipeline/BigWigs/K197Q_LPS12_rep3.filtered.bw /data/manke/group/rabbani/atac_project2078/atac_pipeline/BigWigs/WT_LPS0_rep1.filtered.bw /data/manke/group/rabbani/atac_project2078/atac_pipeline/BigWigs/WT_LPS3_rep3.filtered.bw /data/manke/group/rabbani/atac_project2078/atac_pipeline/BigWigs/WT_LPS12_rep1.filtered.bw /data/manke/group/rabbani/atac_project2078/atac_pipeline/BigWigs/K197Q_LPS12_rep1.filtered.bw /data/manke/group/rabbani/atac_project2078/atac_pipeline/BigWigs/WT_LPS0_rep3.filtered.bw /data/manke/group/rabbani/atac_project2078/atac_pipeline/BigWigs/WT_LPS12_rep3.filtered.bw /data/manke/group/rabbani/atac_project2078/atac_pipeline/BigWigs/WT_LPS3_rep1.filtered.bw /data/manke/group/rabbani/atac_project2078/atac_pipeline/BigWigs/WT_LPS3_rep2.filtered.bw /data/manke/group/rabbani/atac_project2078/atac_pipeline/BigWigs/K197Q_LPS12_rep2.filtered.bw /data/manke/group/rabbani/atac_project2078/atac_pipeline/BigWigs/WT_LPS12_rep2.filtered.bw /data/manke/group/rabbani/atac_project2078/atac_pipeline/BigWigs/WT_LPS0_rep2.filtered.bw /data/manke/group/rabbani/atac_project2078/atac_pipeline/BigWigs/K197Q_LPS3_rep3.filtered.bw /data/manke/group/rabbani/atac_project2078/atac_pipeline/BigWigs/Vector_LPS12_rep3.filtered.bw /data/manke/group/rabbani/atac_project2078/atac_pipeline/BigWigs/Vector_LPS0_rep2.filtered.bw /data/manke/group/rabbani/atac_project2078/atac_pipeline/BigWigs/K197R_LPS12_rep2.filtered.bw /data/manke/group/rabbani/atac_project2078/atac_pipeline/BigWigs/K197R_LPS3_rep2.filtered.bw /data/manke/group/rabbani/atac_project2078/atac_pipeline/BigWigs/K197Q_LPS0_rep1.filtered.bw /data/manke/group/rabbani/atac_project2078/atac_pipeline/BigWigs/Vector_LPS12_rep1.filtered.bw /data/manke/group/rabbani/atac_project2078/atac_pipeline/BigWigs/K197Q_LPS3_rep1.filtered.bw /data/manke/group/rabbani/atac_project2078/atac_pipeline/BigWigs/K197R_LPS0_rep2.filtered.bw /data/manke/group/rabbani/atac_project2078/atac_pipeline/BigWigs/Vector_LPS3_rep2.filtered.bw /data/manke/group/rabbani/atac_project2078/atac_pipeline/BigWigs/K197Q_LPS0_rep3.filtered.bw -bl /data/repository/organisms/GRCm38_ensembl/akundaje/blacklist.bed -p 20  -o /data/manke/group/rabbani/atac_project2078/hmmratac/multibwsummary_counts_on_ocrs.npz'\n"
     ]
    }
   ],
   "source": [
    "cmd = \"module load deeptools/3.5.0 slurm/19.05.3-2; SlurmEasy -t 10 -n 'bamSummORCs' '\"\n",
    "cmd += \"multiBamSummary BED-file --BED \"+os.path.join(root, \"hmmratac\",\"unionOfPeaks.bed\") \n",
    "cmd += \" -b \"+\" \".join(glob.glob(os.path.join(root, \"hmmratac\", \"filteredbams_sorted\", \"*.bam\")))\n",
    "cmd += \" -bl /data/repository/organisms/GRCm38_ensembl/akundaje/blacklist.bed -p 20 --outRawCounts \"\n",
    "cmd += os.path.join(root, \"hmmratac\", \"multibamsummary_counts.tsv\")\n",
    "cmd += \" -o \"+os.path.join(root, \"hmmratac\", \"multibamsummary_counts.npz\")+\"'\"\n",
    "print(cmd)\n",
    "sp.check_output(cmd, shell =True)\n",
    "\n",
    "cmd = \"module load deeptools/3.5.0 slurm/19.05.3-2; SlurmEasy -t 10 -n 'bwSummORCs' '\"\n",
    "cmd += \"multiBigwigSummary BED-file --BED \"+os.path.join(root, \"hmmratac\",\"unionOfPeaks.bed\") \n",
    "cmd += \" -b \"+\" \".join(glob.glob(os.path.join(root, \"atac_pipeline\", \"BigWigs\", \"*.filtered.bw\")))\n",
    "cmd += \" -bl /data/repository/organisms/GRCm38_ensembl/akundaje/blacklist.bed -p 20 \"\n",
    "cmd += \" -o \"+os.path.join(root, \"hmmratac\",\"multibwsummary_counts_on_ocrs.npz\")+\"'\"\n",
    "print(cmd)\n",
    "sp.check_output(cmd, shell =True)"
   ]
  },
  {
   "cell_type": "code",
   "execution_count": 12,
   "metadata": {},
   "outputs": [],
   "source": [
    "# extract high coverage regions & add them to the union peaks"
   ]
  },
  {
   "cell_type": "code",
   "execution_count": 13,
   "metadata": {},
   "outputs": [
    {
     "name": "stdout",
     "output_type": "stream",
     "text": [
      "            0       1       2\n",
      "0  GL456233.1   38590   39490\n",
      "1  GL456233.1  138680  139300\n",
      "2  GL456233.1  159520  160050\n",
      "3  GL456216.1   13760   14020\n",
      "4  GL456216.1   15620   17480\n"
     ]
    }
   ],
   "source": [
    "all_peaks = union_df.copy()\n",
    "all_peaks.rename(columns = {6:1, 7:2}, inplace = True)\n",
    "hiCov = pd.DataFrame()\n",
    "# print(len(union_df))\n",
    "for file in glob.glob(os.path.join(root, \"hmmratac\", \"peaks\", \"*.gappedPeak\")):\n",
    "    name = os.path.basename(file).split(\"gappedPeak\")[0]\n",
    "    df = pd.read_csv(file, sep = \"\\t\", header = None)\n",
    "    df = df.loc[df[3].str.contains(\"HighCoveragePeak_\")]\n",
    "#     print(len(df))\n",
    "    all_peaks = pd.concat([all_peaks, df[[0,1,2]]])\n",
    "    if len(hiCov) == 0:\n",
    "        hiCov = df[[0,1,2]]\n",
    "    else:\n",
    "        hiCov = pd.concat([hiCov, df[[0,1,2]]])\n",
    "    df.to_csv(os.path.join(root, \"hmmratac\", \"hiCov\", name+\"bed\"), columns = [0,1,2], index = False, header = False)\n",
    "print(all_peaks.head())\n",
    "a = pybedtools.BedTool.from_dataframe(all_peaks)\n",
    "a = a.sort()\n",
    "a = a.merge()\n",
    "a.saveas(os.path.join(root, \"hmmratac\",\"unionOfPeaksWithHiCov.bed\"))\n",
    "\n",
    "a = pybedtools.BedTool.from_dataframe(hiCov)\n",
    "a = a.sort()\n",
    "a = a.merge()\n",
    "a.saveas(os.path.join(root, \"hmmratac\",\"hiCovOnly.bed\"))"
   ]
  },
  {
   "cell_type": "code",
   "execution_count": 14,
   "metadata": {},
   "outputs": [
    {
     "name": "stdout",
     "output_type": "stream",
     "text": [
      "module load deeptools/3.5.0 slurm/19.05.3-2; SlurmEasy -t 10 -n 'bwSumHiCov' 'multiBigwigSummary BED-file --BED /data/manke/group/rabbani/atac_project2078/hmmratac/unionOfPeaksWithHiCov.bed -b /data/manke/group/rabbani/atac_project2078/atac_pipeline/BigWigs/Vector_LPS3_rep1.filtered.bw /data/manke/group/rabbani/atac_project2078/atac_pipeline/BigWigs/K197R_LPS3_rep3.filtered.bw /data/manke/group/rabbani/atac_project2078/atac_pipeline/BigWigs/K197R_LPS12_rep3.filtered.bw /data/manke/group/rabbani/atac_project2078/atac_pipeline/BigWigs/Vector_LPS12_rep2.filtered.bw /data/manke/group/rabbani/atac_project2078/atac_pipeline/BigWigs/Vector_LPS0_rep3.filtered.bw /data/manke/group/rabbani/atac_project2078/atac_pipeline/BigWigs/K197R_LPS0_rep1.filtered.bw /data/manke/group/rabbani/atac_project2078/atac_pipeline/BigWigs/K197Q_LPS3_rep2.filtered.bw /data/manke/group/rabbani/atac_project2078/atac_pipeline/BigWigs/K197Q_LPS0_rep2.filtered.bw /data/manke/group/rabbani/atac_project2078/atac_pipeline/BigWigs/K197R_LPS12_rep1.filtered.bw /data/manke/group/rabbani/atac_project2078/atac_pipeline/BigWigs/K197R_LPS3_rep1.filtered.bw /data/manke/group/rabbani/atac_project2078/atac_pipeline/BigWigs/Vector_LPS3_rep3.filtered.bw /data/manke/group/rabbani/atac_project2078/atac_pipeline/BigWigs/K197R_LPS0_rep3.filtered.bw /data/manke/group/rabbani/atac_project2078/atac_pipeline/BigWigs/Vector_LPS0_rep1.filtered.bw /data/manke/group/rabbani/atac_project2078/atac_pipeline/BigWigs/K197Q_LPS12_rep3.filtered.bw /data/manke/group/rabbani/atac_project2078/atac_pipeline/BigWigs/WT_LPS0_rep1.filtered.bw /data/manke/group/rabbani/atac_project2078/atac_pipeline/BigWigs/WT_LPS3_rep3.filtered.bw /data/manke/group/rabbani/atac_project2078/atac_pipeline/BigWigs/WT_LPS12_rep1.filtered.bw /data/manke/group/rabbani/atac_project2078/atac_pipeline/BigWigs/K197Q_LPS12_rep1.filtered.bw /data/manke/group/rabbani/atac_project2078/atac_pipeline/BigWigs/WT_LPS0_rep3.filtered.bw /data/manke/group/rabbani/atac_project2078/atac_pipeline/BigWigs/WT_LPS12_rep3.filtered.bw /data/manke/group/rabbani/atac_project2078/atac_pipeline/BigWigs/WT_LPS3_rep1.filtered.bw /data/manke/group/rabbani/atac_project2078/atac_pipeline/BigWigs/WT_LPS3_rep2.filtered.bw /data/manke/group/rabbani/atac_project2078/atac_pipeline/BigWigs/K197Q_LPS12_rep2.filtered.bw /data/manke/group/rabbani/atac_project2078/atac_pipeline/BigWigs/WT_LPS12_rep2.filtered.bw /data/manke/group/rabbani/atac_project2078/atac_pipeline/BigWigs/WT_LPS0_rep2.filtered.bw /data/manke/group/rabbani/atac_project2078/atac_pipeline/BigWigs/K197Q_LPS3_rep3.filtered.bw /data/manke/group/rabbani/atac_project2078/atac_pipeline/BigWigs/Vector_LPS12_rep3.filtered.bw /data/manke/group/rabbani/atac_project2078/atac_pipeline/BigWigs/Vector_LPS0_rep2.filtered.bw /data/manke/group/rabbani/atac_project2078/atac_pipeline/BigWigs/K197R_LPS12_rep2.filtered.bw /data/manke/group/rabbani/atac_project2078/atac_pipeline/BigWigs/K197R_LPS3_rep2.filtered.bw /data/manke/group/rabbani/atac_project2078/atac_pipeline/BigWigs/K197Q_LPS0_rep1.filtered.bw /data/manke/group/rabbani/atac_project2078/atac_pipeline/BigWigs/Vector_LPS12_rep1.filtered.bw /data/manke/group/rabbani/atac_project2078/atac_pipeline/BigWigs/K197Q_LPS3_rep1.filtered.bw /data/manke/group/rabbani/atac_project2078/atac_pipeline/BigWigs/K197R_LPS0_rep2.filtered.bw /data/manke/group/rabbani/atac_project2078/atac_pipeline/BigWigs/Vector_LPS3_rep2.filtered.bw /data/manke/group/rabbani/atac_project2078/atac_pipeline/BigWigs/K197Q_LPS0_rep3.filtered.bw -bl /data/repository/organisms/GRCm38_ensembl/akundaje/blacklist.bed -p 20  -o /data/manke/group/rabbani/atac_project2078/hmmratac/multibwsummary_counts_on_withHiCov.npz'\n"
     ]
    }
   ],
   "source": [
    "# # matrix with all_peaks\n",
    "# cmd = \"module load deeptools slurm; SlurmEasy -t 10 -n 'bamSumHiCov' '\"\n",
    "# cmd += \"multiBamSummary BED-file --BED \"+os.path.join(root, \"hmmratac\",\"unionOfPeaksWithHiCov.bed\") \n",
    "# cmd += \" -b \"+\" \".join(glob.glob(os.path.join(root, \"hmmratac\", \"filteredbams_sorted\", \"*.bam\")))\n",
    "# cmd += \" -bl /data/repository/organisms/GRCm38_ensembl/akundaje/blacklist.bed -p 20 --outRawCounts \"\n",
    "# cmd += os.path.join(root, \"hmmratac\", \"multibamsummary_counts_withHiCov.tsv\")\n",
    "# cmd += \" -o \"+os.path.join(root, \"hmmratac\", \"multibamsummary_counts_withHiCov.npz\")+\"'\"\n",
    "# print(cmd)\n",
    "# sp.check_output(cmd, shell =True)\n",
    "\n",
    "cmd = \"module load deeptools/3.5.0 slurm/19.05.3-2; SlurmEasy -t 10 -n 'bwSumHiCov' '\"\n",
    "cmd += \"multiBigwigSummary BED-file --BED \"+os.path.join(root, \"hmmratac\",\"unionOfPeaksWithHiCov.bed\") \n",
    "cmd += \" -b \"+\" \".join(glob.glob(os.path.join(root, \"atac_pipeline\", \"BigWigs\", \"*.filtered.bw\")))\n",
    "cmd += \" -bl /data/repository/organisms/GRCm38_ensembl/akundaje/blacklist.bed -p 20 \"\n",
    "cmd += \" -o \"+os.path.join(root, \"hmmratac\",\"multibwsummary_counts_on_withHiCov.npz\")+\"'\"\n",
    "print(cmd)\n",
    "sp.check_output(cmd, shell =True)"
   ]
  },
  {
   "cell_type": "code",
   "execution_count": 15,
   "metadata": {},
   "outputs": [
    {
     "name": "stdout",
     "output_type": "stream",
     "text": [
      "sed -i \"s/'//g\" /data/manke/group/rabbani/atac_project2078/hmmratac/multibamsummary_counts.tsv\n"
     ]
    }
   ],
   "source": [
    "#  The next 3 cells can be run only when the count matrices are ready\n",
    "# Remove quotes placed by multiBamSummary\n",
    "cmd = \"sed -i \\\"s/'//g\\\" \"+os.path.join(root, \"hmmratac\", \"multibamsummary_counts.tsv\")\n",
    "print(cmd)\n",
    "sp.check_output(cmd, shell =True)"
   ]
  },
  {
   "cell_type": "code",
   "execution_count": 16,
   "metadata": {},
   "outputs": [
    {
     "name": "stdout",
     "output_type": "stream",
     "text": [
      "sed -i \"s/.filtered.sorted.bam//g\" /data/manke/group/rabbani/atac_project2078/hmmratac/multibamsummary_counts.tsv\n"
     ]
    }
   ],
   "source": [
    "# Remove .bam postfix\n",
    "cmd = \"sed -i \\\"s/.filtered.sorted.bam//g\\\" \"+os.path.join(root, \"hmmratac\", \"multibamsummary_counts.tsv\")\n",
    "print(cmd)\n",
    "sp.check_output(cmd, shell =True)"
   ]
  },
  {
   "cell_type": "code",
   "execution_count": 17,
   "metadata": {},
   "outputs": [
    {
     "name": "stdout",
     "output_type": "stream",
     "text": [
      "sed -i \"s/-/_/g\" /data/manke/group/rabbani/atac_project2078/hmmratac/multibamsummary_counts.tsv\n"
     ]
    }
   ],
   "source": [
    "cmd = \"sed -i \\\"s/-/_/g\\\" \"+os.path.join(root, \"hmmratac\", \"multibamsummary_counts.tsv\")\n",
    "print(cmd)\n",
    "sp.check_output(cmd, shell =True)"
   ]
  },
  {
   "cell_type": "code",
   "execution_count": 18,
   "metadata": {
    "collapsed": true,
    "jupyter": {
     "outputs_hidden": true
    }
   },
   "outputs": [
    {
     "data": {
      "text/plain": [
       "347       260\n",
       "1339     1380\n",
       "2590      940\n",
       "2591     1140\n",
       "6636      470\n",
       "         ... \n",
       "96501    2050\n",
       "96502    4781\n",
       "96503    1475\n",
       "96504     520\n",
       "96505     709\n",
       "Name: diff, Length: 89, dtype: int64"
      ]
     },
     "execution_count": 18,
     "metadata": {},
     "output_type": "execute_result"
    }
   ],
   "source": [
    "# find the missing reagions on multibamsummary (check for the lenght, coverage and balck list overlap)\n",
    "df1 = pd.read_csv(os.path.join(root, \"hmmratac\", \"multibamsummary_counts.tsv\"), sep = \"\\t\")\n",
    "df1['coord'] = df1[[\"#chr\", \"start\", \"end\"]].apply( lambda x: '_'.join(x.dropna().astype(str)), axis=1)\n",
    "\n",
    "df2 = pd.read_csv(os.path.join(root, \"hmmratac\", \"unionOfPeaks.bed\"), sep = \"\\t\", header = None)\n",
    "df2['coord'] = df2[[0,1,2]].apply( lambda x: '_'.join(x.dropna().astype(str)), axis=1)\n",
    "\n",
    "df_all = df1.merge(df2.drop_duplicates(), on=['coord'], how='right', indicator=True)\n",
    "\n",
    "diff_df = df_all[df_all['_merge'] == 'right_only'][[0,1,2]]\n",
    "diff_df['diff'] = diff_df[2] - diff_df[1]\n",
    "diff_df['diff']"
   ]
  },
  {
   "cell_type": "code",
   "execution_count": 19,
   "metadata": {},
   "outputs": [
    {
     "data": {
      "text/plain": [
       "10120"
      ]
     },
     "execution_count": 19,
     "metadata": {},
     "output_type": "execute_result"
    }
   ],
   "source": [
    "max(diff_df['diff'])"
   ]
  },
  {
   "cell_type": "code",
   "execution_count": 20,
   "metadata": {},
   "outputs": [],
   "source": [
    "# tobias_bigwig correction module TODO"
   ]
  },
  {
   "cell_type": "code",
   "execution_count": null,
   "metadata": {},
   "outputs": [],
   "source": []
  }
 ],
 "metadata": {
  "kernelspec": {
   "display_name": "SSH minimus matplotlib3_py3.8",
   "language": "",
   "name": "rik_ssh_maximus_matplotlib3_py38"
  },
  "language_info": {
   "codemirror_mode": {
    "name": "ipython",
    "version": 3
   },
   "file_extension": ".py",
   "mimetype": "text/x-python",
   "name": "python",
   "nbconvert_exporter": "python",
   "pygments_lexer": "ipython3",
   "version": "3.8.0"
  }
 },
 "nbformat": 4,
 "nbformat_minor": 4
}
