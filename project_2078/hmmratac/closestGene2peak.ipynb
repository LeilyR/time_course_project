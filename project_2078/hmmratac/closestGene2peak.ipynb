{
 "cells": [
  {
   "cell_type": "code",
   "execution_count": 1,
   "id": "1b3c09b1",
   "metadata": {},
   "outputs": [],
   "source": [
    "# find the closest genes to diff peaks"
   ]
  },
  {
   "cell_type": "code",
   "execution_count": 2,
   "id": "7da4dc24",
   "metadata": {},
   "outputs": [
    {
     "data": {
      "text/plain": [
       "<module 'pybedtools' from '/localenv/rabbani/anaconda/miniconda3/envs/matplotlib/lib/python3.8/site-packages/pybedtools/__init__.py'>"
      ]
     },
     "execution_count": 2,
     "metadata": {},
     "output_type": "execute_result"
    }
   ],
   "source": [
    "import os \n",
    "import pandas as pd\n",
    "import glob\n",
    "import pybedtools as pbt\n",
    "import importlib\n",
    "pbt.set_bedtools_path(\"/localenv/rabbani/anaconda/miniconda3/envs/matplotlib/bin/\")\n",
    "importlib.reload(pbt)"
   ]
  },
  {
   "cell_type": "code",
   "execution_count": 3,
   "id": "5344d5de",
   "metadata": {},
   "outputs": [],
   "source": [
    "diffpeaks_path = os.path.join(\"/data/akhtar/group2/rabbani/atac_project2078/hmmratac/pairwise_comparison/wo_hiCov/\")"
   ]
  },
  {
   "cell_type": "code",
   "execution_count": 4,
   "id": "bcd5f921",
   "metadata": {},
   "outputs": [],
   "source": [
    "# closest transcripts to deseq pairwise comparisons"
   ]
  },
  {
   "cell_type": "code",
   "execution_count": 5,
   "id": "345f5d68",
   "metadata": {},
   "outputs": [
    {
     "name": "stderr",
     "output_type": "stream",
     "text": [
      "/localenv/rabbani/anaconda/miniconda3/envs/matplotlib/lib/python3.8/site-packages/IPython/core/interactiveshell.py:3444: DtypeWarning: Columns (0) have mixed types.Specify dtype option on import or set low_memory=False.\n",
      "  exec(code_obj, self.user_global_ns, self.user_ns)\n"
     ]
    },
    {
     "name": "stdout",
     "output_type": "stream",
     "text": [
      "  0_x      1_x      2_x                     3  4  5                   1_y  \\\n",
      "0   1  3073252  3074322  ENSMUST00000193812.1  0  +  ENSMUSG00000102693.1   \n",
      "1   1  3102015  3102125  ENSMUST00000082908.1  0  +  ENSMUSG00000064842.1   \n",
      "2   1  3205900  3216344  ENSMUST00000162897.1  0  -  ENSMUSG00000051951.5   \n",
      "3   1  3206522  3215632  ENSMUST00000159265.1  0  -  ENSMUSG00000051951.5   \n",
      "4   1  3214481  3671498  ENSMUST00000070533.4  0  -  ENSMUSG00000051951.5   \n",
      "\n",
      "             2_y  \n",
      "0  4933401J01Rik  \n",
      "1        Gm26206  \n",
      "2           Xkr4  \n",
      "3           Xkr4  \n",
      "4           Xkr4  \n"
     ]
    },
    {
     "name": "stderr",
     "output_type": "stream",
     "text": [
      "***** WARNING: File /tmp/pybedtools.7gscgu0y.tmp has inconsistent naming convention for record:\n",
      "CHR_MG153_PATCH\t21421\t23936\tENSMUST00000180480.3\t0\t-\tENSMUSG00000097830.3\tGstp1\n",
      "\n",
      "***** WARNING: File /tmp/pybedtools.7gscgu0y.tmp has inconsistent naming convention for record:\n",
      "CHR_MG153_PATCH\t21421\t23936\tENSMUST00000180480.3\t0\t-\tENSMUSG00000097830.3\tGstp1\n",
      "\n"
     ]
    },
    {
     "name": "stdout",
     "output_type": "stream",
     "text": [
      "/data/akhtar/group2/rabbani/atac_project2078/hmmratac/pairwise_comparison/wo_hiCov/deseq2/Vector_LPS12_vs_WT_LPS12.bed\n",
      "0 sig\n",
      "/data/akhtar/group2/rabbani/atac_project2078/hmmratac/pairwise_comparison/wo_hiCov/deseq2/K197Q_LPS12_vs_WT_LPS12.bed\n",
      "0 sig\n",
      "/data/akhtar/group2/rabbani/atac_project2078/hmmratac/pairwise_comparison/wo_hiCov/deseq2/K197Q_LPS12_vs_K197R_LPS12.bed\n",
      "0 sig\n"
     ]
    },
    {
     "name": "stderr",
     "output_type": "stream",
     "text": [
      "***** WARNING: File /tmp/pybedtools.r0c8voja.tmp has inconsistent naming convention for record:\n",
      "CHR_MG153_PATCH\t21421\t23936\tENSMUST00000180480.3\t0\t-\tENSMUSG00000097830.3\tGstp1\n",
      "\n",
      "***** WARNING: File /tmp/pybedtools.r0c8voja.tmp has inconsistent naming convention for record:\n",
      "CHR_MG153_PATCH\t21421\t23936\tENSMUST00000180480.3\t0\t-\tENSMUSG00000097830.3\tGstp1\n",
      "\n"
     ]
    },
    {
     "name": "stdout",
     "output_type": "stream",
     "text": [
      "/data/akhtar/group2/rabbani/atac_project2078/hmmratac/pairwise_comparison/wo_hiCov/deseq2/K197Q_LPS3_vs_K197R_LPS3.bed\n",
      "0 sig\n"
     ]
    },
    {
     "name": "stderr",
     "output_type": "stream",
     "text": [
      "***** WARNING: File /tmp/pybedtools.cwsvol7p.tmp has inconsistent naming convention for record:\n",
      "CHR_MG153_PATCH\t21421\t23936\tENSMUST00000180480.3\t0\t-\tENSMUSG00000097830.3\tGstp1\n",
      "\n",
      "***** WARNING: File /tmp/pybedtools.cwsvol7p.tmp has inconsistent naming convention for record:\n",
      "CHR_MG153_PATCH\t21421\t23936\tENSMUST00000180480.3\t0\t-\tENSMUSG00000097830.3\tGstp1\n",
      "\n"
     ]
    },
    {
     "name": "stdout",
     "output_type": "stream",
     "text": [
      "/data/akhtar/group2/rabbani/atac_project2078/hmmratac/pairwise_comparison/wo_hiCov/edgeR/kqkr_3.bed\n",
      "0 sig\n",
      "/data/akhtar/group2/rabbani/atac_project2078/hmmratac/pairwise_comparison/wo_hiCov/edgeR/krwt_3.bed\n",
      "0 sig\n",
      "/data/akhtar/group2/rabbani/atac_project2078/hmmratac/pairwise_comparison/wo_hiCov/edgeR/kqkr_12.bed\n",
      "0 sig\n",
      "/data/akhtar/group2/rabbani/atac_project2078/hmmratac/pairwise_comparison/wo_hiCov/edgeR/kqwt_12.bed\n",
      "0 sig\n",
      "/data/akhtar/group2/rabbani/atac_project2078/hmmratac/pairwise_comparison/wo_hiCov/edgeR/kr3_0.bed\n",
      "0 sig\n",
      "/data/akhtar/group2/rabbani/atac_project2078/hmmratac/pairwise_comparison/wo_hiCov/edgeR/kr12_3.bed\n",
      "0 sig\n",
      "/data/akhtar/group2/rabbani/atac_project2078/hmmratac/pairwise_comparison/wo_hiCov/edgeR/kr12_0.bed\n",
      "0 sig\n",
      "/data/akhtar/group2/rabbani/atac_project2078/hmmratac/pairwise_comparison/wo_hiCov/edgeR/kq3_0.bed\n",
      "0 sig\n",
      "/data/akhtar/group2/rabbani/atac_project2078/hmmratac/pairwise_comparison/wo_hiCov/edgeR/kqwt_3.bed\n",
      "0 sig\n",
      "/data/akhtar/group2/rabbani/atac_project2078/hmmratac/pairwise_comparison/wo_hiCov/edgeR/krwt_12.bed\n",
      "0 sig\n",
      "/data/akhtar/group2/rabbani/atac_project2078/hmmratac/pairwise_comparison/wo_hiCov/edgeR/kq12_3.bed\n",
      "0 sig\n",
      "/data/akhtar/group2/rabbani/atac_project2078/hmmratac/pairwise_comparison/wo_hiCov/edgeR/kqkr_0.bed\n",
      "0 sig\n",
      "/data/akhtar/group2/rabbani/atac_project2078/hmmratac/pairwise_comparison/wo_hiCov/edgeR/krwt_0.bed\n",
      "0 sig\n"
     ]
    }
   ],
   "source": [
    "genes = pd.read_csv(\"/data/repository/organisms/GRCm38_ensembl/gencode/m9/genes.bed\", sep = \"\\t\", header = None)\n",
    "t2g = pd.read_csv(\"/data/akhtar/sequencing_data3/211215_A00931_0395_AHLVKTDRXY/Analysis_2129_Chen_Akhtar/strandedmRNA-Seq_mouse/Annotation/genes.filtered.t2g\", sep = \"\\t\", header = None)\n",
    "genes = genes.merge(t2g, how = \"inner\", left_on = 3, right_on = 0)[['0_x', '1_x', '2_x', 3, 4, 5, '1_y', '2_y']]\n",
    "print(genes.head())\n",
    "for tool in ['deseq2', 'edgeR']:\n",
    "    for file in glob.glob(os.path.join(diffpeaks_path, tool, \"*.bed\")):\n",
    "        try:\n",
    "            df = pd.read_csv(file, sep = \"\\t\")\n",
    "\n",
    "            x = pbt.BedTool.from_dataframe(df)\n",
    "            x = x.sort()\n",
    "\n",
    "            y = pbt.BedTool.from_dataframe(genes)\n",
    "            y = y.sort()\n",
    "            closest_gene = x.closest(y, k =1, d = True).to_dataframe(disable_auto_names=True, header=None)\n",
    "            closest_gene.rename(columns={closest_gene.columns[11]:\"dist\"}, inplace = True)\n",
    "            closest_gene.to_csv(os.path.join(diffpeaks_path, tool, \"closestGenes2Peaks\", os.path.basename(file)), sep = \"\\t\", header = None, index = False)\n",
    "        except:\n",
    "            print(file)\n",
    "            print(\"0 sig\")\n",
    " "
   ]
  },
  {
   "cell_type": "code",
   "execution_count": null,
   "id": "e8a7bb92",
   "metadata": {},
   "outputs": [],
   "source": []
  },
  {
   "cell_type": "code",
   "execution_count": null,
   "id": "d2afb5a5",
   "metadata": {},
   "outputs": [],
   "source": []
  }
 ],
 "metadata": {
  "kernelspec": {
   "display_name": "SSH minimus matplotlib3_py3.8",
   "language": "",
   "name": "rik_ssh_maximus_matplotlib3_py38"
  },
  "language_info": {
   "codemirror_mode": {
    "name": "ipython",
    "version": 3
   },
   "file_extension": ".py",
   "mimetype": "text/x-python",
   "name": "python",
   "nbconvert_exporter": "python",
   "pygments_lexer": "ipython3",
   "version": "3.8.0"
  }
 },
 "nbformat": 4,
 "nbformat_minor": 5
}
