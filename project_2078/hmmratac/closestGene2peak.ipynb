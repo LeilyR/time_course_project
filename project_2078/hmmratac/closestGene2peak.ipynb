{
 "cells": [
  {
   "cell_type": "code",
   "execution_count": 1,
   "id": "16652b17",
   "metadata": {},
   "outputs": [],
   "source": [
    "# find the closest genes to diff peaks\n",
    "# Note: a yaml file of the used conda env is uploaded to the same github repo"
   ]
  },
  {
   "cell_type": "code",
   "execution_count": 2,
   "id": "f1c8e064",
   "metadata": {},
   "outputs": [
    {
     "data": {
      "text/plain": [
       "<module 'pybedtools' from '/localenv/rabbani/anaconda/miniconda3/envs/matplotlib/lib/python3.8/site-packages/pybedtools/__init__.py'>"
      ]
     },
     "execution_count": 2,
     "metadata": {},
     "output_type": "execute_result"
    }
   ],
   "source": [
    "import os \n",
    "import pandas as pd\n",
    "import glob\n",
    "import pybedtools as pbt\n",
    "import importlib\n",
    "pbt.set_bedtools_path(\"/localenv/rabbani/anaconda/miniconda3/envs/matplotlib/bin/\")\n",
    "importlib.reload(pbt)"
   ]
  },
  {
   "cell_type": "code",
   "execution_count": 3,
   "id": "7cbc54e2",
   "metadata": {},
   "outputs": [],
   "source": [
    "peaks_path = os.path.join(\"/data/akhtar/group2/rabbani/atac_project2078/hmmratac/ocrs\")\n",
    "diffpeaks_path = os.path.join(\"/data/akhtar/group2/rabbani/atac_project2078/hmmratac/pairwise_comparison/wo_hiCov\")"
   ]
  },
  {
   "cell_type": "code",
   "execution_count": 4,
   "id": "62f09fe9",
   "metadata": {},
   "outputs": [
    {
     "name": "stderr",
     "output_type": "stream",
     "text": [
      "/localenv/rabbani/anaconda/miniconda3/envs/matplotlib/lib/python3.8/site-packages/IPython/core/interactiveshell.py:3444: DtypeWarning: Columns (0) have mixed types.Specify dtype option on import or set low_memory=False.\n",
      "  exec(code_obj, self.user_global_ns, self.user_ns)\n"
     ]
    },
    {
     "name": "stdout",
     "output_type": "stream",
     "text": [
      "  0_x      1_x      2_x                     3  4  5                   1_y  \\\n",
      "0   1  3073252  3074322  ENSMUST00000193812.1  0  +  ENSMUSG00000102693.1   \n",
      "1   1  3102015  3102125  ENSMUST00000082908.1  0  +  ENSMUSG00000064842.1   \n",
      "2   1  3205900  3216344  ENSMUST00000162897.1  0  -  ENSMUSG00000051951.5   \n",
      "3   1  3206522  3215632  ENSMUST00000159265.1  0  -  ENSMUSG00000051951.5   \n",
      "4   1  3214481  3671498  ENSMUST00000070533.4  0  -  ENSMUSG00000051951.5   \n",
      "\n",
      "             2_y  \n",
      "0  4933401J01Rik  \n",
      "1        Gm26206  \n",
      "2           Xkr4  \n",
      "3           Xkr4  \n",
      "4           Xkr4  \n"
     ]
    }
   ],
   "source": [
    "genes = pd.read_csv(\"/data/repository/organisms/GRCm38_ensembl/gencode/m9/genes.bed\", sep = \"\\t\", header = None)\n",
    "t2g = pd.read_csv(\"/data/akhtar/sequencing_data3/211215_A00931_0395_AHLVKTDRXY/Analysis_2129_Chen_Akhtar/strandedmRNA-Seq_mouse/Annotation/genes.filtered.t2g\", sep = \"\\t\", header = None)\n",
    "genes = genes.merge(t2g, how = \"inner\", left_on = 3, right_on = 0)[['0_x', '1_x', '2_x', 3, 4, 5, '1_y', '2_y']]\n",
    "print(genes.head())"
   ]
  },
  {
   "cell_type": "code",
   "execution_count": 5,
   "id": "13f11da9",
   "metadata": {},
   "outputs": [],
   "source": [
    "# closest transcripts to deseq pairwise comparisons"
   ]
  },
  {
   "cell_type": "code",
   "execution_count": 6,
   "id": "0b1352de",
   "metadata": {
    "collapsed": true,
    "jupyter": {
     "outputs_hidden": true
    }
   },
   "outputs": [
    {
     "name": "stderr",
     "output_type": "stream",
     "text": [
      "***** WARNING: File /tmp/pybedtools.6k8bz8ku.tmp has inconsistent naming convention for record:\n",
      "CHR_MG153_PATCH\t21421\t23936\tENSMUST00000180480.3\t0\t-\tENSMUSG00000097830.3\tGstp1\n",
      "\n",
      "***** WARNING: File /tmp/pybedtools.6k8bz8ku.tmp has inconsistent naming convention for record:\n",
      "CHR_MG153_PATCH\t21421\t23936\tENSMUST00000180480.3\t0\t-\tENSMUSG00000097830.3\tGstp1\n",
      "\n"
     ]
    },
    {
     "name": "stdout",
     "output_type": "stream",
     "text": [
      "/data/akhtar/group2/rabbani/atac_project2078/hmmratac/pairwise_comparison/wo_hiCov/deseq2/Vector_LPS12_vs_WT_LPS12.bed\n",
      "0 sig\n",
      "/data/akhtar/group2/rabbani/atac_project2078/hmmratac/pairwise_comparison/wo_hiCov/deseq2/K197Q_LPS12_vs_WT_LPS12.bed\n",
      "0 sig\n"
     ]
    },
    {
     "name": "stderr",
     "output_type": "stream",
     "text": [
      "***** WARNING: File /tmp/pybedtools.fpmi5fjb.tmp has inconsistent naming convention for record:\n",
      "CHR_MG153_PATCH\t21421\t23936\tENSMUST00000180480.3\t0\t-\tENSMUSG00000097830.3\tGstp1\n",
      "\n",
      "***** WARNING: File /tmp/pybedtools.fpmi5fjb.tmp has inconsistent naming convention for record:\n",
      "CHR_MG153_PATCH\t21421\t23936\tENSMUST00000180480.3\t0\t-\tENSMUSG00000097830.3\tGstp1\n",
      "\n"
     ]
    },
    {
     "name": "stdout",
     "output_type": "stream",
     "text": [
      "/data/akhtar/group2/rabbani/atac_project2078/hmmratac/pairwise_comparison/wo_hiCov/deseq2/K197Q_LPS3_vs_K197R_LPS3.bed\n",
      "0 sig\n"
     ]
    },
    {
     "name": "stderr",
     "output_type": "stream",
     "text": [
      "***** WARNING: File /tmp/pybedtools.7ey4tadc.tmp has inconsistent naming convention for record:\n",
      "CHR_MG153_PATCH\t21421\t23936\tENSMUST00000180480.3\t0\t-\tENSMUSG00000097830.3\tGstp1\n",
      "\n",
      "***** WARNING: File /tmp/pybedtools.7ey4tadc.tmp has inconsistent naming convention for record:\n",
      "CHR_MG153_PATCH\t21421\t23936\tENSMUST00000180480.3\t0\t-\tENSMUSG00000097830.3\tGstp1\n",
      "\n"
     ]
    },
    {
     "name": "stdout",
     "output_type": "stream",
     "text": [
      "/data/akhtar/group2/rabbani/atac_project2078/hmmratac/pairwise_comparison/wo_hiCov/edgeR/kqkr_3.bed\n",
      "0 sig\n",
      "/data/akhtar/group2/rabbani/atac_project2078/hmmratac/pairwise_comparison/wo_hiCov/edgeR/krwt_3.bed\n",
      "0 sig\n",
      "/data/akhtar/group2/rabbani/atac_project2078/hmmratac/pairwise_comparison/wo_hiCov/edgeR/kqkr_12.bed\n",
      "0 sig\n",
      "/data/akhtar/group2/rabbani/atac_project2078/hmmratac/pairwise_comparison/wo_hiCov/edgeR/kqwt_12.bed\n",
      "0 sig\n",
      "/data/akhtar/group2/rabbani/atac_project2078/hmmratac/pairwise_comparison/wo_hiCov/edgeR/kr3_0.bed\n",
      "0 sig\n",
      "/data/akhtar/group2/rabbani/atac_project2078/hmmratac/pairwise_comparison/wo_hiCov/edgeR/kr12_0.bed\n",
      "0 sig\n",
      "/data/akhtar/group2/rabbani/atac_project2078/hmmratac/pairwise_comparison/wo_hiCov/edgeR/kq3_0.bed\n",
      "0 sig\n",
      "/data/akhtar/group2/rabbani/atac_project2078/hmmratac/pairwise_comparison/wo_hiCov/edgeR/kqwt_3.bed\n",
      "0 sig\n",
      "/data/akhtar/group2/rabbani/atac_project2078/hmmratac/pairwise_comparison/wo_hiCov/edgeR/krwt_12.bed\n",
      "0 sig\n",
      "/data/akhtar/group2/rabbani/atac_project2078/hmmratac/pairwise_comparison/wo_hiCov/edgeR/kq12_3.bed\n",
      "0 sig\n",
      "/data/akhtar/group2/rabbani/atac_project2078/hmmratac/pairwise_comparison/wo_hiCov/edgeR/kqkr_0.bed\n",
      "0 sig\n"
     ]
    }
   ],
   "source": [
    "\n",
    "for tool in ['deseq2', 'edgeR']:\n",
    "    for file in glob.glob(os.path.join(diffpeaks_path, tool, \"*.bed\")):\n",
    "        try:\n",
    "            df = pd.read_csv(file, sep = \"\\t\", header = None)\n",
    "            x = pbt.BedTool.from_dataframe(df)\n",
    "            x = x.sort()\n",
    "\n",
    "            y = pbt.BedTool.from_dataframe(genes)\n",
    "            y = y.sort()\n",
    "            closest_gene = x.closest(y, k =1, d = True).to_dataframe(disable_auto_names=True, header=None)\n",
    "            closest_gene.rename(columns={closest_gene.columns[11]:\"dist\"}, inplace = True)\n",
    "            closest_gene.to_csv(os.path.join(diffpeaks_path, tool, \"closestGenes2Peaks\", os.path.basename(file)), sep = \"\\t\", header = None, index = False)\n",
    "        except:\n",
    "            print(file)\n",
    "            print(\"0 sig\")\n",
    " "
   ]
  },
  {
   "cell_type": "code",
   "execution_count": 7,
   "id": "f57b32f1",
   "metadata": {},
   "outputs": [],
   "source": [
    "# find closest genes of all peaks of each samples add them as tsv file under the ocrs folder"
   ]
  },
  {
   "cell_type": "code",
   "execution_count": 8,
   "id": "8387f5b5",
   "metadata": {
    "collapsed": true,
    "jupyter": {
     "outputs_hidden": true
    }
   },
   "outputs": [
    {
     "name": "stderr",
     "output_type": "stream",
     "text": [
      "***** WARNING: File /tmp/pybedtools.h73vaspf.tmp has inconsistent naming convention for record:\n",
      "CHR_MG153_PATCH\t21421\t23936\tENSMUST00000180480.3\t0\t-\tENSMUSG00000097830.3\tGstp1\n",
      "\n",
      "***** WARNING: File /tmp/pybedtools.h73vaspf.tmp has inconsistent naming convention for record:\n",
      "CHR_MG153_PATCH\t21421\t23936\tENSMUST00000180480.3\t0\t-\tENSMUSG00000097830.3\tGstp1\n",
      "\n",
      "/tmp/ipykernel_89815/856984820.py:9: DtypeWarning: Columns (0,4,8) have mixed types.Specify dtype option on import or set low_memory=False.\n",
      "  closest_gene = x.closest(y, k =1, d = True).to_dataframe(disable_auto_names=True, header=None)\n",
      "***** WARNING: File /tmp/pybedtools.pgqrayjz.tmp has inconsistent naming convention for record:\n",
      "CHR_MG153_PATCH\t21421\t23936\tENSMUST00000180480.3\t0\t-\tENSMUSG00000097830.3\tGstp1\n",
      "\n",
      "***** WARNING: File /tmp/pybedtools.pgqrayjz.tmp has inconsistent naming convention for record:\n",
      "CHR_MG153_PATCH\t21421\t23936\tENSMUST00000180480.3\t0\t-\tENSMUSG00000097830.3\tGstp1\n",
      "\n",
      "***** WARNING: File /tmp/pybedtools.ysrthr33.tmp has inconsistent naming convention for record:\n",
      "CHR_MG153_PATCH\t21421\t23936\tENSMUST00000180480.3\t0\t-\tENSMUSG00000097830.3\tGstp1\n",
      "\n",
      "***** WARNING: File /tmp/pybedtools.ysrthr33.tmp has inconsistent naming convention for record:\n",
      "CHR_MG153_PATCH\t21421\t23936\tENSMUST00000180480.3\t0\t-\tENSMUSG00000097830.3\tGstp1\n",
      "\n",
      "***** WARNING: File /tmp/pybedtools.qxyqz6tm.tmp has inconsistent naming convention for record:\n",
      "CHR_MG153_PATCH\t21421\t23936\tENSMUST00000180480.3\t0\t-\tENSMUSG00000097830.3\tGstp1\n",
      "\n",
      "***** WARNING: File /tmp/pybedtools.qxyqz6tm.tmp has inconsistent naming convention for record:\n",
      "CHR_MG153_PATCH\t21421\t23936\tENSMUST00000180480.3\t0\t-\tENSMUSG00000097830.3\tGstp1\n",
      "\n",
      "***** WARNING: File /tmp/pybedtools.1ruazler.tmp has inconsistent naming convention for record:\n",
      "CHR_MG153_PATCH\t21421\t23936\tENSMUST00000180480.3\t0\t-\tENSMUSG00000097830.3\tGstp1\n",
      "\n",
      "***** WARNING: File /tmp/pybedtools.1ruazler.tmp has inconsistent naming convention for record:\n",
      "CHR_MG153_PATCH\t21421\t23936\tENSMUST00000180480.3\t0\t-\tENSMUSG00000097830.3\tGstp1\n",
      "\n",
      "***** WARNING: File /tmp/pybedtools.1i8n5k49.tmp has inconsistent naming convention for record:\n",
      "CHR_MG153_PATCH\t21421\t23936\tENSMUST00000180480.3\t0\t-\tENSMUSG00000097830.3\tGstp1\n",
      "\n",
      "***** WARNING: File /tmp/pybedtools.1i8n5k49.tmp has inconsistent naming convention for record:\n",
      "CHR_MG153_PATCH\t21421\t23936\tENSMUST00000180480.3\t0\t-\tENSMUSG00000097830.3\tGstp1\n",
      "\n",
      "***** WARNING: File /tmp/pybedtools.q3ta5ifk.tmp has inconsistent naming convention for record:\n",
      "CHR_MG153_PATCH\t21421\t23936\tENSMUST00000180480.3\t0\t-\tENSMUSG00000097830.3\tGstp1\n",
      "\n",
      "***** WARNING: File /tmp/pybedtools.q3ta5ifk.tmp has inconsistent naming convention for record:\n",
      "CHR_MG153_PATCH\t21421\t23936\tENSMUST00000180480.3\t0\t-\tENSMUSG00000097830.3\tGstp1\n",
      "\n",
      "***** WARNING: File /tmp/pybedtools.q5ivowo9.tmp has inconsistent naming convention for record:\n",
      "CHR_MG153_PATCH\t21421\t23936\tENSMUST00000180480.3\t0\t-\tENSMUSG00000097830.3\tGstp1\n",
      "\n",
      "***** WARNING: File /tmp/pybedtools.q5ivowo9.tmp has inconsistent naming convention for record:\n",
      "CHR_MG153_PATCH\t21421\t23936\tENSMUST00000180480.3\t0\t-\tENSMUSG00000097830.3\tGstp1\n",
      "\n",
      "/tmp/ipykernel_89815/856984820.py:9: DtypeWarning: Columns (0,4) have mixed types.Specify dtype option on import or set low_memory=False.\n",
      "  closest_gene = x.closest(y, k =1, d = True).to_dataframe(disable_auto_names=True, header=None)\n",
      "***** WARNING: File /tmp/pybedtools.sj0htltu.tmp has inconsistent naming convention for record:\n",
      "CHR_MG153_PATCH\t21421\t23936\tENSMUST00000180480.3\t0\t-\tENSMUSG00000097830.3\tGstp1\n",
      "\n",
      "***** WARNING: File /tmp/pybedtools.sj0htltu.tmp has inconsistent naming convention for record:\n",
      "CHR_MG153_PATCH\t21421\t23936\tENSMUST00000180480.3\t0\t-\tENSMUSG00000097830.3\tGstp1\n",
      "\n",
      "***** WARNING: File /tmp/pybedtools.bun7yvsm.tmp has inconsistent naming convention for record:\n",
      "CHR_MG153_PATCH\t21421\t23936\tENSMUST00000180480.3\t0\t-\tENSMUSG00000097830.3\tGstp1\n",
      "\n",
      "***** WARNING: File /tmp/pybedtools.bun7yvsm.tmp has inconsistent naming convention for record:\n",
      "CHR_MG153_PATCH\t21421\t23936\tENSMUST00000180480.3\t0\t-\tENSMUSG00000097830.3\tGstp1\n",
      "\n",
      "***** WARNING: File /tmp/pybedtools.pibab53p.tmp has inconsistent naming convention for record:\n",
      "CHR_MG153_PATCH\t21421\t23936\tENSMUST00000180480.3\t0\t-\tENSMUSG00000097830.3\tGstp1\n",
      "\n",
      "***** WARNING: File /tmp/pybedtools.pibab53p.tmp has inconsistent naming convention for record:\n",
      "CHR_MG153_PATCH\t21421\t23936\tENSMUST00000180480.3\t0\t-\tENSMUSG00000097830.3\tGstp1\n",
      "\n",
      "***** WARNING: File /tmp/pybedtools.dr0up5ec.tmp has inconsistent naming convention for record:\n",
      "CHR_MG153_PATCH\t21421\t23936\tENSMUST00000180480.3\t0\t-\tENSMUSG00000097830.3\tGstp1\n",
      "\n",
      "***** WARNING: File /tmp/pybedtools.dr0up5ec.tmp has inconsistent naming convention for record:\n",
      "CHR_MG153_PATCH\t21421\t23936\tENSMUST00000180480.3\t0\t-\tENSMUSG00000097830.3\tGstp1\n",
      "\n",
      "***** WARNING: File /tmp/pybedtools.9qpio90u.tmp has inconsistent naming convention for record:\n",
      "CHR_MG153_PATCH\t21421\t23936\tENSMUST00000180480.3\t0\t-\tENSMUSG00000097830.3\tGstp1\n",
      "\n",
      "***** WARNING: File /tmp/pybedtools.9qpio90u.tmp has inconsistent naming convention for record:\n",
      "CHR_MG153_PATCH\t21421\t23936\tENSMUST00000180480.3\t0\t-\tENSMUSG00000097830.3\tGstp1\n",
      "\n",
      "***** WARNING: File /tmp/pybedtools.9mmhebnp.tmp has inconsistent naming convention for record:\n",
      "CHR_MG153_PATCH\t21421\t23936\tENSMUST00000180480.3\t0\t-\tENSMUSG00000097830.3\tGstp1\n",
      "\n",
      "***** WARNING: File /tmp/pybedtools.9mmhebnp.tmp has inconsistent naming convention for record:\n",
      "CHR_MG153_PATCH\t21421\t23936\tENSMUST00000180480.3\t0\t-\tENSMUSG00000097830.3\tGstp1\n",
      "\n",
      "***** WARNING: File /tmp/pybedtools.0jf417n5.tmp has inconsistent naming convention for record:\n",
      "CHR_MG153_PATCH\t21421\t23936\tENSMUST00000180480.3\t0\t-\tENSMUSG00000097830.3\tGstp1\n",
      "\n",
      "***** WARNING: File /tmp/pybedtools.0jf417n5.tmp has inconsistent naming convention for record:\n",
      "CHR_MG153_PATCH\t21421\t23936\tENSMUST00000180480.3\t0\t-\tENSMUSG00000097830.3\tGstp1\n",
      "\n",
      "***** WARNING: File /tmp/pybedtools.0hey0rqi.tmp has inconsistent naming convention for record:\n",
      "CHR_MG153_PATCH\t21421\t23936\tENSMUST00000180480.3\t0\t-\tENSMUSG00000097830.3\tGstp1\n",
      "\n",
      "***** WARNING: File /tmp/pybedtools.0hey0rqi.tmp has inconsistent naming convention for record:\n",
      "CHR_MG153_PATCH\t21421\t23936\tENSMUST00000180480.3\t0\t-\tENSMUSG00000097830.3\tGstp1\n",
      "\n",
      "***** WARNING: File /tmp/pybedtools.3dap6k_a.tmp has inconsistent naming convention for record:\n",
      "CHR_MG153_PATCH\t21421\t23936\tENSMUST00000180480.3\t0\t-\tENSMUSG00000097830.3\tGstp1\n",
      "\n",
      "***** WARNING: File /tmp/pybedtools.3dap6k_a.tmp has inconsistent naming convention for record:\n",
      "CHR_MG153_PATCH\t21421\t23936\tENSMUST00000180480.3\t0\t-\tENSMUSG00000097830.3\tGstp1\n",
      "\n",
      "***** WARNING: File /tmp/pybedtools.4iors0uz.tmp has inconsistent naming convention for record:\n",
      "CHR_MG153_PATCH\t21421\t23936\tENSMUST00000180480.3\t0\t-\tENSMUSG00000097830.3\tGstp1\n",
      "\n",
      "***** WARNING: File /tmp/pybedtools.4iors0uz.tmp has inconsistent naming convention for record:\n",
      "CHR_MG153_PATCH\t21421\t23936\tENSMUST00000180480.3\t0\t-\tENSMUSG00000097830.3\tGstp1\n",
      "\n",
      "***** WARNING: File /tmp/pybedtools.d_yk1dv_.tmp has inconsistent naming convention for record:\n",
      "CHR_MG153_PATCH\t21421\t23936\tENSMUST00000180480.3\t0\t-\tENSMUSG00000097830.3\tGstp1\n",
      "\n",
      "***** WARNING: File /tmp/pybedtools.d_yk1dv_.tmp has inconsistent naming convention for record:\n",
      "CHR_MG153_PATCH\t21421\t23936\tENSMUST00000180480.3\t0\t-\tENSMUSG00000097830.3\tGstp1\n",
      "\n",
      "***** WARNING: File /tmp/pybedtools.u_yux2op.tmp has inconsistent naming convention for record:\n",
      "CHR_MG153_PATCH\t21421\t23936\tENSMUST00000180480.3\t0\t-\tENSMUSG00000097830.3\tGstp1\n",
      "\n",
      "***** WARNING: File /tmp/pybedtools.u_yux2op.tmp has inconsistent naming convention for record:\n",
      "CHR_MG153_PATCH\t21421\t23936\tENSMUST00000180480.3\t0\t-\tENSMUSG00000097830.3\tGstp1\n",
      "\n",
      "***** WARNING: File /tmp/pybedtools.qs182boh.tmp has inconsistent naming convention for record:\n",
      "CHR_MG153_PATCH\t21421\t23936\tENSMUST00000180480.3\t0\t-\tENSMUSG00000097830.3\tGstp1\n",
      "\n",
      "***** WARNING: File /tmp/pybedtools.qs182boh.tmp has inconsistent naming convention for record:\n",
      "CHR_MG153_PATCH\t21421\t23936\tENSMUST00000180480.3\t0\t-\tENSMUSG00000097830.3\tGstp1\n",
      "\n",
      "***** WARNING: File /tmp/pybedtools.0u9pdj06.tmp has inconsistent naming convention for record:\n",
      "CHR_MG153_PATCH\t21421\t23936\tENSMUST00000180480.3\t0\t-\tENSMUSG00000097830.3\tGstp1\n",
      "\n",
      "***** WARNING: File /tmp/pybedtools.0u9pdj06.tmp has inconsistent naming convention for record:\n",
      "CHR_MG153_PATCH\t21421\t23936\tENSMUST00000180480.3\t0\t-\tENSMUSG00000097830.3\tGstp1\n",
      "\n",
      "***** WARNING: File /tmp/pybedtools.k8n5ri0p.tmp has inconsistent naming convention for record:\n",
      "CHR_MG153_PATCH\t21421\t23936\tENSMUST00000180480.3\t0\t-\tENSMUSG00000097830.3\tGstp1\n",
      "\n",
      "***** WARNING: File /tmp/pybedtools.k8n5ri0p.tmp has inconsistent naming convention for record:\n",
      "CHR_MG153_PATCH\t21421\t23936\tENSMUST00000180480.3\t0\t-\tENSMUSG00000097830.3\tGstp1\n",
      "\n",
      "***** WARNING: File /tmp/pybedtools.pfesim_b.tmp has inconsistent naming convention for record:\n",
      "CHR_MG153_PATCH\t21421\t23936\tENSMUST00000180480.3\t0\t-\tENSMUSG00000097830.3\tGstp1\n",
      "\n",
      "***** WARNING: File /tmp/pybedtools.pfesim_b.tmp has inconsistent naming convention for record:\n",
      "CHR_MG153_PATCH\t21421\t23936\tENSMUST00000180480.3\t0\t-\tENSMUSG00000097830.3\tGstp1\n",
      "\n",
      "***** WARNING: File /tmp/pybedtools.5iqbnd1p.tmp has inconsistent naming convention for record:\n",
      "CHR_MG153_PATCH\t21421\t23936\tENSMUST00000180480.3\t0\t-\tENSMUSG00000097830.3\tGstp1\n",
      "\n",
      "***** WARNING: File /tmp/pybedtools.5iqbnd1p.tmp has inconsistent naming convention for record:\n",
      "CHR_MG153_PATCH\t21421\t23936\tENSMUST00000180480.3\t0\t-\tENSMUSG00000097830.3\tGstp1\n",
      "\n",
      "***** WARNING: File /tmp/pybedtools.t12c517g.tmp has inconsistent naming convention for record:\n",
      "CHR_MG153_PATCH\t21421\t23936\tENSMUST00000180480.3\t0\t-\tENSMUSG00000097830.3\tGstp1\n",
      "\n",
      "***** WARNING: File /tmp/pybedtools.t12c517g.tmp has inconsistent naming convention for record:\n",
      "CHR_MG153_PATCH\t21421\t23936\tENSMUST00000180480.3\t0\t-\tENSMUSG00000097830.3\tGstp1\n",
      "\n",
      "***** WARNING: File /tmp/pybedtools.0z4t0pnf.tmp has inconsistent naming convention for record:\n",
      "CHR_MG153_PATCH\t21421\t23936\tENSMUST00000180480.3\t0\t-\tENSMUSG00000097830.3\tGstp1\n",
      "\n",
      "***** WARNING: File /tmp/pybedtools.0z4t0pnf.tmp has inconsistent naming convention for record:\n",
      "CHR_MG153_PATCH\t21421\t23936\tENSMUST00000180480.3\t0\t-\tENSMUSG00000097830.3\tGstp1\n",
      "\n",
      "***** WARNING: File /tmp/pybedtools.lz0t0eed.tmp has inconsistent naming convention for record:\n",
      "CHR_MG153_PATCH\t21421\t23936\tENSMUST00000180480.3\t0\t-\tENSMUSG00000097830.3\tGstp1\n",
      "\n",
      "***** WARNING: File /tmp/pybedtools.lz0t0eed.tmp has inconsistent naming convention for record:\n",
      "CHR_MG153_PATCH\t21421\t23936\tENSMUST00000180480.3\t0\t-\tENSMUSG00000097830.3\tGstp1\n",
      "\n",
      "***** WARNING: File /tmp/pybedtools.rzfwfd0i.tmp has inconsistent naming convention for record:\n",
      "CHR_MG153_PATCH\t21421\t23936\tENSMUST00000180480.3\t0\t-\tENSMUSG00000097830.3\tGstp1\n",
      "\n",
      "***** WARNING: File /tmp/pybedtools.rzfwfd0i.tmp has inconsistent naming convention for record:\n",
      "CHR_MG153_PATCH\t21421\t23936\tENSMUST00000180480.3\t0\t-\tENSMUSG00000097830.3\tGstp1\n",
      "\n",
      "***** WARNING: File /tmp/pybedtools.eb72e3ns.tmp has inconsistent naming convention for record:\n",
      "CHR_MG153_PATCH\t21421\t23936\tENSMUST00000180480.3\t0\t-\tENSMUSG00000097830.3\tGstp1\n",
      "\n",
      "***** WARNING: File /tmp/pybedtools.eb72e3ns.tmp has inconsistent naming convention for record:\n",
      "CHR_MG153_PATCH\t21421\t23936\tENSMUST00000180480.3\t0\t-\tENSMUSG00000097830.3\tGstp1\n",
      "\n",
      "***** WARNING: File /tmp/pybedtools.gf3as_tn.tmp has inconsistent naming convention for record:\n",
      "CHR_MG153_PATCH\t21421\t23936\tENSMUST00000180480.3\t0\t-\tENSMUSG00000097830.3\tGstp1\n",
      "\n",
      "***** WARNING: File /tmp/pybedtools.gf3as_tn.tmp has inconsistent naming convention for record:\n",
      "CHR_MG153_PATCH\t21421\t23936\tENSMUST00000180480.3\t0\t-\tENSMUSG00000097830.3\tGstp1\n",
      "\n",
      "***** WARNING: File /tmp/pybedtools.zd07b1ec.tmp has inconsistent naming convention for record:\n",
      "CHR_MG153_PATCH\t21421\t23936\tENSMUST00000180480.3\t0\t-\tENSMUSG00000097830.3\tGstp1\n",
      "\n",
      "***** WARNING: File /tmp/pybedtools.zd07b1ec.tmp has inconsistent naming convention for record:\n",
      "CHR_MG153_PATCH\t21421\t23936\tENSMUST00000180480.3\t0\t-\tENSMUSG00000097830.3\tGstp1\n",
      "\n",
      "***** WARNING: File /tmp/pybedtools.st91s13r.tmp has inconsistent naming convention for record:\n",
      "CHR_MG153_PATCH\t21421\t23936\tENSMUST00000180480.3\t0\t-\tENSMUSG00000097830.3\tGstp1\n",
      "\n",
      "***** WARNING: File /tmp/pybedtools.st91s13r.tmp has inconsistent naming convention for record:\n",
      "CHR_MG153_PATCH\t21421\t23936\tENSMUST00000180480.3\t0\t-\tENSMUSG00000097830.3\tGstp1\n",
      "\n",
      "***** WARNING: File /tmp/pybedtools.2fza8275.tmp has inconsistent naming convention for record:\n",
      "CHR_MG153_PATCH\t21421\t23936\tENSMUST00000180480.3\t0\t-\tENSMUSG00000097830.3\tGstp1\n",
      "\n",
      "***** WARNING: File /tmp/pybedtools.2fza8275.tmp has inconsistent naming convention for record:\n",
      "CHR_MG153_PATCH\t21421\t23936\tENSMUST00000180480.3\t0\t-\tENSMUSG00000097830.3\tGstp1\n",
      "\n",
      "***** WARNING: File /tmp/pybedtools.4rcncxgd.tmp has inconsistent naming convention for record:\n",
      "CHR_MG153_PATCH\t21421\t23936\tENSMUST00000180480.3\t0\t-\tENSMUSG00000097830.3\tGstp1\n",
      "\n",
      "***** WARNING: File /tmp/pybedtools.4rcncxgd.tmp has inconsistent naming convention for record:\n",
      "CHR_MG153_PATCH\t21421\t23936\tENSMUST00000180480.3\t0\t-\tENSMUSG00000097830.3\tGstp1\n",
      "\n",
      "***** WARNING: File /tmp/pybedtools.eldkzqls.tmp has inconsistent naming convention for record:\n",
      "CHR_MG153_PATCH\t21421\t23936\tENSMUST00000180480.3\t0\t-\tENSMUSG00000097830.3\tGstp1\n",
      "\n",
      "***** WARNING: File /tmp/pybedtools.eldkzqls.tmp has inconsistent naming convention for record:\n",
      "CHR_MG153_PATCH\t21421\t23936\tENSMUST00000180480.3\t0\t-\tENSMUSG00000097830.3\tGstp1\n",
      "\n"
     ]
    }
   ],
   "source": [
    "for file in glob.glob(os.path.join(peaks_path, \"*.bed\")):\n",
    "        try:\n",
    "            df = pd.read_csv(file, sep = \"\\t\", header = None)\n",
    "            x = pbt.BedTool.from_dataframe(df)\n",
    "            x = x.sort()\n",
    "\n",
    "            y = pbt.BedTool.from_dataframe(genes)\n",
    "            y = y.sort()\n",
    "            closest_gene = x.closest(y, k =1, d = True).to_dataframe(disable_auto_names=True, header=None)\n",
    "            closest_gene.rename(columns={closest_gene.columns[11]:\"dist\"}, inplace = True)\n",
    "            closest_gene.to_csv(os.path.join(peaks_path, \"closestGenes2Peaks\", os.path.basename(file)), sep = \"\\t\", header = None, index = False)\n",
    "        except:\n",
    "            print(file)\n",
    "            print(\"0 sig\")"
   ]
  },
  {
   "cell_type": "code",
   "execution_count": null,
   "id": "8b3e80ef",
   "metadata": {},
   "outputs": [],
   "source": []
  },
  {
   "cell_type": "code",
   "execution_count": null,
   "id": "537eb525",
   "metadata": {},
   "outputs": [],
   "source": []
  }
 ],
 "metadata": {
  "kernelspec": {
   "display_name": "SSH minimus matplotlib3_py3.8",
   "language": "",
   "name": "rik_ssh_maximus_matplotlib3_py38"
  },
  "language_info": {
   "codemirror_mode": {
    "name": "ipython",
    "version": 3
   },
   "file_extension": ".py",
   "mimetype": "text/x-python",
   "name": "python",
   "nbconvert_exporter": "python",
   "pygments_lexer": "ipython3",
   "version": "3.8.0"
  }
 },
 "nbformat": 4,
 "nbformat_minor": 5
}
