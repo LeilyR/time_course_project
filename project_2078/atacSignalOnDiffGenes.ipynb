{
 "cells": [
  {
   "cell_type": "code",
   "execution_count": 1,
   "id": "98649cc8",
   "metadata": {},
   "outputs": [],
   "source": [
    "import os\n",
    "import glob\n",
    "import subprocess as sp\n",
    "import pandas as pd\n",
    "import numpy as np"
   ]
  },
  {
   "cell_type": "code",
   "execution_count": 2,
   "id": "f3974ef5",
   "metadata": {},
   "outputs": [],
   "source": [
    "root = os.path.join(\"/data/manke/group/rabbani/atac_project2078/\")\n",
    "bw_path = os.path.join(root, \"atac_pipeline_merged_bam\", \"BigWigs\")\n",
    "rna_path = os.path.join(\"/data/akhtar/group2/rabbani/rna_project2129/pairwise_comparison_wo_zeros\")\n",
    "output_path = os.path.join(\"/data/akhtar/group2/rabbani/atac_project2078/plots\")"
   ]
  },
  {
   "cell_type": "code",
   "execution_count": 3,
   "id": "558ebb49",
   "metadata": {
    "collapsed": true,
    "jupyter": {
     "outputs_hidden": true
    }
   },
   "outputs": [
    {
     "name": "stderr",
     "output_type": "stream",
     "text": [
      "/localenv/rabbani/anaconda/miniconda3/envs/matplotlib/lib/python3.8/site-packages/IPython/core/interactiveshell.py:3444: DtypeWarning: Columns (0) have mixed types.Specify dtype option on import or set low_memory=False.\n",
      "  exec(code_obj, self.user_global_ns, self.user_ns)\n"
     ]
    },
    {
     "name": "stdout",
     "output_type": "stream",
     "text": [
      "                  GeneID     baseMean  log2FoldChange     lfcSE      stat  \\\n",
      "0   ENSMUSG00000108365.1    11.316024        1.944718  0.871289  2.232002   \n",
      "1  ENSMUSG00000033632.15   437.496242       -0.001246  0.083726 -0.014887   \n",
      "2   ENSMUSG00000078314.2     7.868302       -0.033810  0.573842 -0.058918   \n",
      "3  ENSMUSG00000021668.14  1454.583425        0.047710  0.062908  0.758413   \n",
      "4  ENSMUSG00000022329.14  2422.361965       -0.024019  0.043861 -0.547622   \n",
      "\n",
      "     pvalue  padj Status external_gene_name   0         3         4  \\\n",
      "0  0.025615   NaN   None       RP24-174G2.2   7  80036705  80038728   \n",
      "1  0.988122   NaN   None           AW554918  18  25168999  25467321   \n",
      "2  0.953017   NaN   None            Gm14762   X  85825892  85834831   \n",
      "3  0.448204   NaN   None               Polk  13  96480689  96542485   \n",
      "4  0.583951   NaN   None               Stk3  15  34875496  35155806   \n",
      "\n",
      "                       8  5  6  \n",
      "0   ENSMUSG00000108365.1  .  +  \n",
      "1  ENSMUSG00000033632.15  .  +  \n",
      "2   ENSMUSG00000078314.2  .  +  \n",
      "3  ENSMUSG00000021668.14  .  -  \n",
      "4  ENSMUSG00000022329.14  .  -  \n"
     ]
    }
   ],
   "source": [
    "# make bed file\n",
    "gene_coord = os.path.join(\"/data/manke/group/rabbani/rna_project2129/genes.filtered.gtf\")\n",
    "gene_coord = pd.read_csv(gene_coord, sep = \"\\t\", header = None, comment = \"#\")\n",
    "gene_coord = gene_coord.loc[gene_coord[2] == \"gene\"]\n",
    "gene_coord[8] = gene_coord[8].str.split('\"', 2, expand=True)[1]\n",
    "gene_coord = gene_coord[[0,3,4,8,5,6]]\n",
    "os.makedirs(os.path.join(rna_path, \"beds\"), exist_ok= True)\n",
    "# Make UP and DOWN bed files per time point\n",
    "for time in ['LPS0', 'LPS3', 'LPS12']:\n",
    "    for index, cond in enumerate([\"vector\", \"K197R\", \"K197Q\"]):\n",
    "        files = glob.glob(os.path.join(rna_path, \"_\".join([cond,time,\"vs\", \"WT\",time])+\".tsv\"))\n",
    "        assert(len(files) == 1)\n",
    "        file = files[0]\n",
    "        name = os.path.basename(file).split(\".tsv\")[0]\n",
    "        df = pd.read_csv(file, sep = \"\\t\")\n",
    "        bed = df.merge(gene_coord, left_on = \"GeneID\", right_on = gene_coord[8], how = \"inner\")\n",
    "        up = bed.loc[bed[\"Status\"] == \"UP\"]\n",
    "        down = bed.loc[bed[\"Status\"] == \"DOWN\"]\n",
    "        if len(down) > 0:\n",
    "            down = down[[0, 3, 4, 8, 5, 6]]\n",
    "            down.columns = ['#chr', 'start', 'end', 'GeneID', 'score', 'strand']\n",
    "            down.to_csv(os.path.join(rna_path, \"beds\", name + \"_down.bed\"), sep = \"\\t\", index = False)\n",
    "        if len(up) > 0:\n",
    "            up = up[[0, 3, 4, 8, 5, 6]]\n",
    "            up.columns = ['#chr', 'start', 'end', 'GeneID', 'score', 'strand']\n",
    "            up.to_csv(os.path.join(rna_path, \"beds\", name + \"_up.bed\"), sep = \"\\t\", index = False)\n",
    "#  Make 500 random genes bed\n",
    "random_genes = pd.read_csv(os.path.join(rna_path, \"K197R_LPS12_vs_WT_LPS12.tsv\"), sep = \"\\t\")\n",
    "random_genes = random_genes.sample(n = 500)\n",
    "random_genes = random_genes.merge(gene_coord, left_on = \"GeneID\", right_on = gene_coord[8], how = \"inner\")\n",
    "print(random_genes.head())\n",
    "random_genes = random_genes[[0, 3, 4, 8, 5, 6]]\n",
    "random_genes.columns = ['#chr', 'start', 'end', 'GeneID', 'score', 'strand']\n",
    "random_genes.to_csv(os.path.join(rna_path, \"beds\", \"500RandomGenes.bed\"), sep = \"\\t\", index = False)\n"
   ]
  },
  {
   "cell_type": "code",
   "execution_count": 4,
   "id": "74d898fa",
   "metadata": {
    "collapsed": true,
    "jupyter": {
     "outputs_hidden": true
    }
   },
   "outputs": [
    {
     "name": "stdout",
     "output_type": "stream",
     "text": [
      "K197Q_LPS12_vs_WT_LPS12_down.bed 807 764 754\n",
      "vector_LPS0_vs_WT_LPS0_down.bed 709 702 701\n",
      "K197Q_LPS0_vs_WT_LPS0_down.bed 756 746 735\n",
      "K197R_LPS0_vs_WT_LPS0_down.bed 525 524 520\n",
      "vector_LPS12_vs_WT_LPS12_down.bed 471 459 456\n",
      "vector_LPS3_vs_WT_LPS3_up.bed 624 612 611\n",
      "K197Q_LPS12_vs_WT_LPS12_up.bed 1768 1734 1730\n",
      "K197Q_LPS3_vs_WT_LPS3_down.bed 611 618 607\n",
      "K197R_LPS0_vs_WT_LPS0_up.bed 375 375 372\n",
      "K197R_LPS3_vs_WT_LPS3_down.bed 195 194 192\n",
      "vector_LPS3_vs_WT_LPS3_down.bed 624 611 607\n",
      "vector_LPS0_vs_WT_LPS0_up.bed 289 269 267\n",
      "vector_LPS12_vs_WT_LPS12_up.bed 504 480 478\n",
      "this is only found after removing zeros! 500RandomGenes.bed 500\n",
      "K197R_LPS3_vs_WT_LPS3_up.bed 199 197 197\n",
      "K197Q_LPS0_vs_WT_LPS0_up.bed 641 610 606\n",
      "K197Q_LPS3_vs_WT_LPS3_up.bed 358 356 354\n"
     ]
    }
   ],
   "source": [
    "# compare wo_zeros up/down with vs_wt up/down. This is just to see how much they are in agreement\n",
    "for file in glob.glob(os.path.join(rna_path, \"beds\", \"*.bed\")):\n",
    "    name = os.path.basename(file)\n",
    "    df = pd.read_csv(file, sep = \"\\t\")\n",
    "    try:\n",
    "        df1 = pd.read_csv(os.path.join(\"/data/akhtar/group2/rabbani/rna_project2129/pairwise_comparison_vs_wt/beds/\", name), sep = \"\\t\", header = None)\n",
    "        df1.columns = ['#chr', 'start', 'end']\n",
    "        merged_df = df.merge(df1, on = ['#chr', 'start', 'end'], how = \"inner\")\n",
    "        print(name, len(df), len(df1), len(merged_df))\n",
    "    except:\n",
    "        print(\"this is only found after removing zeros!\", name, len(df))"
   ]
  },
  {
   "cell_type": "code",
   "execution_count": 5,
   "id": "6b80f505",
   "metadata": {},
   "outputs": [],
   "source": [
    "# computematrix on diff tss +-2kb\n",
    "# plot heatmap\n",
    "# profile plot\n",
    "# ultraheatmap"
   ]
  },
  {
   "cell_type": "code",
   "execution_count": 6,
   "id": "e3f778c0",
   "metadata": {
    "collapsed": true,
    "jupyter": {
     "outputs_hidden": true
    }
   },
   "outputs": [
    {
     "name": "stdout",
     "output_type": "stream",
     "text": [
      "module load deeptools;computeMatrix reference-point -S /data/manke/group/rabbani/atac_project2078/atac_pipeline_merged_bam/BigWigs/merged_WT_LPS0.bw /data/manke/group/rabbani/atac_project2078/atac_pipeline_merged_bam/BigWigs/merged_Vector_LPS0.bw /data/manke/group/rabbani/atac_project2078/atac_pipeline_merged_bam/BigWigs/merged_K197R_LPS0.bw /data/manke/group/rabbani/atac_project2078/atac_pipeline_merged_bam/BigWigs/merged_K197Q_LPS0.bw  -R /data/akhtar/group2/rabbani/rna_project2129/pairwise_comparison_wo_zeros/beds/K197R_LPS0_vs_WT_LPS0_down.bed /data/akhtar/group2/rabbani/rna_project2129/pairwise_comparison_wo_zeros/beds/K197R_LPS0_vs_WT_LPS0_up.bed /data/akhtar/group2/rabbani/rna_project2129/pairwise_comparison_wo_zeros/beds/K197Q_LPS0_vs_WT_LPS0_down.bed /data/akhtar/group2/rabbani/rna_project2129/pairwise_comparison_wo_zeros/beds/K197Q_LPS0_vs_WT_LPS0_up.bed /data/akhtar/group2/rabbani/rna_project2129/pairwise_comparison_wo_zeros/beds/vector_LPS0_vs_WT_LPS0_down.bed /data/akhtar/group2/rabbani/rna_project2129/pairwise_comparison_wo_zeros/beds/vector_LPS0_vs_WT_LPS0_up.bed  -a 2000 -b 2000  --samplesLabel WT_LPS0 Vector_LPS0 K197R_LPS0 K197Q_LPS0  -o /data/akhtar/group2/rabbani/atac_project2078/plots/LPS0.gz; plotHeatmap -m /data/akhtar/group2/rabbani/atac_project2078/plots/LPS0.gz -o /data/akhtar/group2/rabbani/atac_project2078/plots/LPS0.png; plotProfile -m /data/akhtar/group2/rabbani/atac_project2078/plots/LPS0.gz --perGroup -o /data/akhtar/group2/rabbani/atac_project2078/plots/LPS0_profile.png --outFileNameData /data/akhtar/group2/rabbani/atac_project2078/plots/LPS0_profile.tsv\n"
     ]
    },
    {
     "name": "stderr",
     "output_type": "stream",
     "text": [
      "/package/anaconda3/envs/deeptools-3.5.0/lib/python3.7/site-packages/deeptools/heatmapper.py:1219: RuntimeWarning:\n",
      "\n",
      "Mean of empty slice\n",
      "\n",
      "/package/anaconda3/envs/deeptools-3.5.0/lib/python3.7/site-packages/deeptools/plotHeatmap.py:481: MatplotlibDeprecationWarning:\n",
      "\n",
      "You are modifying the state of a globally registered colormap. In future versions, you will not be able to modify a registered colormap in-place. To remove this warning, you can make a copy of the colormap first. cmap = copy.copy(mpl.cm.get_cmap(\"RdYlBu\"))\n",
      "\n",
      "/package/anaconda3/envs/deeptools-3.5.0/lib/python3.7/site-packages/deeptools/plotHeatmap.py:762: MatplotlibDeprecationWarning:\n",
      "\n",
      "The 'alpha' parameter to Colorbar has no effect because it is overridden by the mappable; it is deprecated since 3.3 and will be removed two minor releases later.\n",
      "\n",
      "/package/anaconda3/envs/deeptools-3.5.0/lib/python3.7/site-packages/deeptools/plotHeatmap.py:770: MatplotlibDeprecationWarning:\n",
      "\n",
      "savefig() got unexpected keyword argument \"pdd_inches\" which is no longer supported as of 3.3 and will become an error two minor releases later\n",
      "\n"
     ]
    },
    {
     "name": "stdout",
     "output_type": "stream",
     "text": [
      "module load deeptools;computeMatrix reference-point -S /data/manke/group/rabbani/atac_project2078/atac_pipeline_merged_bam/BigWigs/merged_WT_LPS3.bw /data/manke/group/rabbani/atac_project2078/atac_pipeline_merged_bam/BigWigs/merged_Vector_LPS3.bw /data/manke/group/rabbani/atac_project2078/atac_pipeline_merged_bam/BigWigs/merged_K197R_LPS3.bw /data/manke/group/rabbani/atac_project2078/atac_pipeline_merged_bam/BigWigs/merged_K197Q_LPS3.bw  -R /data/akhtar/group2/rabbani/rna_project2129/pairwise_comparison_wo_zeros/beds/K197R_LPS3_vs_WT_LPS3_down.bed /data/akhtar/group2/rabbani/rna_project2129/pairwise_comparison_wo_zeros/beds/K197R_LPS3_vs_WT_LPS3_up.bed /data/akhtar/group2/rabbani/rna_project2129/pairwise_comparison_wo_zeros/beds/K197Q_LPS3_vs_WT_LPS3_down.bed /data/akhtar/group2/rabbani/rna_project2129/pairwise_comparison_wo_zeros/beds/K197Q_LPS3_vs_WT_LPS3_up.bed /data/akhtar/group2/rabbani/rna_project2129/pairwise_comparison_wo_zeros/beds/vector_LPS3_vs_WT_LPS3_down.bed /data/akhtar/group2/rabbani/rna_project2129/pairwise_comparison_wo_zeros/beds/vector_LPS3_vs_WT_LPS3_up.bed  -a 2000 -b 2000  --samplesLabel WT_LPS3 Vector_LPS3 K197R_LPS3 K197Q_LPS3  -o /data/akhtar/group2/rabbani/atac_project2078/plots/LPS3.gz; plotHeatmap -m /data/akhtar/group2/rabbani/atac_project2078/plots/LPS3.gz -o /data/akhtar/group2/rabbani/atac_project2078/plots/LPS3.png; plotProfile -m /data/akhtar/group2/rabbani/atac_project2078/plots/LPS3.gz --perGroup -o /data/akhtar/group2/rabbani/atac_project2078/plots/LPS3_profile.png --outFileNameData /data/akhtar/group2/rabbani/atac_project2078/plots/LPS3_profile.tsv\n"
     ]
    },
    {
     "name": "stderr",
     "output_type": "stream",
     "text": [
      "/package/anaconda3/envs/deeptools-3.5.0/lib/python3.7/site-packages/deeptools/heatmapper.py:1219: RuntimeWarning:\n",
      "\n",
      "Mean of empty slice\n",
      "\n",
      "/package/anaconda3/envs/deeptools-3.5.0/lib/python3.7/site-packages/deeptools/plotHeatmap.py:481: MatplotlibDeprecationWarning:\n",
      "\n",
      "You are modifying the state of a globally registered colormap. In future versions, you will not be able to modify a registered colormap in-place. To remove this warning, you can make a copy of the colormap first. cmap = copy.copy(mpl.cm.get_cmap(\"RdYlBu\"))\n",
      "\n",
      "/package/anaconda3/envs/deeptools-3.5.0/lib/python3.7/site-packages/deeptools/plotHeatmap.py:762: MatplotlibDeprecationWarning:\n",
      "\n",
      "The 'alpha' parameter to Colorbar has no effect because it is overridden by the mappable; it is deprecated since 3.3 and will be removed two minor releases later.\n",
      "\n",
      "/package/anaconda3/envs/deeptools-3.5.0/lib/python3.7/site-packages/deeptools/plotHeatmap.py:770: MatplotlibDeprecationWarning:\n",
      "\n",
      "savefig() got unexpected keyword argument \"pdd_inches\" which is no longer supported as of 3.3 and will become an error two minor releases later\n",
      "\n"
     ]
    },
    {
     "name": "stdout",
     "output_type": "stream",
     "text": [
      "module load deeptools;computeMatrix reference-point -S /data/manke/group/rabbani/atac_project2078/atac_pipeline_merged_bam/BigWigs/merged_WT_LPS12.bw /data/manke/group/rabbani/atac_project2078/atac_pipeline_merged_bam/BigWigs/merged_Vector_LPS12.bw /data/manke/group/rabbani/atac_project2078/atac_pipeline_merged_bam/BigWigs/merged_K197R_LPS12.bw /data/manke/group/rabbani/atac_project2078/atac_pipeline_merged_bam/BigWigs/merged_K197Q_LPS12.bw  -R /data/akhtar/group2/rabbani/rna_project2129/pairwise_comparison_wo_zeros/beds/K197Q_LPS12_vs_WT_LPS12_down.bed /data/akhtar/group2/rabbani/rna_project2129/pairwise_comparison_wo_zeros/beds/K197Q_LPS12_vs_WT_LPS12_up.bed /data/akhtar/group2/rabbani/rna_project2129/pairwise_comparison_wo_zeros/beds/vector_LPS12_vs_WT_LPS12_down.bed /data/akhtar/group2/rabbani/rna_project2129/pairwise_comparison_wo_zeros/beds/vector_LPS12_vs_WT_LPS12_up.bed /data/akhtar/group2/rabbani/rna_project2129/pairwise_comparison_wo_zeros/beds/500RandomGenes.bed  -a 2000 -b 2000  --samplesLabel WT_LPS12 Vector_LPS12 K197R_LPS12 K197Q_LPS12  -o /data/akhtar/group2/rabbani/atac_project2078/plots/LPS12.gz; plotHeatmap -m /data/akhtar/group2/rabbani/atac_project2078/plots/LPS12.gz -o /data/akhtar/group2/rabbani/atac_project2078/plots/LPS12.png; plotProfile -m /data/akhtar/group2/rabbani/atac_project2078/plots/LPS12.gz --perGroup -o /data/akhtar/group2/rabbani/atac_project2078/plots/LPS12_profile.png --outFileNameData /data/akhtar/group2/rabbani/atac_project2078/plots/LPS12_profile.tsv\n"
     ]
    },
    {
     "name": "stderr",
     "output_type": "stream",
     "text": [
      "/package/anaconda3/envs/deeptools-3.5.0/lib/python3.7/site-packages/deeptools/heatmapper.py:1219: RuntimeWarning:\n",
      "\n",
      "Mean of empty slice\n",
      "\n",
      "/package/anaconda3/envs/deeptools-3.5.0/lib/python3.7/site-packages/deeptools/plotHeatmap.py:481: MatplotlibDeprecationWarning:\n",
      "\n",
      "You are modifying the state of a globally registered colormap. In future versions, you will not be able to modify a registered colormap in-place. To remove this warning, you can make a copy of the colormap first. cmap = copy.copy(mpl.cm.get_cmap(\"RdYlBu\"))\n",
      "\n",
      "/package/anaconda3/envs/deeptools-3.5.0/lib/python3.7/site-packages/deeptools/plotHeatmap.py:762: MatplotlibDeprecationWarning:\n",
      "\n",
      "The 'alpha' parameter to Colorbar has no effect because it is overridden by the mappable; it is deprecated since 3.3 and will be removed two minor releases later.\n",
      "\n",
      "/package/anaconda3/envs/deeptools-3.5.0/lib/python3.7/site-packages/deeptools/plotHeatmap.py:770: MatplotlibDeprecationWarning:\n",
      "\n",
      "savefig() got unexpected keyword argument \"pdd_inches\" which is no longer supported as of 3.3 and will become an error two minor releases later\n",
      "\n"
     ]
    }
   ],
   "source": [
    "for time in ['LPS0', 'LPS3', 'LPS12']:\n",
    "    bws = \"\"\n",
    "    names = \"\"\n",
    "    rna = \"\"\n",
    "    \n",
    "    for index, cond in enumerate([\"WT\",\"Vector\", \"K197R\", \"K197Q\"]):\n",
    "        bws += os.path.join(bw_path, \"_\".join([\"merged\", cond,time])+\".bw\")+\" \"\n",
    "        names += \"_\".join([cond,time])+ \" \"\n",
    "    for index, cond in enumerate([\"K197R\", \"K197Q\", \"vector\"]):\n",
    "        down_file = os.path.join(rna_path, \"beds\", \"_\".join([cond,time,\"vs\", \"WT\",time])+\"_down.bed\")\n",
    "        \n",
    "        if  os.path.isfile(down_file):\n",
    "            rna += down_file + \" \"\n",
    "        up_file = os.path.join(rna_path, \"beds\", \"_\".join([cond,time,\"vs\", \"WT\",time])+\"_up.bed\")\n",
    "        if os.path.isfile(up_file):\n",
    "            rna += up_file + \" \"\n",
    "    ##Add 500 random genes\n",
    "    if time == 'LPS12':\n",
    "        rand = os.path.join(rna_path, \"beds\", \"500RandomGenes.bed\")\n",
    "        rna += rand + \" \"\n",
    "    if rna != \"\":\n",
    "        cmd = \"module load deeptools/3.5.0;\"\n",
    "        cmd += \"computeMatrix reference-point -S \"+bws\n",
    "        cmd += \" -R \"+rna\n",
    "        cmd += \" -a 2000 -b 2000 \"\n",
    "        cmd += \" --samplesLabel \"+ names\n",
    "        cmd += \" -o \"+os.path.join(output_path, time+\".gz\")\n",
    "        cmd += \"; plotHeatmap -m \"+os.path.join(output_path, time+\".gz\")\n",
    "        cmd += \" -o \"+os.path.join(output_path, time+\".png\")\n",
    "        cmd += \"; plotProfile -m \"+os.path.join(output_path, time+\".gz\")\n",
    "        cmd += \" --perGroup -o \"+os.path.join(output_path, time+\"_profile.png\")\n",
    "        cmd += \" --outFileNameData \"+os.path.join(output_path, time+\"_profile.tsv\")\n",
    "        print(cmd)\n",
    "        sp.check_output(cmd, shell = True)"
   ]
  },
  {
   "cell_type": "code",
   "execution_count": 7,
   "id": "65c5bc1f",
   "metadata": {
    "collapsed": true,
    "jupyter": {
     "outputs_hidden": true
    }
   },
   "outputs": [
    {
     "name": "stdout",
     "output_type": "stream",
     "text": [
      "module load ultraheatmap; addFeatureToMatrix -m /data/akhtar/group2/rabbani/atac_project2078/plots/LPS0.gz -o /data/akhtar/group2/rabbani/atac_project2078/plots/ultraheatmap/LPS0_w_deg.gz -t /data/akhtar/group2/rabbani/rna_project2129/pairwise_comparison_wo_zeros/K197Q_LPS0_vs_WT_LPS0.tsv /data/akhtar/group2/rabbani/rna_project2129/pairwise_comparison_wo_zeros/K197R_LPS0_vs_WT_LPS0.tsv /data/akhtar/group2/rabbani/rna_project2129/pairwise_comparison_wo_zeros/vector_LPS0_vs_WT_LPS0.tsv --featureIdColumn 'GeneID' --featureNames 'log2FoldChange' \n",
      "module load ultraheatmap; addFeatureToMatrix -m /data/akhtar/group2/rabbani/atac_project2078/plots/LPS3.gz -o /data/akhtar/group2/rabbani/atac_project2078/plots/ultraheatmap/LPS3_w_deg.gz -t /data/akhtar/group2/rabbani/rna_project2129/pairwise_comparison_wo_zeros/K197Q_LPS3_vs_WT_LPS3.tsv /data/akhtar/group2/rabbani/rna_project2129/pairwise_comparison_wo_zeros/K197R_LPS3_vs_WT_LPS3.tsv /data/akhtar/group2/rabbani/rna_project2129/pairwise_comparison_wo_zeros/vector_LPS3_vs_WT_LPS3.tsv --featureIdColumn 'GeneID' --featureNames 'log2FoldChange' \n",
      "module load ultraheatmap; addFeatureToMatrix -m /data/akhtar/group2/rabbani/atac_project2078/plots/LPS12.gz -o /data/akhtar/group2/rabbani/atac_project2078/plots/ultraheatmap/LPS12_w_deg.gz -t /data/akhtar/group2/rabbani/rna_project2129/pairwise_comparison_wo_zeros/K197Q_LPS12_vs_WT_LPS12.tsv /data/akhtar/group2/rabbani/rna_project2129/pairwise_comparison_wo_zeros/K197R_LPS12_vs_WT_LPS12.tsv /data/akhtar/group2/rabbani/rna_project2129/pairwise_comparison_wo_zeros/vector_LPS12_vs_WT_LPS12.tsv --featureIdColumn 'GeneID' --featureNames 'log2FoldChange' \n"
     ]
    }
   ],
   "source": [
    "# ultraheatmap wo mapping on the above matrix \n",
    "for time in ['LPS0', 'LPS3', 'LPS12']:\n",
    "    cmd = \"module load ultraheatmap/1.3.1; addFeatureToMatrix \"\n",
    "    cmd += \"-m \"+os.path.join(output_path, time+\".gz\")\n",
    "    cmd += \" -o \"+os.path.join(output_path, \"ultraheatmap\", time+\"_w_deg.gz\")\n",
    "    cmd += \" -t \"+os.path.join(rna_path, \"K197Q_\"+time+\"_vs_WT_\"+time+\".tsv\")+ \" \"+os.path.join(rna_path, \"K197R_\"+time+\"_vs_WT_\"+time+\".tsv\")\n",
    "    cmd += \" \"+os.path.join(rna_path, \"vector_\"+time+\"_vs_WT_\"+time+\".tsv\")\n",
    "    cmd += \" --featureIdColumn 'GeneID' --featureNames 'log2FoldChange' \"\n",
    "    print(cmd)\n",
    "    sp.check_output(cmd, shell = True)"
   ]
  },
  {
   "cell_type": "code",
   "execution_count": 8,
   "id": "5ed34417",
   "metadata": {
    "collapsed": true,
    "jupyter": {
     "outputs_hidden": true
    }
   },
   "outputs": [
    {
     "name": "stdout",
     "output_type": "stream",
     "text": [
      "module load deeptools; plotHeatmap  -m /data/akhtar/group2/rabbani/atac_project2078/plots/ultraheatmap/LPS0_w_deg.gz -o /data/akhtar/group2/rabbani/atac_project2078/plots/ultraheatmap/LPS0_w_deg.png --zMin 0 0 0 0 -2 -2 -2 --zMax 1 1 1 1 2 2 2  --colorMap Greens Greens Greens Greens RdBu_r RdBu_r RdBu_r --sortUsingSample 5 6 7 --samplesLabel wt_atac vector_atac kr_atac kq_atac kq_vs_wt kr_vs_wt vector_vs_wt \n"
     ]
    },
    {
     "name": "stderr",
     "output_type": "stream",
     "text": [
      "/package/anaconda3/envs/deeptools-3.5.0/lib/python3.7/site-packages/deeptools/plotHeatmap.py:481: MatplotlibDeprecationWarning:\n",
      "\n",
      "You are modifying the state of a globally registered colormap. In future versions, you will not be able to modify a registered colormap in-place. To remove this warning, you can make a copy of the colormap first. cmap = copy.copy(mpl.cm.get_cmap(\"Greens\"))\n",
      "\n",
      "/package/anaconda3/envs/deeptools-3.5.0/lib/python3.7/site-packages/deeptools/plotHeatmap.py:481: MatplotlibDeprecationWarning:\n",
      "\n",
      "You are modifying the state of a globally registered colormap. In future versions, you will not be able to modify a registered colormap in-place. To remove this warning, you can make a copy of the colormap first. cmap = copy.copy(mpl.cm.get_cmap(\"RdBu_r\"))\n",
      "\n",
      "/package/anaconda3/envs/deeptools-3.5.0/lib/python3.7/site-packages/deeptools/heatmapper_utilities.py:89: UserWarning:\n",
      "\n",
      "Attempting to set identical left == right == 0 results in singular transformations; automatically expanding.\n",
      "\n",
      "/package/anaconda3/envs/deeptools-3.5.0/lib/python3.7/site-packages/deeptools/heatmapper_utilities.py:89: UserWarning:\n",
      "\n",
      "Attempting to set identical left == right == 0 results in singular transformations; automatically expanding.\n",
      "\n",
      "/package/anaconda3/envs/deeptools-3.5.0/lib/python3.7/site-packages/deeptools/heatmapper_utilities.py:89: UserWarning:\n",
      "\n",
      "Attempting to set identical left == right == 0 results in singular transformations; automatically expanding.\n",
      "\n",
      "/package/anaconda3/envs/deeptools-3.5.0/lib/python3.7/site-packages/deeptools/heatmapper_utilities.py:89: UserWarning:\n",
      "\n",
      "Attempting to set identical left == right == 0 results in singular transformations; automatically expanding.\n",
      "\n",
      "/package/anaconda3/envs/deeptools-3.5.0/lib/python3.7/site-packages/deeptools/heatmapper_utilities.py:89: UserWarning:\n",
      "\n",
      "Attempting to set identical left == right == 0 results in singular transformations; automatically expanding.\n",
      "\n",
      "/package/anaconda3/envs/deeptools-3.5.0/lib/python3.7/site-packages/deeptools/heatmapper_utilities.py:89: UserWarning:\n",
      "\n",
      "Attempting to set identical left == right == 0 results in singular transformations; automatically expanding.\n",
      "\n",
      "/package/anaconda3/envs/deeptools-3.5.0/lib/python3.7/site-packages/deeptools/heatmapper_utilities.py:89: UserWarning:\n",
      "\n",
      "Attempting to set identical left == right == 0 results in singular transformations; automatically expanding.\n",
      "\n",
      "/package/anaconda3/envs/deeptools-3.5.0/lib/python3.7/site-packages/deeptools/heatmapper_utilities.py:89: UserWarning:\n",
      "\n",
      "Attempting to set identical left == right == 0 results in singular transformations; automatically expanding.\n",
      "\n",
      "/package/anaconda3/envs/deeptools-3.5.0/lib/python3.7/site-packages/deeptools/heatmapper_utilities.py:89: UserWarning:\n",
      "\n",
      "Attempting to set identical left == right == 0 results in singular transformations; automatically expanding.\n",
      "\n",
      "/package/anaconda3/envs/deeptools-3.5.0/lib/python3.7/site-packages/deeptools/heatmapper_utilities.py:89: UserWarning:\n",
      "\n",
      "Attempting to set identical left == right == 0 results in singular transformations; automatically expanding.\n",
      "\n",
      "/package/anaconda3/envs/deeptools-3.5.0/lib/python3.7/site-packages/deeptools/heatmapper_utilities.py:89: UserWarning:\n",
      "\n",
      "Attempting to set identical left == right == 0 results in singular transformations; automatically expanding.\n",
      "\n",
      "/package/anaconda3/envs/deeptools-3.5.0/lib/python3.7/site-packages/deeptools/heatmapper_utilities.py:89: UserWarning:\n",
      "\n",
      "Attempting to set identical left == right == 0 results in singular transformations; automatically expanding.\n",
      "\n",
      "/package/anaconda3/envs/deeptools-3.5.0/lib/python3.7/site-packages/deeptools/heatmapper_utilities.py:89: UserWarning:\n",
      "\n",
      "Attempting to set identical left == right == 0 results in singular transformations; automatically expanding.\n",
      "\n",
      "/package/anaconda3/envs/deeptools-3.5.0/lib/python3.7/site-packages/deeptools/heatmapper_utilities.py:89: UserWarning:\n",
      "\n",
      "Attempting to set identical left == right == 0 results in singular transformations; automatically expanding.\n",
      "\n",
      "/package/anaconda3/envs/deeptools-3.5.0/lib/python3.7/site-packages/deeptools/heatmapper_utilities.py:89: UserWarning:\n",
      "\n",
      "Attempting to set identical left == right == 0 results in singular transformations; automatically expanding.\n",
      "\n",
      "/package/anaconda3/envs/deeptools-3.5.0/lib/python3.7/site-packages/deeptools/heatmapper_utilities.py:89: UserWarning:\n",
      "\n",
      "Attempting to set identical left == right == 0 results in singular transformations; automatically expanding.\n",
      "\n",
      "/package/anaconda3/envs/deeptools-3.5.0/lib/python3.7/site-packages/deeptools/heatmapper_utilities.py:89: UserWarning:\n",
      "\n",
      "Attempting to set identical left == right == 0 results in singular transformations; automatically expanding.\n",
      "\n",
      "/package/anaconda3/envs/deeptools-3.5.0/lib/python3.7/site-packages/deeptools/heatmapper_utilities.py:89: UserWarning:\n",
      "\n",
      "Attempting to set identical left == right == 0 results in singular transformations; automatically expanding.\n",
      "\n",
      "/package/anaconda3/envs/deeptools-3.5.0/lib/python3.7/site-packages/deeptools/plotHeatmap.py:738: MatplotlibDeprecationWarning:\n",
      "\n",
      "The 'alpha' parameter to Colorbar has no effect because it is overridden by the mappable; it is deprecated since 3.3 and will be removed two minor releases later.\n",
      "\n",
      "/package/anaconda3/envs/deeptools-3.5.0/lib/python3.7/site-packages/deeptools/plotHeatmap.py:770: MatplotlibDeprecationWarning:\n",
      "\n",
      "savefig() got unexpected keyword argument \"pdd_inches\" which is no longer supported as of 3.3 and will become an error two minor releases later\n",
      "\n"
     ]
    },
    {
     "name": "stdout",
     "output_type": "stream",
     "text": [
      "module load deeptools; plotHeatmap  -m /data/akhtar/group2/rabbani/atac_project2078/plots/ultraheatmap/LPS3_w_deg.gz -o /data/akhtar/group2/rabbani/atac_project2078/plots/ultraheatmap/LPS3_w_deg.png --zMin 0 0 0 0 -2 -2 -2 --zMax 1 1 1 1 2 2 2  --colorMap Greens Greens Greens Greens RdBu_r RdBu_r RdBu_r --sortUsingSample 5 6 7 --samplesLabel wt_atac vector_atac kr_atac kq_atac kq_vs_wt kr_vs_wt vector_vs_wt \n"
     ]
    },
    {
     "name": "stderr",
     "output_type": "stream",
     "text": [
      "/package/anaconda3/envs/deeptools-3.5.0/lib/python3.7/site-packages/deeptools/plotHeatmap.py:481: MatplotlibDeprecationWarning:\n",
      "\n",
      "You are modifying the state of a globally registered colormap. In future versions, you will not be able to modify a registered colormap in-place. To remove this warning, you can make a copy of the colormap first. cmap = copy.copy(mpl.cm.get_cmap(\"Greens\"))\n",
      "\n",
      "/package/anaconda3/envs/deeptools-3.5.0/lib/python3.7/site-packages/deeptools/plotHeatmap.py:481: MatplotlibDeprecationWarning:\n",
      "\n",
      "You are modifying the state of a globally registered colormap. In future versions, you will not be able to modify a registered colormap in-place. To remove this warning, you can make a copy of the colormap first. cmap = copy.copy(mpl.cm.get_cmap(\"RdBu_r\"))\n",
      "\n",
      "/package/anaconda3/envs/deeptools-3.5.0/lib/python3.7/site-packages/deeptools/heatmapper_utilities.py:89: UserWarning:\n",
      "\n",
      "Attempting to set identical left == right == 0 results in singular transformations; automatically expanding.\n",
      "\n",
      "/package/anaconda3/envs/deeptools-3.5.0/lib/python3.7/site-packages/deeptools/heatmapper_utilities.py:89: UserWarning:\n",
      "\n",
      "Attempting to set identical left == right == 0 results in singular transformations; automatically expanding.\n",
      "\n",
      "/package/anaconda3/envs/deeptools-3.5.0/lib/python3.7/site-packages/deeptools/heatmapper_utilities.py:89: UserWarning:\n",
      "\n",
      "Attempting to set identical left == right == 0 results in singular transformations; automatically expanding.\n",
      "\n",
      "/package/anaconda3/envs/deeptools-3.5.0/lib/python3.7/site-packages/deeptools/heatmapper_utilities.py:89: UserWarning:\n",
      "\n",
      "Attempting to set identical left == right == 0 results in singular transformations; automatically expanding.\n",
      "\n",
      "/package/anaconda3/envs/deeptools-3.5.0/lib/python3.7/site-packages/deeptools/heatmapper_utilities.py:89: UserWarning:\n",
      "\n",
      "Attempting to set identical left == right == 0 results in singular transformations; automatically expanding.\n",
      "\n",
      "/package/anaconda3/envs/deeptools-3.5.0/lib/python3.7/site-packages/deeptools/heatmapper_utilities.py:89: UserWarning:\n",
      "\n",
      "Attempting to set identical left == right == 0 results in singular transformations; automatically expanding.\n",
      "\n",
      "/package/anaconda3/envs/deeptools-3.5.0/lib/python3.7/site-packages/deeptools/heatmapper_utilities.py:89: UserWarning:\n",
      "\n",
      "Attempting to set identical left == right == 0 results in singular transformations; automatically expanding.\n",
      "\n",
      "/package/anaconda3/envs/deeptools-3.5.0/lib/python3.7/site-packages/deeptools/heatmapper_utilities.py:89: UserWarning:\n",
      "\n",
      "Attempting to set identical left == right == 0 results in singular transformations; automatically expanding.\n",
      "\n",
      "/package/anaconda3/envs/deeptools-3.5.0/lib/python3.7/site-packages/deeptools/heatmapper_utilities.py:89: UserWarning:\n",
      "\n",
      "Attempting to set identical left == right == 0 results in singular transformations; automatically expanding.\n",
      "\n",
      "/package/anaconda3/envs/deeptools-3.5.0/lib/python3.7/site-packages/deeptools/heatmapper_utilities.py:89: UserWarning:\n",
      "\n",
      "Attempting to set identical left == right == 0 results in singular transformations; automatically expanding.\n",
      "\n",
      "/package/anaconda3/envs/deeptools-3.5.0/lib/python3.7/site-packages/deeptools/heatmapper_utilities.py:89: UserWarning:\n",
      "\n",
      "Attempting to set identical left == right == 0 results in singular transformations; automatically expanding.\n",
      "\n",
      "/package/anaconda3/envs/deeptools-3.5.0/lib/python3.7/site-packages/deeptools/heatmapper_utilities.py:89: UserWarning:\n",
      "\n",
      "Attempting to set identical left == right == 0 results in singular transformations; automatically expanding.\n",
      "\n",
      "/package/anaconda3/envs/deeptools-3.5.0/lib/python3.7/site-packages/deeptools/heatmapper_utilities.py:89: UserWarning:\n",
      "\n",
      "Attempting to set identical left == right == 0 results in singular transformations; automatically expanding.\n",
      "\n",
      "/package/anaconda3/envs/deeptools-3.5.0/lib/python3.7/site-packages/deeptools/heatmapper_utilities.py:89: UserWarning:\n",
      "\n",
      "Attempting to set identical left == right == 0 results in singular transformations; automatically expanding.\n",
      "\n",
      "/package/anaconda3/envs/deeptools-3.5.0/lib/python3.7/site-packages/deeptools/heatmapper_utilities.py:89: UserWarning:\n",
      "\n",
      "Attempting to set identical left == right == 0 results in singular transformations; automatically expanding.\n",
      "\n",
      "/package/anaconda3/envs/deeptools-3.5.0/lib/python3.7/site-packages/deeptools/heatmapper_utilities.py:89: UserWarning:\n",
      "\n",
      "Attempting to set identical left == right == 0 results in singular transformations; automatically expanding.\n",
      "\n",
      "/package/anaconda3/envs/deeptools-3.5.0/lib/python3.7/site-packages/deeptools/heatmapper_utilities.py:89: UserWarning:\n",
      "\n",
      "Attempting to set identical left == right == 0 results in singular transformations; automatically expanding.\n",
      "\n",
      "/package/anaconda3/envs/deeptools-3.5.0/lib/python3.7/site-packages/deeptools/heatmapper_utilities.py:89: UserWarning:\n",
      "\n",
      "Attempting to set identical left == right == 0 results in singular transformations; automatically expanding.\n",
      "\n",
      "/package/anaconda3/envs/deeptools-3.5.0/lib/python3.7/site-packages/deeptools/plotHeatmap.py:738: MatplotlibDeprecationWarning:\n",
      "\n",
      "The 'alpha' parameter to Colorbar has no effect because it is overridden by the mappable; it is deprecated since 3.3 and will be removed two minor releases later.\n",
      "\n",
      "/package/anaconda3/envs/deeptools-3.5.0/lib/python3.7/site-packages/deeptools/plotHeatmap.py:770: MatplotlibDeprecationWarning:\n",
      "\n",
      "savefig() got unexpected keyword argument \"pdd_inches\" which is no longer supported as of 3.3 and will become an error two minor releases later\n",
      "\n"
     ]
    },
    {
     "name": "stdout",
     "output_type": "stream",
     "text": [
      "module load deeptools; plotHeatmap  -m /data/akhtar/group2/rabbani/atac_project2078/plots/ultraheatmap/LPS12_w_deg.gz -o /data/akhtar/group2/rabbani/atac_project2078/plots/ultraheatmap/LPS12_w_deg.png --zMin 0 0 0 0 -2 -2 -2 --zMax 1 1 1 1 2 2 2  --colorMap Greens Greens Greens Greens RdBu_r RdBu_r RdBu_r --sortUsingSample 5 6 7 --samplesLabel wt_atac vector_atac kr_atac kq_atac kq_vs_wt kr_vs_wt vector_vs_wt \n"
     ]
    },
    {
     "name": "stderr",
     "output_type": "stream",
     "text": [
      "/package/anaconda3/envs/deeptools-3.5.0/lib/python3.7/site-packages/deeptools/plotHeatmap.py:481: MatplotlibDeprecationWarning:\n",
      "\n",
      "You are modifying the state of a globally registered colormap. In future versions, you will not be able to modify a registered colormap in-place. To remove this warning, you can make a copy of the colormap first. cmap = copy.copy(mpl.cm.get_cmap(\"Greens\"))\n",
      "\n",
      "/package/anaconda3/envs/deeptools-3.5.0/lib/python3.7/site-packages/deeptools/plotHeatmap.py:481: MatplotlibDeprecationWarning:\n",
      "\n",
      "You are modifying the state of a globally registered colormap. In future versions, you will not be able to modify a registered colormap in-place. To remove this warning, you can make a copy of the colormap first. cmap = copy.copy(mpl.cm.get_cmap(\"RdBu_r\"))\n",
      "\n",
      "/package/anaconda3/envs/deeptools-3.5.0/lib/python3.7/site-packages/deeptools/heatmapper_utilities.py:89: UserWarning:\n",
      "\n",
      "Attempting to set identical left == right == 0 results in singular transformations; automatically expanding.\n",
      "\n",
      "/package/anaconda3/envs/deeptools-3.5.0/lib/python3.7/site-packages/deeptools/heatmapper_utilities.py:89: UserWarning:\n",
      "\n",
      "Attempting to set identical left == right == 0 results in singular transformations; automatically expanding.\n",
      "\n",
      "/package/anaconda3/envs/deeptools-3.5.0/lib/python3.7/site-packages/deeptools/heatmapper_utilities.py:89: UserWarning:\n",
      "\n",
      "Attempting to set identical left == right == 0 results in singular transformations; automatically expanding.\n",
      "\n",
      "/package/anaconda3/envs/deeptools-3.5.0/lib/python3.7/site-packages/deeptools/heatmapper_utilities.py:89: UserWarning:\n",
      "\n",
      "Attempting to set identical left == right == 0 results in singular transformations; automatically expanding.\n",
      "\n",
      "/package/anaconda3/envs/deeptools-3.5.0/lib/python3.7/site-packages/deeptools/heatmapper_utilities.py:89: UserWarning:\n",
      "\n",
      "Attempting to set identical left == right == 0 results in singular transformations; automatically expanding.\n",
      "\n",
      "/package/anaconda3/envs/deeptools-3.5.0/lib/python3.7/site-packages/deeptools/heatmapper_utilities.py:89: UserWarning:\n",
      "\n",
      "Attempting to set identical left == right == 0 results in singular transformations; automatically expanding.\n",
      "\n",
      "/package/anaconda3/envs/deeptools-3.5.0/lib/python3.7/site-packages/deeptools/heatmapper_utilities.py:89: UserWarning:\n",
      "\n",
      "Attempting to set identical left == right == 0 results in singular transformations; automatically expanding.\n",
      "\n",
      "/package/anaconda3/envs/deeptools-3.5.0/lib/python3.7/site-packages/deeptools/heatmapper_utilities.py:89: UserWarning:\n",
      "\n",
      "Attempting to set identical left == right == 0 results in singular transformations; automatically expanding.\n",
      "\n",
      "/package/anaconda3/envs/deeptools-3.5.0/lib/python3.7/site-packages/deeptools/heatmapper_utilities.py:89: UserWarning:\n",
      "\n",
      "Attempting to set identical left == right == 0 results in singular transformations; automatically expanding.\n",
      "\n",
      "/package/anaconda3/envs/deeptools-3.5.0/lib/python3.7/site-packages/deeptools/heatmapper_utilities.py:89: UserWarning:\n",
      "\n",
      "Attempting to set identical left == right == 0 results in singular transformations; automatically expanding.\n",
      "\n",
      "/package/anaconda3/envs/deeptools-3.5.0/lib/python3.7/site-packages/deeptools/heatmapper_utilities.py:89: UserWarning:\n",
      "\n",
      "Attempting to set identical left == right == 0 results in singular transformations; automatically expanding.\n",
      "\n",
      "/package/anaconda3/envs/deeptools-3.5.0/lib/python3.7/site-packages/deeptools/heatmapper_utilities.py:89: UserWarning:\n",
      "\n",
      "Attempting to set identical left == right == 0 results in singular transformations; automatically expanding.\n",
      "\n",
      "/package/anaconda3/envs/deeptools-3.5.0/lib/python3.7/site-packages/deeptools/heatmapper_utilities.py:89: UserWarning:\n",
      "\n",
      "Attempting to set identical left == right == 0 results in singular transformations; automatically expanding.\n",
      "\n",
      "/package/anaconda3/envs/deeptools-3.5.0/lib/python3.7/site-packages/deeptools/heatmapper_utilities.py:89: UserWarning:\n",
      "\n",
      "Attempting to set identical left == right == 0 results in singular transformations; automatically expanding.\n",
      "\n",
      "/package/anaconda3/envs/deeptools-3.5.0/lib/python3.7/site-packages/deeptools/heatmapper_utilities.py:89: UserWarning:\n",
      "\n",
      "Attempting to set identical left == right == 0 results in singular transformations; automatically expanding.\n",
      "\n",
      "/package/anaconda3/envs/deeptools-3.5.0/lib/python3.7/site-packages/deeptools/plotHeatmap.py:738: MatplotlibDeprecationWarning:\n",
      "\n",
      "The 'alpha' parameter to Colorbar has no effect because it is overridden by the mappable; it is deprecated since 3.3 and will be removed two minor releases later.\n",
      "\n",
      "/package/anaconda3/envs/deeptools-3.5.0/lib/python3.7/site-packages/deeptools/plotHeatmap.py:770: MatplotlibDeprecationWarning:\n",
      "\n",
      "savefig() got unexpected keyword argument \"pdd_inches\" which is no longer supported as of 3.3 and will become an error two minor releases later\n",
      "\n"
     ]
    }
   ],
   "source": [
    "# plotheatmap\n",
    "for time in ['LPS0', 'LPS3', 'LPS12']:\n",
    "    cmd = \"module load deeptools/3.5.0; plotHeatmap \"\n",
    "    cmd += \" -m \"+os.path.join(output_path, \"ultraheatmap\", time+\"_w_deg.gz\")\n",
    "    cmd += \" -o \"+os.path.join(output_path, \"ultraheatmap\", time+\"_w_deg.png\")\n",
    "    cmd += \" --zMin 0 0 0 0 -2 -2 -2 --zMax 1 1 1 1 2 2 2 \" \n",
    "    cmd += \" --colorMap Greens Greens Greens Greens RdBu_r RdBu_r RdBu_r --sortUsingSample 5 6 7 --samplesLabel wt_atac vector_atac kr_atac kq_atac kq_vs_wt kr_vs_wt vector_vs_wt \"\n",
    "    print(cmd)\n",
    "    sp.check_output(cmd, shell = True)"
   ]
  },
  {
   "cell_type": "code",
   "execution_count": 9,
   "id": "affd6f93",
   "metadata": {},
   "outputs": [],
   "source": [
    "# ultraheatmap\n",
    "# 1. plot bws on peaks (ocrs)\n",
    "# 2. add gene expression"
   ]
  },
  {
   "cell_type": "code",
   "execution_count": null,
   "id": "bfd459f5",
   "metadata": {},
   "outputs": [
    {
     "name": "stdout",
     "output_type": "stream",
     "text": [
      "module load deeptools/3.5.0;computeMatrix reference-point -S /data/manke/group/rabbani/atac_project2078/atac_pipeline_merged_bam/BigWigs/merged_Vector_LPS0.bw /data/manke/group/rabbani/atac_project2078/atac_pipeline_merged_bam/BigWigs/merged_WT_LPS0.bw /data/manke/group/rabbani/atac_project2078/atac_pipeline_merged_bam/BigWigs/merged_K197R_LPS0.bw /data/manke/group/rabbani/atac_project2078/atac_pipeline_merged_bam/BigWigs/merged_K197Q_LPS0.bw  -R /data/akhtar/group2/rabbani/atac_project2078/hmmratac/ocrs/merged_peaks/merged_Vector_LPS0_.bed /data/akhtar/group2/rabbani/atac_project2078/hmmratac/ocrs/merged_peaks/merged_WT_LPS0_.bed /data/akhtar/group2/rabbani/atac_project2078/hmmratac/ocrs/merged_peaks/merged_K197R_LPS0_.bed /data/akhtar/group2/rabbani/atac_project2078/hmmratac/ocrs/merged_peaks/merged_K197Q_LPS0_.bed  -a 2000 -b 2000 --referencePoint center -p 20  --missingDataAsZero  --skipZeros  --samplesLabel Vector_LPS0 WT_LPS0 K197R_LPS0 K197Q_LPS0  --blackListFileName /data/repository/organisms/GRCm38_ensembl/akundaje/blacklist.bed  -o /data/akhtar/group2/rabbani/atac_project2078/plots/LPS0_onpeaks.gz\n"
     ]
    }
   ],
   "source": [
    "path2peaks = os.path.join(\"/data/akhtar/group2/rabbani/atac_project2078/hmmratac/ocrs/merged_peaks\")\n",
    "for time in ['LPS0', 'LPS3', 'LPS12']:\n",
    "    bws = \"\"\n",
    "    names = \"\"\n",
    "    peaks = \"\"\n",
    "    for index, cond in enumerate([\"Vector\", \"WT\", \"K197R\", \"K197Q\"]):\n",
    "        bws += os.path.join(bw_path, \"_\".join([\"merged\", cond,time])+\".bw\")+\" \"\n",
    "        names += \"_\".join([cond,time])+ \" \"\n",
    "        peaks += os.path.join(path2peaks, \"_\".join([\"merged\", cond,time])+\"_.bed\")+\" \"\n",
    "    cmd = \"module load deeptools/3.5.0;\"\n",
    "    cmd += \"computeMatrix reference-point -S \"+bws\n",
    "    cmd += \" -R \"+peaks\n",
    "    cmd += \" -a 2000 -b 2000 --referencePoint center -p 20  --missingDataAsZero  --skipZeros \"\n",
    "    cmd += \" --samplesLabel \"+ names\n",
    "    cmd += \" --blackListFileName /data/repository/organisms/GRCm38_ensembl/akundaje/blacklist.bed \"\n",
    "    cmd += \" -o \"+os.path.join(output_path, time+\"_onpeaks.gz\")\n",
    "    print(cmd)\n",
    "    sp.check_output(cmd, shell = True)"
   ]
  },
  {
   "cell_type": "code",
   "execution_count": null,
   "id": "27aee62d",
   "metadata": {},
   "outputs": [],
   "source": [
    "for time in ['LPS0', 'LPS3', 'LPS12']:\n",
    "    cmd = \"module load ultraheatmap/1.3.1; addFeatureToMatrix \"\n",
    "    cmd += \"-m \"+os.path.join(output_path, time+\"_onpeaks.gz\")\n",
    "    cmd += \" -o \"+os.path.join(output_path, time+\"_onpeaks_mappedgenes.gz\")\n",
    "    cmd += \" -t \"+os.path.join(rna_path, \"K197Q_\"+time+\"_vs_WT_\"+time+\".tsv\")+ \" \"+os.path.join(rna_path, \"K197R_\"+time+\"_vs_WT_\"+time+\".tsv\")\n",
    "    cmd += \" \"+os.path.join(rna_path, \"vector_\"+time+\"_vs_WT_\"+time+\".tsv\")\n",
    "    cmd += \" -g \"+os.path.join(\"/data/manke/group/rabbani/rna_project2129/genes.filtered.gtf\")\n",
    "    cmd += \" --annotationFeature 'gene' --featureIdColumn 'GeneID' --featureNames 'log2FoldChange' --referencePoint 'TSS' \"\n",
    "    print(cmd)\n",
    "    sp.check_output(cmd, shell = True)"
   ]
  },
  {
   "cell_type": "code",
   "execution_count": null,
   "id": "6b46398f",
   "metadata": {},
   "outputs": [],
   "source": [
    "# plotheatmap\n",
    "for time in ['LPS0', 'LPS3', 'LPS12']:\n",
    "    cmd = \"module load deeptools/3.5.0; plotHeatmap \"\n",
    "    cmd += \" -m \"+os.path.join(output_path, time+\"_onpeaks_mappedgenes.gz\")\n",
    "    cmd += \" -o \"+os.path.join(output_path, time+\"_onpeaks_mappedgenes.png\")\n",
    "    cmd += \" --zMin 0 0 0 0 -2 -2 -2 --zMax 1 1 1 1 2 2 2 \" \n",
    "    cmd += \" --colorMap Greens Greens Greens Greens RdBu_r RdBu_r RdBu_r --sortUsingSample 5 6 7 --samplesLabel vector_atac wt_atac kr_atac kq_atac kq_vs_wt kr_vs_wt vector_vs_wt \"\n",
    "    print(cmd)\n",
    "    sp.check_output(cmd, shell = True)"
   ]
  },
  {
   "cell_type": "code",
   "execution_count": null,
   "id": "0764247c",
   "metadata": {},
   "outputs": [],
   "source": [
    "# # This is not fully done!\n",
    "# # similar approach as above ony on diff peaks\n",
    "# path2diffpeaks = os.path.join(\"/data/akhtar/group2/rabbani/atac_project2078/hmmratac/pairwise_comparison/wo_hiCov/deseq2\")\n",
    "# for time in ['LPS0', 'LPS3', 'LPS12']:\n",
    "#     for cond in [\"K197R\", \"K197Q\"]:\n",
    "#         df = pd.read_csv(os.path.join(path2diffpeaks, \"_\".join([cond,time, \"vs\", \"WT\", time])+\".tsv\"), sep = \"\\t\")\n",
    "#         up = df.loc[df[\"Status\"] == \"UP\"][[\"chr\", \"start\", \"end\"]]\n",
    "#         if len(up) != 0:\n",
    "#             up.to_csv(os.path.join(path2diffpeaks, \"diffPeaksBeds\", \"_\".join([cond,time])+\"_up.bed\"), sep = \"\\t\", header = None, index = False)\n",
    "#         down = df.loc[df[\"Status\"] == \"DOWN\"][[\"chr\", \"start\", \"end\"]]\n",
    "#         if len(down) != 0:\n",
    "#             down.to_csv(os.path.join(path2diffpeaks, \"diffPeaksBeds\", \"_\".join([cond,time])+\"_down.bed\"), sep = \"\\t\", header = None, index = False)\n",
    "# # This is not fully done!"
   ]
  },
  {
   "cell_type": "code",
   "execution_count": null,
   "id": "e68ac118",
   "metadata": {},
   "outputs": [],
   "source": [
    "blacklist= \"MT X Y JH584299.1 GL456233.1 JH584301.1 GL456211.1 GL456350.1 JH584293.1 GL456221.1 JH584297.1 JH584296.1 GL456354.1 JH584294.1 JH584298.1 JH584300.1 GL456219.1 GL456210.1 JH584303.1 JH584302.1 \"\\\n",
    "\"GL456212.1 JH584304.1 GL456379.1 GL456216.1 GL456393.1 GL456366.1 GL456367.1 GL456239.1 GL456213.1 GL456383.1 GL456385.1 GL456360.1 GL456378.1 GL456389.1 GL456372.1 GL456370.1 GL456381.1 GL456387.1 GL456390.1 \"\\\n",
    "\"GL456394.1 GL456392.1 GL456382.1 GL456359.1 GL456396.1 GL456368.1 JH584292.1 JH584295.1\""
   ]
  },
  {
   "cell_type": "code",
   "execution_count": null,
   "id": "0e42c0c9",
   "metadata": {},
   "outputs": [],
   "source": [
    "# bigwigsummary of atac signal on diff genes\n",
    "for time in ['LPS0', 'LPS3', 'LPS12']:\n",
    "    bws = \"\"\n",
    "    \n",
    "    for cond in [\"Vector\", \"WT\", \"K197R\", \"K197Q\"]:\n",
    "        for rep in ['rep1', 'rep2', 'rep3']:\n",
    "            bws += os.path.join(root, \"atac_pipeline\", \"BigWigs\", \"_\".join([cond, time, rep])+\".filtered.bw\")+\" \"\n",
    "    print(bws)\n",
    "    for cond in [\"vector\", \"K197R\", \"K197Q\"]:\n",
    "        beds = {\"down\":os.path.join(rna_path, \"beds\", \"_\".join([cond,time,\"vs\", \"WT\",time])+\"_down.bed\"),\n",
    "                \"up\":os.path.join(rna_path, \"beds\", \"_\".join([cond,time,\"vs\", \"WT\",time])+\"_up.bed\")}\n",
    "        for name, bed in beds.items():\n",
    "            if os.path.isfile(bed):\n",
    "                cmd = \"module load deeptools/3.5.0;\"\n",
    "                cmd += \"multiBigwigSummary BED-file \"   \n",
    "                cmd += \" -b \"+bws\n",
    "                cmd += \" -o \"+os.path.join(\"/data/akhtar/group2/rabbani/atac_project2078/bwsummary\", \"_\".join([time,cond,name])+\".npz\")\n",
    "                cmd +=  \" --BED \"+ bed\n",
    "                cmd += \" --chromosomesToSkip \"+blacklist\n",
    "                cmd += \" -bl /data/repository/organisms/GRCm38_ensembl/akundaje/blacklist.bed \"\n",
    "                cmd += \" -p 15 --outRawCounts \"+os.path.join(\"/data/akhtar/group2/rabbani/atac_project2078/bwsumm\n",
    "                                                             \n",
    "                                                             \n",
    "                                                             ary\", \"_\".join([time,cond,name])+\".tsv\")\n",
    "                print(cmd)\n",
    "                sp.check_output(cmd, shell = True)"
   ]
  },
  {
   "cell_type": "code",
   "execution_count": null,
   "id": "dbeb0048",
   "metadata": {},
   "outputs": [],
   "source": [
    "# ultraheatmap on all active TSS"
   ]
  },
  {
   "cell_type": "code",
   "execution_count": null,
   "id": "e285086d",
   "metadata": {},
   "outputs": [],
   "source": [
    "# Make a list of active genes, those which are available in deseq result"
   ]
  },
  {
   "cell_type": "code",
   "execution_count": null,
   "id": "bbed6a67",
   "metadata": {},
   "outputs": [],
   "source": [
    "# make the region bed file\n",
    "gene_coord = os.path.join(\"/data/manke/group/rabbani/rna_project2129/genes.filtered.gtf\")\n",
    "gene_coord = pd.read_csv(gene_coord, sep = \"\\t\", header = None, comment = \"#\")\n",
    "gene_coord = gene_coord.loc[gene_coord[2] == \"gene\"]\n",
    "gene_coord[8] = gene_coord[8].str.split('\"', 2, expand=True)[1]\n",
    "gene_coord = gene_coord[[0,3,4,8,5,6]]\n",
    "rna_file = pd.read_csv(os.path.join(rna_path, \"K197R_LPS0_vs_WT_LPS0.tsv\"), sep = \"\\t\") # any tsv file of this path can be used, they all contain the same list of genes\n",
    "regions_to_plot = rna_file.merge(gene_coord, left_on = \"GeneID\", right_on = gene_coord[8], how = \"inner\")\n",
    "regions_to_plot[[0,3,4,8,5,6]].to_csv(os.path.join(rna_path, \"activegenes.bed\"), sep = \"\\t\", header = None, index = False)"
   ]
  },
  {
   "cell_type": "code",
   "execution_count": null,
   "id": "e6e15b42",
   "metadata": {},
   "outputs": [],
   "source": [
    "# computematrix\n",
    "for time in ['LPS0', 'LPS3', 'LPS12']:\n",
    "    bws = \"\"\n",
    "    names = \"\"\n",
    "    for index, cond in enumerate([\"Vector\", \"WT\", \"K197R\", \"K197Q\"]):\n",
    "        bws += os.path.join(bw_path, \"_\".join([\"merged\", cond,time])+\".bw\")+\" \"\n",
    "        names += \"_\".join([cond,time])+ \" \"\n",
    "    cmd = \"module load deeptools/3.5.0;\"\n",
    "    cmd += \"computeMatrix reference-point -S \"+bws\n",
    "    cmd += \" -R \"+os.path.join(rna_path, \"activegenes.bed\")\n",
    "    cmd += \" -a 2000 -b 2000 --referencePoint TSS -p 20  --missingDataAsZero  --skipZeros \"\n",
    "    cmd += \" --samplesLabel \"+ names\n",
    "    cmd += \" --blackListFileName /data/repository/organisms/GRCm38_ensembl/akundaje/blacklist.bed \"\n",
    "    cmd += \" -o \"+os.path.join(output_path, time+\"_onMouseTSS.gz\")\n",
    "    print(cmd)\n",
    "    sp.check_output(cmd, shell = True)"
   ]
  },
  {
   "cell_type": "code",
   "execution_count": null,
   "id": "1bac2a03",
   "metadata": {},
   "outputs": [],
   "source": [
    "# ultraheatmap\n",
    "for time in ['LPS0', 'LPS3', 'LPS12']:\n",
    "    cmd = \"module load ultraheatmap/1.3.1; addFeatureToMatrix \"\n",
    "    cmd += \"-m \"+os.path.join(output_path, time+\"_onMouseTSS.gz\")\n",
    "    cmd += \" -o \"+os.path.join(output_path, time+\"_onMouseTSS_deg.gz\")\n",
    "    cmd += \" -t \"+os.path.join(rna_path, \"K197Q_\"+time+\"_vs_WT_\"+time+\".tsv\")+ \" \"+os.path.join(rna_path, \"K197R_\"+time+\"_vs_WT_\"+time+\".tsv\")\n",
    "    cmd += \" \"+os.path.join(rna_path, \"vector_\"+time+\"_vs_WT_\"+time+\".tsv\")\n",
    "    cmd += \" --featureIdColumn 'GeneID' --featureNames 'log2FoldChange' --referencePoint 'TSS' \"\n",
    "    print(cmd)\n",
    "    sp.check_output(cmd, shell = True)"
   ]
  },
  {
   "cell_type": "code",
   "execution_count": null,
   "id": "5101f192",
   "metadata": {},
   "outputs": [],
   "source": [
    "# heatmap\n",
    "for time in ['LPS0', 'LPS3', 'LPS12']:\n",
    "    cmd = \"module load deeptools/3.5.0; plotHeatmap \"\n",
    "    cmd += \" -m \"+os.path.join(output_path, time+\"_onMouseTSS_deg.gz\")\n",
    "    cmd += \" -o \"+os.path.join(output_path, time+\"_onMouseTSS_deg.png\")\n",
    "    cmd += \" --zMin 0 0 0 0 -1 -1 -1 --zMax 1 1 1 1 1 1 1 \" \n",
    "    cmd += \" --colorMap Greens Greens Greens Greens RdBu_r RdBu_r RdBu_r --samplesLabel vector_atac wt_atac kr_atac kq_atac kq_vs_wt kr_vs_wt vector_vs_wt \"\n",
    "    print(cmd)\n",
    "    sp.check_output(cmd, shell = True)"
   ]
  },
  {
   "cell_type": "code",
   "execution_count": null,
   "id": "f0364e62",
   "metadata": {},
   "outputs": [],
   "source": [
    "# heatmap with k = 4 clustering\n",
    "for time in ['LPS0', 'LPS3', 'LPS12']:\n",
    "    cmd = \"module load deeptools/3.5.0; plotHeatmap \"\n",
    "    cmd += \" -m \"+os.path.join(output_path, time+\"_onMouseTSS_deg.gz\")\n",
    "    cmd += \" -o \"+os.path.join(output_path, time+\"_onMouseTSS_deg_k4.png\")\n",
    "    cmd += \" --zMin 0 0 0 0 -1 -1 -1 --zMax 1 1 1 1 1 1 1 --kmeans 4 --clusterUsingSamples 5 6 7 \" \n",
    "    cmd += \" --colorMap Greens Greens Greens Greens RdBu_r RdBu_r RdBu_r --sortUsingSamples 5 6 7 --samplesLabel vector_atac wt_atac kr_atac kq_atac kq_vs_wt kr_vs_wt vector_vs_wt \"\n",
    "    print(cmd)\n",
    "    sp.check_output(cmd, shell = True)"
   ]
  },
  {
   "cell_type": "code",
   "execution_count": null,
   "id": "172c19fb",
   "metadata": {},
   "outputs": [],
   "source": [
    "# heatmap sort by deg\n",
    "for time in ['LPS0', 'LPS3', 'LPS12']:\n",
    "    cmd = \"module load deeptools/3.5.0; plotHeatmap \"\n",
    "    cmd += \" -m \"+os.path.join(output_path, time+\"_onMouseTSS_deg.gz\")\n",
    "    cmd += \" -o \"+os.path.join(output_path, time+\"_onMouseTSS_deg_sortbydeg.png\")\n",
    "    cmd += \" --zMin 0 0 0 0 -1 -1 -1 --zMax 1 1 1 1 1 1 1 \" \n",
    "    cmd += \" --colorMap Greens Greens Greens Greens RdBu_r RdBu_r RdBu_r --sortUsingSamples 5 6 7 --samplesLabel vector_atac wt_atac kr_atac kq_atac kq_vs_wt kr_vs_wt vector_vs_wt \"\n",
    "    print(cmd)\n",
    "    sp.check_output(cmd, shell = True)"
   ]
  },
  {
   "cell_type": "code",
   "execution_count": null,
   "id": "cdb0028f",
   "metadata": {},
   "outputs": [],
   "source": []
  }
 ],
 "metadata": {
  "kernelspec": {
   "display_name": "SSH minimus matplotlib3_py3.8",
   "language": "",
   "name": "rik_ssh_maximus_matplotlib3_py38"
  },
  "language_info": {
   "codemirror_mode": {
    "name": "ipython",
    "version": 3
   },
   "file_extension": ".py",
   "mimetype": "text/x-python",
   "name": "python",
   "nbconvert_exporter": "python",
   "pygments_lexer": "ipython3",
   "version": "3.8.0"
  }
 },
 "nbformat": 4,
 "nbformat_minor": 5
}
