{
 "cells": [
  {
   "cell_type": "code",
   "execution_count": 1,
   "id": "1764b4cb",
   "metadata": {},
   "outputs": [],
   "source": [
    "# closest genes to diff peaks\n",
    "# closest genes to merged peaks of each cond at each time\n",
    "# merged peaks overlap"
   ]
  },
  {
   "cell_type": "code",
   "execution_count": 2,
   "id": "887376c7",
   "metadata": {},
   "outputs": [],
   "source": [
    "import os\n",
    "import numpy as np\n",
    "import pandas as pd\n",
    "import subprocess as sp\n",
    "from importlib import reload \n",
    "import pybedtools as pbt\n",
    "pbt.set_bedtools_path(\"/localenv/rabbani/anaconda/miniconda3/envs/matplotlib/bin/\")\n",
    "pbt = reload(pbt)"
   ]
  },
  {
   "cell_type": "code",
   "execution_count": 3,
   "id": "817587d0",
   "metadata": {},
   "outputs": [
    {
     "data": {
      "text/html": [
       "<div>\n",
       "<style scoped>\n",
       "    .dataframe tbody tr th:only-of-type {\n",
       "        vertical-align: middle;\n",
       "    }\n",
       "\n",
       "    .dataframe tbody tr th {\n",
       "        vertical-align: top;\n",
       "    }\n",
       "\n",
       "    .dataframe thead th {\n",
       "        text-align: right;\n",
       "    }\n",
       "</style>\n",
       "<table border=\"1\" class=\"dataframe\">\n",
       "  <thead>\n",
       "    <tr style=\"text-align: right;\">\n",
       "      <th></th>\n",
       "      <th>chr</th>\n",
       "      <th>start</th>\n",
       "      <th>end</th>\n",
       "    </tr>\n",
       "  </thead>\n",
       "  <tbody>\n",
       "    <tr>\n",
       "      <th>0</th>\n",
       "      <td>7</td>\n",
       "      <td>49550979</td>\n",
       "      <td>49551414</td>\n",
       "    </tr>\n",
       "    <tr>\n",
       "      <th>1</th>\n",
       "      <td>6</td>\n",
       "      <td>87745250</td>\n",
       "      <td>87745665</td>\n",
       "    </tr>\n",
       "    <tr>\n",
       "      <th>2</th>\n",
       "      <td>8</td>\n",
       "      <td>95695285</td>\n",
       "      <td>95695489</td>\n",
       "    </tr>\n",
       "    <tr>\n",
       "      <th>3</th>\n",
       "      <td>8</td>\n",
       "      <td>126844604</td>\n",
       "      <td>126845030</td>\n",
       "    </tr>\n",
       "    <tr>\n",
       "      <th>4</th>\n",
       "      <td>1</td>\n",
       "      <td>178528166</td>\n",
       "      <td>178528317</td>\n",
       "    </tr>\n",
       "    <tr>\n",
       "      <th>...</th>\n",
       "      <td>...</td>\n",
       "      <td>...</td>\n",
       "      <td>...</td>\n",
       "    </tr>\n",
       "    <tr>\n",
       "      <th>319</th>\n",
       "      <td>7</td>\n",
       "      <td>19327056</td>\n",
       "      <td>19327533</td>\n",
       "    </tr>\n",
       "    <tr>\n",
       "      <th>320</th>\n",
       "      <td>11</td>\n",
       "      <td>50197277</td>\n",
       "      <td>50197837</td>\n",
       "    </tr>\n",
       "    <tr>\n",
       "      <th>321</th>\n",
       "      <td>4</td>\n",
       "      <td>43043900</td>\n",
       "      <td>43044252</td>\n",
       "    </tr>\n",
       "    <tr>\n",
       "      <th>322</th>\n",
       "      <td>13</td>\n",
       "      <td>41331582</td>\n",
       "      <td>41332217</td>\n",
       "    </tr>\n",
       "    <tr>\n",
       "      <th>323</th>\n",
       "      <td>4</td>\n",
       "      <td>43972068</td>\n",
       "      <td>43972577</td>\n",
       "    </tr>\n",
       "  </tbody>\n",
       "</table>\n",
       "<p>324 rows × 3 columns</p>\n",
       "</div>"
      ],
      "text/plain": [
       "    chr      start        end\n",
       "0     7   49550979   49551414\n",
       "1     6   87745250   87745665\n",
       "2     8   95695285   95695489\n",
       "3     8  126844604  126845030\n",
       "4     1  178528166  178528317\n",
       "..   ..        ...        ...\n",
       "319   7   19327056   19327533\n",
       "320  11   50197277   50197837\n",
       "321   4   43043900   43044252\n",
       "322  13   41331582   41332217\n",
       "323   4   43972068   43972577\n",
       "\n",
       "[324 rows x 3 columns]"
      ]
     },
     "execution_count": 3,
     "metadata": {},
     "output_type": "execute_result"
    }
   ],
   "source": [
    "diff_peaks = pd.read_csv(\"/data/manke/group/rabbani/atac_project2078/timecourse_diff_analysis/\"\\\n",
    "                         \"deseq_timecourse_ressig_lrt.tsv\", sep = \"\\t\")\n",
    "diff_peaks_coord = pd.DataFrame()\n",
    "diff_peaks_coord[['chr', 'start', 'end']] = diff_peaks['gene'].str.split('_', 2, expand=True)\n",
    "diff_peaks_coord"
   ]
  },
  {
   "cell_type": "code",
   "execution_count": 4,
   "id": "73cd3e82",
   "metadata": {},
   "outputs": [],
   "source": [
    "diff_bed = pbt.BedTool.from_dataframe(diff_peaks_coord)\n",
    "diff_bed = diff_bed.sort()"
   ]
  },
  {
   "cell_type": "code",
   "execution_count": 5,
   "id": "da624a6d",
   "metadata": {},
   "outputs": [],
   "source": [
    "genes = pbt.BedTool(\"/data/repository/organisms/GRCm38_ensembl/gencode/m9/genes.gtf\")\n",
    "genes = genes.sort()\n",
    "closest_genes = diff_bed.closest(genes, d=True)"
   ]
  },
  {
   "cell_type": "code",
   "execution_count": 6,
   "id": "ea08105b",
   "metadata": {},
   "outputs": [
    {
     "data": {
      "text/plain": [
       "<BedTool(/data/manke/group/rabbani/atac_project2078/timecourse_diff_analysis/closest_genes_2_diff_peaks.bed)>"
      ]
     },
     "execution_count": 6,
     "metadata": {},
     "output_type": "execute_result"
    }
   ],
   "source": [
    "closest_genes.saveas(\"/data/manke/group/rabbani/atac_project2078/timecourse_diff_analysis/\"\\\n",
    "                     \"closest_genes_2_diff_peaks.bed\")"
   ]
  },
  {
   "cell_type": "code",
   "execution_count": 7,
   "id": "233895be",
   "metadata": {},
   "outputs": [
    {
     "data": {
      "text/html": [
       "<div>\n",
       "<style scoped>\n",
       "    .dataframe tbody tr th:only-of-type {\n",
       "        vertical-align: middle;\n",
       "    }\n",
       "\n",
       "    .dataframe tbody tr th {\n",
       "        vertical-align: top;\n",
       "    }\n",
       "\n",
       "    .dataframe thead th {\n",
       "        text-align: right;\n",
       "    }\n",
       "</style>\n",
       "<table border=\"1\" class=\"dataframe\">\n",
       "  <thead>\n",
       "    <tr style=\"text-align: right;\">\n",
       "      <th></th>\n",
       "      <th>0</th>\n",
       "      <th>1</th>\n",
       "      <th>2</th>\n",
       "      <th>5</th>\n",
       "      <th>11</th>\n",
       "      <th>12</th>\n",
       "    </tr>\n",
       "  </thead>\n",
       "  <tbody>\n",
       "    <tr>\n",
       "      <th>0</th>\n",
       "      <td>1</td>\n",
       "      <td>24612912</td>\n",
       "      <td>24613318</td>\n",
       "      <td>gene</td>\n",
       "      <td>gene_id \"ENSMUSG00000101939.1\"; gene_type \"unp...</td>\n",
       "      <td>0</td>\n",
       "    </tr>\n",
       "    <tr>\n",
       "      <th>5</th>\n",
       "      <td>1</td>\n",
       "      <td>24612912</td>\n",
       "      <td>24613318</td>\n",
       "      <td>gene</td>\n",
       "      <td>gene_id \"ENSMUSG00000101111.1\"; gene_type \"unp...</td>\n",
       "      <td>0</td>\n",
       "    </tr>\n",
       "    <tr>\n",
       "      <th>6</th>\n",
       "      <td>1</td>\n",
       "      <td>36287740</td>\n",
       "      <td>36288193</td>\n",
       "      <td>gene</td>\n",
       "      <td>gene_id \"ENSMUSG00000047180.8\"; gene_type \"pro...</td>\n",
       "      <td>13062</td>\n",
       "    </tr>\n",
       "    <tr>\n",
       "      <th>11</th>\n",
       "      <td>1</td>\n",
       "      <td>37676066</td>\n",
       "      <td>37676221</td>\n",
       "      <td>gene</td>\n",
       "      <td>gene_id \"ENSMUSG00000026090.16\"; gene_type \"pr...</td>\n",
       "      <td>0</td>\n",
       "    </tr>\n",
       "    <tr>\n",
       "      <th>13</th>\n",
       "      <td>1</td>\n",
       "      <td>64807127</td>\n",
       "      <td>64807466</td>\n",
       "      <td>gene</td>\n",
       "      <td>gene_id \"ENSMUSG00000051344.13\"; gene_type \"pr...</td>\n",
       "      <td>0</td>\n",
       "    </tr>\n",
       "    <tr>\n",
       "      <th>...</th>\n",
       "      <td>...</td>\n",
       "      <td>...</td>\n",
       "      <td>...</td>\n",
       "      <td>...</td>\n",
       "      <td>...</td>\n",
       "      <td>...</td>\n",
       "    </tr>\n",
       "    <tr>\n",
       "      <th>1867</th>\n",
       "      <td>9</td>\n",
       "      <td>110681897</td>\n",
       "      <td>110682075</td>\n",
       "      <td>gene</td>\n",
       "      <td>gene_id \"ENSMUSG00000019659.8\"; gene_type \"pro...</td>\n",
       "      <td>0</td>\n",
       "    </tr>\n",
       "    <tr>\n",
       "      <th>1874</th>\n",
       "      <td>9</td>\n",
       "      <td>119569219</td>\n",
       "      <td>119569686</td>\n",
       "      <td>gene</td>\n",
       "      <td>gene_id \"ENSMUSG00000032511.17\"; gene_type \"pr...</td>\n",
       "      <td>0</td>\n",
       "    </tr>\n",
       "    <tr>\n",
       "      <th>1877</th>\n",
       "      <td>9</td>\n",
       "      <td>121404298</td>\n",
       "      <td>121404490</td>\n",
       "      <td>gene</td>\n",
       "      <td>gene_id \"ENSMUSG00000032536.9\"; gene_type \"pro...</td>\n",
       "      <td>0</td>\n",
       "    </tr>\n",
       "    <tr>\n",
       "      <th>1880</th>\n",
       "      <td>9</td>\n",
       "      <td>123461818</td>\n",
       "      <td>123462260</td>\n",
       "      <td>gene</td>\n",
       "      <td>gene_id \"ENSMUSG00000035202.7\"; gene_type \"pro...</td>\n",
       "      <td>0</td>\n",
       "    </tr>\n",
       "    <tr>\n",
       "      <th>1883</th>\n",
       "      <td>9</td>\n",
       "      <td>123562428</td>\n",
       "      <td>123562851</td>\n",
       "      <td>gene</td>\n",
       "      <td>gene_id \"ENSMUSG00000025240.8\"; gene_type \"pro...</td>\n",
       "      <td>0</td>\n",
       "    </tr>\n",
       "  </tbody>\n",
       "</table>\n",
       "<p>350 rows × 6 columns</p>\n",
       "</div>"
      ],
      "text/plain": [
       "      0          1          2     5   \\\n",
       "0      1   24612912   24613318  gene   \n",
       "5      1   24612912   24613318  gene   \n",
       "6      1   36287740   36288193  gene   \n",
       "11     1   37676066   37676221  gene   \n",
       "13     1   64807127   64807466  gene   \n",
       "...   ..        ...        ...   ...   \n",
       "1867   9  110681897  110682075  gene   \n",
       "1874   9  119569219  119569686  gene   \n",
       "1877   9  121404298  121404490  gene   \n",
       "1880   9  123461818  123462260  gene   \n",
       "1883   9  123562428  123562851  gene   \n",
       "\n",
       "                                                     11     12  \n",
       "0     gene_id \"ENSMUSG00000101939.1\"; gene_type \"unp...      0  \n",
       "5     gene_id \"ENSMUSG00000101111.1\"; gene_type \"unp...      0  \n",
       "6     gene_id \"ENSMUSG00000047180.8\"; gene_type \"pro...  13062  \n",
       "11    gene_id \"ENSMUSG00000026090.16\"; gene_type \"pr...      0  \n",
       "13    gene_id \"ENSMUSG00000051344.13\"; gene_type \"pr...      0  \n",
       "...                                                 ...    ...  \n",
       "1867  gene_id \"ENSMUSG00000019659.8\"; gene_type \"pro...      0  \n",
       "1874  gene_id \"ENSMUSG00000032511.17\"; gene_type \"pr...      0  \n",
       "1877  gene_id \"ENSMUSG00000032536.9\"; gene_type \"pro...      0  \n",
       "1880  gene_id \"ENSMUSG00000035202.7\"; gene_type \"pro...      0  \n",
       "1883  gene_id \"ENSMUSG00000025240.8\"; gene_type \"pro...      0  \n",
       "\n",
       "[350 rows x 6 columns]"
      ]
     },
     "execution_count": 7,
     "metadata": {},
     "output_type": "execute_result"
    }
   ],
   "source": [
    "# extract gene_name\n",
    "df = pd.read_csv(\"/data/manke/group/rabbani/atac_project2078/timecourse_diff_analysis/\"\\\n",
    "                     \"closest_genes_2_diff_peaks.bed\", sep = \"\\t\", header = None, usecols = [0,1,2,5,11,12])\n",
    "df = df.loc[df[5] == 'gene']\n",
    "df"
   ]
  },
  {
   "cell_type": "code",
   "execution_count": 8,
   "id": "1adcdee3",
   "metadata": {},
   "outputs": [
    {
     "name": "stdout",
     "output_type": "stream",
     "text": [
      "350\n"
     ]
    },
    {
     "data": {
      "text/plain": [
       "0       [gene_id \"ENSMUSG00000101939.1\",  gene_type \"u...\n",
       "5       [gene_id \"ENSMUSG00000101111.1\",  gene_type \"u...\n",
       "6       [gene_id \"ENSMUSG00000047180.8\",  gene_type \"p...\n",
       "11      [gene_id \"ENSMUSG00000026090.16\",  gene_type \"...\n",
       "13      [gene_id \"ENSMUSG00000051344.13\",  gene_type \"...\n",
       "                              ...                        \n",
       "1867    [gene_id \"ENSMUSG00000019659.8\",  gene_type \"p...\n",
       "1874    [gene_id \"ENSMUSG00000032511.17\",  gene_type \"...\n",
       "1877    [gene_id \"ENSMUSG00000032536.9\",  gene_type \"p...\n",
       "1880    [gene_id \"ENSMUSG00000035202.7\",  gene_type \"p...\n",
       "1883    [gene_id \"ENSMUSG00000025240.8\",  gene_type \"p...\n",
       "Name: 11, Length: 350, dtype: object"
      ]
     },
     "execution_count": 8,
     "metadata": {},
     "output_type": "execute_result"
    }
   ],
   "source": [
    "df1 = df[11].str.split(\";\")\n",
    "print(len(df1))\n",
    "df1"
   ]
  },
  {
   "cell_type": "code",
   "execution_count": 9,
   "id": "17a06e88",
   "metadata": {},
   "outputs": [],
   "source": [
    "gene_names = os.path.join(\"/data/manke/group/rabbani/atac_project2078/timecourse_diff_analysis/\"\\\n",
    "                          \"closest_genenames.tsv\")\n",
    "\n",
    "with open(gene_names, \"w\") as names:\n",
    "    for gene in df1:\n",
    "        this_id = gene[0].split(\"\\\"\")[1]\n",
    "        coord = df.loc[df[11].str.contains(this_id), [0,1,2]].values[0]\n",
    "        this_name = gene[3].split(\"\\\"\")[1]\n",
    "        wo_version = this_id.split(\".\")[0]\n",
    "        names.write(str(coord[0])+\"\\t\"+str(coord[1])+\"\\t\"+str(coord[2])+\"\\t\"+this_id+\"\\t\"+this_name+\"\\t\"+wo_version+\"\\n\")"
   ]
  },
  {
   "cell_type": "code",
   "execution_count": 10,
   "id": "c54c3b8b",
   "metadata": {},
   "outputs": [
    {
     "data": {
      "text/plain": [
       "<BedTool(/data/manke/group/rabbani/atac_project2078/timecourse_diff_analysis/diff_peaks.bed)>"
      ]
     },
     "execution_count": 10,
     "metadata": {},
     "output_type": "execute_result"
    }
   ],
   "source": [
    "diff_bed.saveas(\"/data/manke/group/rabbani/atac_project2078/timecourse_diff_analysis/\"\\\n",
    "                \"diff_peaks.bed\")"
   ]
  },
  {
   "cell_type": "code",
   "execution_count": null,
   "id": "7cc187a1",
   "metadata": {},
   "outputs": [],
   "source": [
    "# merged peaks overlap"
   ]
  }
 ],
 "metadata": {
  "kernelspec": {
   "display_name": "SSH minimus matplotlib3_py3.8",
   "language": "",
   "name": "rik_ssh_maximus_matplotlib3_py38"
  },
  "language_info": {
   "codemirror_mode": {
    "name": "ipython",
    "version": 3
   },
   "file_extension": ".py",
   "mimetype": "text/x-python",
   "name": "python",
   "nbconvert_exporter": "python",
   "pygments_lexer": "ipython3",
   "version": "3.8.0"
  }
 },
 "nbformat": 4,
 "nbformat_minor": 5
}
