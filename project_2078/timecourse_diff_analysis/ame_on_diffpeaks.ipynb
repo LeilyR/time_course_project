{
 "cells": [
  {
   "cell_type": "code",
   "execution_count": 1,
   "id": "b5798d22",
   "metadata": {},
   "outputs": [],
   "source": [
    "# run ame on differential peaks"
   ]
  },
  {
   "cell_type": "code",
   "execution_count": 2,
   "id": "a349f279",
   "metadata": {},
   "outputs": [],
   "source": [
    "import os\n",
    "import numpy as np\n",
    "import pandas as pd\n",
    "import subprocess as sp\n",
    "from importlib import reload \n",
    "import pybedtools as pbt\n",
    "pbt.set_bedtools_path(\"/localenv/rabbani/anaconda/miniconda3/envs/matplotlib/bin/\")\n",
    "pbt = reload(pbt)"
   ]
  },
  {
   "cell_type": "code",
   "execution_count": 3,
   "id": "79f07b7a",
   "metadata": {},
   "outputs": [],
   "source": [
    "# get the diffpeaks sequences\n",
    "df = pd.read_csv(os.path.join(\"/data/manke/group/rabbani/atac_project2078/timecourse_diff_analysis/diff_peaks.bed\"),\n",
    "                 sep = \"\\t\", header = None)\n",
    "df_fasta = pbt.BedTool.from_dataframe(df)\n",
    "df_fasta = df_fasta.sequence(fi=\"/data/repository/organisms/GRCm38_ensembl/genome_fasta/genome.fa\",\n",
    "                             fo = \"diffpeaks.fasta\")    "
   ]
  },
  {
   "cell_type": "code",
   "execution_count": 4,
   "id": "5c684cba",
   "metadata": {},
   "outputs": [],
   "source": [
    "# call ame with shuffle bg"
   ]
  },
  {
   "cell_type": "code",
   "execution_count": 5,
   "id": "3445a3d8",
   "metadata": {},
   "outputs": [
    {
     "name": "stdout",
     "output_type": "stream",
     "text": [
      "module load meme/5.4.1;ame --control '--shuffle--' -oc diffpeaks_motifs/  diffpeaks.fasta  /data/repository/misc/Motif/HOCOMOCO/HOCOMOCOv11_full_MOUSE_mono_meme_format.meme \n"
     ]
    },
    {
     "name": "stderr",
     "output_type": "stream",
     "text": [
      "Added /data/repository/misc/Motif/HOCOMOCO/HOCOMOCOv11_full_MOUSE_mono_meme_format.meme to motif_sources which now has 1 file names.\n",
      "Motif file name is /data/repository/misc/Motif/HOCOMOCO/HOCOMOCOv11_full_MOUSE_mono_meme_format.meme.\n",
      "The output directory 'diffpeaks_motifs/' already exists.\n",
      "Its contents will be overwritten.\n",
      "E-value threshold for reporting results: 10\n",
      "Checking alphabets in 1 motif files.\n",
      "Loading motifs from file '/data/repository/misc/Motif/HOCOMOCO/HOCOMOCOv11_full_MOUSE_mono_meme_format.meme'\n",
      "Loading primary sequences.\n",
      "Creating control sequences by shuffling input sequences preserving 2-mers.\n",
      "Not in partition maximization mode. Fixing partition at the number of primary sequences (324).\n",
      "MOTIF: 1 SEQ: 1620/1620\n",
      "Sorting sequences by sequence PWM score to get PWM ranks; breaking ties to put negatives first.\n",
      "Leaving sequences sorted by PWM score.\n",
      "Optimizing over sequence PWM score threshold.\n",
      "MOTIF: 529 SEQ: 1620/1620\n"
     ]
    },
    {
     "data": {
      "text/plain": [
       "b''"
      ]
     },
     "execution_count": 5,
     "metadata": {},
     "output_type": "execute_result"
    }
   ],
   "source": [
    "cmd = \"module load meme/5.4.1;\"\n",
    "cmd += \"ame --control '--shuffle--' \"\n",
    "cmd += \"-oc diffpeaks_motifs/ \"\n",
    "cmd += \" diffpeaks.fasta \"\n",
    "cmd += \" /data/repository/misc/Motif/HOCOMOCO/HOCOMOCOv11_full_MOUSE_mono_meme_format.meme \"\n",
    "print(cmd)\n",
    "sp.check_output(cmd, shell = True)\n"
   ]
  },
  {
   "cell_type": "code",
   "execution_count": 6,
   "id": "75e48cdf",
   "metadata": {},
   "outputs": [],
   "source": [
    "# make a meme file of ame.tsv"
   ]
  },
  {
   "cell_type": "code",
   "execution_count": 7,
   "id": "b9b588f3",
   "metadata": {},
   "outputs": [
    {
     "data": {
      "text/plain": [
       "0      RFX3_MOUSE.H11MO.0.C\n",
       "1      RFX2_MOUSE.H11MO.0.A\n",
       "2      RFX1_MOUSE.H11MO.1.A\n",
       "3      RFX6_MOUSE.H11MO.1.C\n",
       "4      RFX3_MOUSE.H11MO.1.C\n",
       "               ...         \n",
       "122    ZEP2_MOUSE.H11MO.0.D\n",
       "123    BATF_MOUSE.H11MO.0.A\n",
       "124                     nan\n",
       "125                     nan\n",
       "126                     nan\n",
       "Name: motif_ID, Length: 127, dtype: object"
      ]
     },
     "execution_count": 7,
     "metadata": {},
     "output_type": "execute_result"
    }
   ],
   "source": [
    "my_motifs = pd.read_csv(\"/data/manke/group/rabbani/atac_project2078/timecourse_diff_analysis/\"\\\n",
    "                        \"diffpeaks_motifs/ame.tsv\", usecols = [\"motif_ID\"], sep = \"\\t\")\n",
    "my_motifs[\"motif_ID\"].astype(str)"
   ]
  },
  {
   "cell_type": "code",
   "execution_count": 8,
   "id": "41f11c0a",
   "metadata": {},
   "outputs": [],
   "source": [
    "# make a meme file of found motifs , this is needed as an input for tobias\n",
    "output = open(\"/data/manke/group/rabbani/atac_project2078/timecourse_diff_analysis/diffpeaks_motifs/ame.meme\",\"w\")\n",
    "f = open(\"/data/repository/misc/Motif/HOCOMOCO/HOCOMOCOv11_full_MOUSE_mono_meme_format.meme\", \"r\")\n",
    "output.write(\"MEME version 4\\n\\nALPHABET= ACGT\\n\\nstrands: + -\\n\\nBackground letter frequencies\\n\"\\\n",
    "             \"A 0.25 C 0.25 G 0.25 T 0.25\\n\\n\")\n",
    "lines = f.readlines()\n",
    "write_it = False\n",
    "for line in lines:\n",
    "    this_line = line.rstrip()\n",
    "    if any(motif in this_line for motif in my_motifs[\"motif_ID\"].astype(str)):\n",
    "        if this_line.startswith(\"MOTIF\"):\n",
    "            write_it = True\n",
    "        elif this_line.startswith(\"URL\"):\n",
    "            output.write(this_line+\"\\n\")\n",
    "            output.write(\"\\n\")\n",
    "            write_it = False\n",
    "    if write_it == True:\n",
    "        output.write(this_line+\"\\n\")\n",
    "output.close()"
   ]
  },
  {
   "cell_type": "code",
   "execution_count": 9,
   "id": "6277c018",
   "metadata": {},
   "outputs": [],
   "source": [
    "# cluster them (TOBIAS version: 0.13.3)"
   ]
  },
  {
   "cell_type": "code",
   "execution_count": 10,
   "id": "b148e6cb",
   "metadata": {},
   "outputs": [
    {
     "name": "stdout",
     "output_type": "stream",
     "text": [
      "/localenv/rabbani/anaconda/miniconda3/envs/tobias/bin/TOBIAS ClusterMotifs -m diffpeaks_motifs/ame.meme -t 0.4 -a meme --dist_method seqcor --clust_method complete -o diffpeaks_motifs/tobias_cluster\n"
     ]
    },
    {
     "data": {
      "text/plain": [
       "b'# TOBIAS 0.13.3 ClusterMotifs (run started 2022-05-13 16:52:34.987416)\\n# Working directory: /data/manke/group/rabbani/atac_project2078/timecourse_diff_analysis\\n# Command line call: TOBIAS ClusterMotifs -m diffpeaks_motifs/ame.meme -t 0.4 -a meme --dist_method seqcor --clust_method complete -o diffpeaks_motifs/tobias_cluster\\n\\n# ----- Input parameters -----\\n# motifs:\\t[\\'diffpeaks_motifs/ame.meme\\']\\n# threshold:\\t0.4\\n# dist_method:\\tseqcor\\n# clust_method:\\tcomplete\\n# cons_format:\\tmeme\\n# prefix:\\tmotif_comparison\\n# outdir:\\tdiffpeaks_motifs/tobias_cluster\\n# verbosity:\\t3\\n# type:\\tpdf\\n# dpi:\\t100\\n# color:\\tYlOrRd_r\\n\\n\\n2022-05-13 16:52:37 (38342) [INFO]\\tReading input file(s)\\n2022-05-13 16:52:37 (38342) [STATS]\\t- Read 124 motifs from diffpeaks_motifs/ame.meme (format: meme)\\n2022-05-13 16:52:37 (38342) [INFO]\\tCreating matrix statistics\\n2022-05-13 16:52:37 (38342) [INFO]\\tClustering motifs\\n2022-05-13 16:52:57 (38342) [STATS]\\t- Identified 33 clusters\\n2022-05-13 16:52:57 (38342) [INFO]\\t- Writing clustering to diffpeaks_motifs/tobias_cluster/motif_comparison_clusters.yml\\n2022-05-13 16:52:57 (38342) [INFO]\\t- Saving similarity matrix to the file: diffpeaks_motifs/tobias_cluster/motif_comparison_matrix.txt\\n2022-05-13 16:52:57 (38342) [INFO]\\tPlotting clustering dendrogram\\n2022-05-13 16:52:58 (38342) [INFO]\\tBuilding consensus motif for each cluster\\n2022-05-13 16:53:16 (38342) [INFO]\\t- Writing consensus motifs to: diffpeaks_motifs/tobias_cluster/motif_comparison_consensus_motifs.meme\\n2022-05-13 16:53:16 (38342) [INFO]\\t- Making logo plots for consensus motifs (output folder: diffpeaks_motifs/tobias_cluster/consensus_motifs_img)\\n2022-05-13 16:53:31 (38342) [INFO]\\tPlotting similarity heatmap\\n2022-05-13 16:53:31 (38342) [INFO]\\tNote: Can take a while for --type=pdf. Try \"--type png\" for speed up.\\n\\n2022-05-13 16:53:37 (38342) [INFO]\\tFinished ClusterMotifs run (total time elapsed: 0:01:02.858156)\\n'"
      ]
     },
     "execution_count": 10,
     "metadata": {},
     "output_type": "execute_result"
    }
   ],
   "source": [
    "cmd = \"/localenv/rabbani/anaconda/miniconda3/envs/tobias/bin/TOBIAS ClusterMotifs -m diffpeaks_motifs/ame.meme -t 0.4 -a meme --dist_method seqcor --clust_method complete -o diffpeaks_motifs/tobias_cluster\"\n",
    "print(cmd)\n",
    "sp.check_output(cmd, shell = True)"
   ]
  },
  {
   "cell_type": "code",
   "execution_count": 11,
   "id": "7a05c69a",
   "metadata": {},
   "outputs": [
    {
     "name": "stdout",
     "output_type": "stream",
     "text": [
      "module load meme/5.4.1;ame --control '--shuffle--' -oc diffpeaks_tobias_motifs/  diffpeaks.fasta /data/manke/group/rabbani/atac_project2078/timecourse_diff_analysis/diffpeaks_motifs/tobias_cluster/motif_comparison_consensus_motifs.meme \n"
     ]
    },
    {
     "name": "stderr",
     "output_type": "stream",
     "text": [
      "Added /data/manke/group/rabbani/atac_project2078/timecourse_diff_analysis/diffpeaks_motifs/tobias_cluster/motif_comparison_consensus_motifs.meme to motif_sources which now has 1 file names.\n",
      "Motif file name is /data/manke/group/rabbani/atac_project2078/timecourse_diff_analysis/diffpeaks_motifs/tobias_cluster/motif_comparison_consensus_motifs.meme.\n",
      "The output directory 'diffpeaks_tobias_motifs/' already exists.\n",
      "Its contents will be overwritten.\n",
      "E-value threshold for reporting results: 10\n",
      "Checking alphabets in 1 motif files.\n",
      "Loading motifs from file '/data/manke/group/rabbani/atac_project2078/timecourse_diff_analysis/diffpeaks_motifs/tobias_cluster/motif_comparison_consensus_motifs.meme'\n",
      "Loading primary sequences.\n",
      "Creating control sequences by shuffling input sequences preserving 2-mers.\n",
      "Not in partition maximization mode. Fixing partition at the number of primary sequences (324).\n",
      "MOTIF: 1 SEQ: 1620/1620\n",
      "Sorting sequences by sequence PWM score to get PWM ranks; breaking ties to put negatives first.\n",
      "Leaving sequences sorted by PWM score.\n",
      "Optimizing over sequence PWM score threshold.\n",
      "MOTIF: 33 SEQ: 1620/1620\n"
     ]
    },
    {
     "data": {
      "text/plain": [
       "b''"
      ]
     },
     "execution_count": 11,
     "metadata": {},
     "output_type": "execute_result"
    }
   ],
   "source": [
    "cmd = \"module load meme/5.4.1;\"\n",
    "cmd += \"ame --control '--shuffle--' \"\n",
    "cmd += \"-oc diffpeaks_tobias_motifs/ \"\n",
    "cmd += \" diffpeaks.fasta \"\n",
    "cmd += \"/data/manke/group/rabbani/atac_project2078/timecourse_diff_analysis/diffpeaks_motifs/tobias_cluster/motif_comparison_consensus_motifs.meme \"\n",
    "print(cmd)\n",
    "sp.check_output(cmd, shell = True)"
   ]
  },
  {
   "cell_type": "code",
   "execution_count": null,
   "id": "57145c5b",
   "metadata": {},
   "outputs": [],
   "source": []
  }
 ],
 "metadata": {
  "kernelspec": {
   "display_name": "SSH minimus matplotlib3_py3.8",
   "language": "",
   "name": "rik_ssh_maximus_matplotlib3_py38"
  },
  "language_info": {
   "codemirror_mode": {
    "name": "ipython",
    "version": 3
   },
   "file_extension": ".py",
   "mimetype": "text/x-python",
   "name": "python",
   "nbconvert_exporter": "python",
   "pygments_lexer": "ipython3",
   "version": "3.8.0"
  }
 },
 "nbformat": 4,
 "nbformat_minor": 5
}
