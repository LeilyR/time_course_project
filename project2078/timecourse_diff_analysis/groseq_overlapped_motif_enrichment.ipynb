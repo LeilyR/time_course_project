{
 "cells": [
  {
   "cell_type": "code",
   "execution_count": 1,
   "metadata": {},
   "outputs": [],
   "source": [
    "# Regarding the GO (only stage5):\n",
    "\n",
    "# 13) only for stage 5 and for the 12 conditions (groseq+ filtered) list with \n",
    "# log2FC1 and padj<0.05. \n",
    "# So only the genes that overlap with the groseq+ list.(very important). \n",
    "#As a background I do not know if it a good idea to use all the groseq+ genes? \n",
    "#Let me know what you think\n",
    "\n",
    "# Regarding promoter and motif analysis:\n",
    "\n",
    "# the same classes of points 13 and 14\n",
    "\n",
    "# - promoter analysis +-300bp\n",
    "# - motif analysis +-300 bp\n",
    "# - motif analysis +-2kb\n",
    "\n",
    "# As a background, let's use all the drosophila genes MINUS everything that is up or down regulated in the 24 conditions but with log2FC<-1/>+1 and in that overlaps with groseq+ (very important! just the groseq+ positive!)\n"
   ]
  },
  {
   "cell_type": "code",
   "execution_count": 2,
   "metadata": {},
   "outputs": [],
   "source": [
    "# CPE databases (you name it 'promoter_dbs') are only CPE.Haberle_and_Stark/Haberle_and_Stark_NRMCB_2018_Table1_motifs_PFMs.memeand Ramalingam2021/promoter_elements.meme\n",
    "# TF databases are  JASPAR2020_CORE_insects_non-redundant_pfms_meme.txt , and all the ones from the second snippet\n",
    "# Zelda MA1462.1 was added specifically for Dafne's study. It makes sense to use with it with the CPE of you are looking at the zld-dependent genes. Otherwise, treat it like a TF database (yet, it's already included in the JASPAR database).\n",
    "# I have no clue what these all_motifs.memefile is. Please ignore it."
   ]
  },
  {
   "cell_type": "code",
   "execution_count": 3,
   "metadata": {},
   "outputs": [],
   "source": [
    "import os\n",
    "import pandas as pd\n",
    "import numpy as np\n",
    "import pybedtools as pbt\n",
    "import subprocess as sp"
   ]
  },
  {
   "cell_type": "code",
   "execution_count": 4,
   "metadata": {},
   "outputs": [],
   "source": [
    "root = os.path.join(\"/data/iovino/group/rabbani/FC_exp9_4_and_FC_exp9_10/\")\n",
    "flanks = {\"300\":300, \"1000\":1000, \"2000\":2000}"
   ]
  },
  {
   "cell_type": "code",
   "execution_count": 5,
   "metadata": {},
   "outputs": [],
   "source": [
    "# list of all TSSs"
   ]
  },
  {
   "cell_type": "code",
   "execution_count": 6,
   "metadata": {},
   "outputs": [],
   "source": [
    "# all genes TSS\n",
    "genes = pd.read_csv(os.path.join( root,\"analysis_ensembl96/featureCounts/\",\n",
    "                    \"20200708_01_FC_RNA_T180xN174_Ctrl-KD_emb_st2_rep1.counts.txt\"), \n",
    "                    sep = \"\\t\", skiprows=1,\n",
    "                    usecols =['Geneid', 'Chr', 'Start', 'End', 'Strand'])\n",
    "genes['Chr'] = genes['Chr'].str.split(\";\")\n",
    "genes['Chr'] = genes['Chr'].str[0]\n",
    "genes['Start'] = genes['Start'].str.split(\";\")\n",
    "genes['Start'] = genes['Start'].str[0]\n",
    "genes['End'] = genes['End'].str.split(\";\")\n",
    "genes['End'] = genes['End'].str[0]\n",
    "genes['Strand'] = genes['Strand'].str.split(\";\")\n",
    "genes['Strand'] = genes['Strand'].str[0]\n",
    "genes = genes.loc[genes[\"Chr\"].isin(['2R','2L', '3R', '3L', 'X', '4'])]"
   ]
  },
  {
   "cell_type": "code",
   "execution_count": 7,
   "metadata": {},
   "outputs": [],
   "source": [
    "# read chrom length file\n",
    "chrom_length = pd.read_csv(\"/data/repository/organisms/dm6_ensembl/genome_fasta/genome.chrom.sizes\",\n",
    "                           header = None, sep =\"\\t\")\n",
    "chrom_length = chrom_length.loc[chrom_length[0].isin(['2R','2L', '3R', '3L', 'X', '4'])].T\n",
    "chrom_length.columns = chrom_length.iloc[0]\n",
    "chrom_length.drop([0], axis = 0, inplace = True)"
   ]
  },
  {
   "cell_type": "code",
   "execution_count": 8,
   "metadata": {
    "collapsed": true
   },
   "outputs": [
    {
     "name": "stderr",
     "output_type": "stream",
     "text": [
      "/data/processing3/leily/miniconda3/envs/matplotlib/lib/python3.6/site-packages/ipykernel_launcher.py:6: SettingWithCopyWarning: \n",
      "A value is trying to be set on a copy of a slice from a DataFrame.\n",
      "Try using .loc[row_indexer,col_indexer] = value instead\n",
      "\n",
      "See the caveats in the documentation: https://pandas.pydata.org/pandas-docs/stable/user_guide/indexing.html#returning-a-view-versus-a-copy\n",
      "  \n",
      "/data/processing3/leily/miniconda3/envs/matplotlib/lib/python3.6/site-packages/ipykernel_launcher.py:7: SettingWithCopyWarning: \n",
      "A value is trying to be set on a copy of a slice from a DataFrame.\n",
      "Try using .loc[row_indexer,col_indexer] = value instead\n",
      "\n",
      "See the caveats in the documentation: https://pandas.pydata.org/pandas-docs/stable/user_guide/indexing.html#returning-a-view-versus-a-copy\n",
      "  import sys\n",
      "/data/processing3/leily/miniconda3/envs/matplotlib/lib/python3.6/site-packages/pandas/core/indexing.py:1765: SettingWithCopyWarning: \n",
      "A value is trying to be set on a copy of a slice from a DataFrame.\n",
      "Try using .loc[row_indexer,col_indexer] = value instead\n",
      "\n",
      "See the caveats in the documentation: https://pandas.pydata.org/pandas-docs/stable/user_guide/indexing.html#returning-a-view-versus-a-copy\n",
      "  isetter(loc, value)\n",
      "/data/processing3/leily/miniconda3/envs/matplotlib/lib/python3.6/site-packages/ipykernel_launcher.py:11: SettingWithCopyWarning: \n",
      "A value is trying to be set on a copy of a slice from a DataFrame.\n",
      "Try using .loc[row_indexer,col_indexer] = value instead\n",
      "\n",
      "See the caveats in the documentation: https://pandas.pydata.org/pandas-docs/stable/user_guide/indexing.html#returning-a-view-versus-a-copy\n",
      "  # This is added back by InteractiveShellApp.init_path()\n",
      "/data/processing3/leily/miniconda3/envs/matplotlib/lib/python3.6/site-packages/pandas/core/indexing.py:1765: SettingWithCopyWarning: \n",
      "A value is trying to be set on a copy of a slice from a DataFrame.\n",
      "Try using .loc[row_indexer,col_indexer] = value instead\n",
      "\n",
      "See the caveats in the documentation: https://pandas.pydata.org/pandas-docs/stable/user_guide/indexing.html#returning-a-view-versus-a-copy\n",
      "  isetter(loc, value)\n",
      "/data/processing3/leily/miniconda3/envs/matplotlib/lib/python3.6/site-packages/ipykernel_launcher.py:13: SettingWithCopyWarning: \n",
      "A value is trying to be set on a copy of a slice from a DataFrame.\n",
      "Try using .loc[row_indexer,col_indexer] = value instead\n",
      "\n",
      "See the caveats in the documentation: https://pandas.pydata.org/pandas-docs/stable/user_guide/indexing.html#returning-a-view-versus-a-copy\n",
      "  del sys.path[0]\n",
      "/data/processing3/leily/miniconda3/envs/matplotlib/lib/python3.6/site-packages/ipykernel_launcher.py:6: SettingWithCopyWarning: \n",
      "A value is trying to be set on a copy of a slice from a DataFrame.\n",
      "Try using .loc[row_indexer,col_indexer] = value instead\n",
      "\n",
      "See the caveats in the documentation: https://pandas.pydata.org/pandas-docs/stable/user_guide/indexing.html#returning-a-view-versus-a-copy\n",
      "  \n",
      "/data/processing3/leily/miniconda3/envs/matplotlib/lib/python3.6/site-packages/ipykernel_launcher.py:7: SettingWithCopyWarning: \n",
      "A value is trying to be set on a copy of a slice from a DataFrame.\n",
      "Try using .loc[row_indexer,col_indexer] = value instead\n",
      "\n",
      "See the caveats in the documentation: https://pandas.pydata.org/pandas-docs/stable/user_guide/indexing.html#returning-a-view-versus-a-copy\n",
      "  import sys\n",
      "/data/processing3/leily/miniconda3/envs/matplotlib/lib/python3.6/site-packages/pandas/core/indexing.py:1765: SettingWithCopyWarning: \n",
      "A value is trying to be set on a copy of a slice from a DataFrame.\n",
      "Try using .loc[row_indexer,col_indexer] = value instead\n",
      "\n",
      "See the caveats in the documentation: https://pandas.pydata.org/pandas-docs/stable/user_guide/indexing.html#returning-a-view-versus-a-copy\n",
      "  isetter(loc, value)\n",
      "/data/processing3/leily/miniconda3/envs/matplotlib/lib/python3.6/site-packages/ipykernel_launcher.py:11: SettingWithCopyWarning: \n",
      "A value is trying to be set on a copy of a slice from a DataFrame.\n",
      "Try using .loc[row_indexer,col_indexer] = value instead\n",
      "\n",
      "See the caveats in the documentation: https://pandas.pydata.org/pandas-docs/stable/user_guide/indexing.html#returning-a-view-versus-a-copy\n",
      "  # This is added back by InteractiveShellApp.init_path()\n",
      "/data/processing3/leily/miniconda3/envs/matplotlib/lib/python3.6/site-packages/pandas/core/indexing.py:1765: SettingWithCopyWarning: \n",
      "A value is trying to be set on a copy of a slice from a DataFrame.\n",
      "Try using .loc[row_indexer,col_indexer] = value instead\n",
      "\n",
      "See the caveats in the documentation: https://pandas.pydata.org/pandas-docs/stable/user_guide/indexing.html#returning-a-view-versus-a-copy\n",
      "  isetter(loc, value)\n",
      "/data/processing3/leily/miniconda3/envs/matplotlib/lib/python3.6/site-packages/ipykernel_launcher.py:13: SettingWithCopyWarning: \n",
      "A value is trying to be set on a copy of a slice from a DataFrame.\n",
      "Try using .loc[row_indexer,col_indexer] = value instead\n",
      "\n",
      "See the caveats in the documentation: https://pandas.pydata.org/pandas-docs/stable/user_guide/indexing.html#returning-a-view-versus-a-copy\n",
      "  del sys.path[0]\n",
      "/data/processing3/leily/miniconda3/envs/matplotlib/lib/python3.6/site-packages/ipykernel_launcher.py:6: SettingWithCopyWarning: \n",
      "A value is trying to be set on a copy of a slice from a DataFrame.\n",
      "Try using .loc[row_indexer,col_indexer] = value instead\n",
      "\n",
      "See the caveats in the documentation: https://pandas.pydata.org/pandas-docs/stable/user_guide/indexing.html#returning-a-view-versus-a-copy\n",
      "  \n",
      "/data/processing3/leily/miniconda3/envs/matplotlib/lib/python3.6/site-packages/ipykernel_launcher.py:7: SettingWithCopyWarning: \n",
      "A value is trying to be set on a copy of a slice from a DataFrame.\n",
      "Try using .loc[row_indexer,col_indexer] = value instead\n",
      "\n",
      "See the caveats in the documentation: https://pandas.pydata.org/pandas-docs/stable/user_guide/indexing.html#returning-a-view-versus-a-copy\n",
      "  import sys\n",
      "/data/processing3/leily/miniconda3/envs/matplotlib/lib/python3.6/site-packages/pandas/core/indexing.py:1765: SettingWithCopyWarning: \n",
      "A value is trying to be set on a copy of a slice from a DataFrame.\n",
      "Try using .loc[row_indexer,col_indexer] = value instead\n",
      "\n",
      "See the caveats in the documentation: https://pandas.pydata.org/pandas-docs/stable/user_guide/indexing.html#returning-a-view-versus-a-copy\n",
      "  isetter(loc, value)\n",
      "/data/processing3/leily/miniconda3/envs/matplotlib/lib/python3.6/site-packages/ipykernel_launcher.py:11: SettingWithCopyWarning: \n",
      "A value is trying to be set on a copy of a slice from a DataFrame.\n",
      "Try using .loc[row_indexer,col_indexer] = value instead\n",
      "\n",
      "See the caveats in the documentation: https://pandas.pydata.org/pandas-docs/stable/user_guide/indexing.html#returning-a-view-versus-a-copy\n",
      "  # This is added back by InteractiveShellApp.init_path()\n",
      "/data/processing3/leily/miniconda3/envs/matplotlib/lib/python3.6/site-packages/pandas/core/indexing.py:1765: SettingWithCopyWarning: \n",
      "A value is trying to be set on a copy of a slice from a DataFrame.\n",
      "Try using .loc[row_indexer,col_indexer] = value instead\n",
      "\n",
      "See the caveats in the documentation: https://pandas.pydata.org/pandas-docs/stable/user_guide/indexing.html#returning-a-view-versus-a-copy\n",
      "  isetter(loc, value)\n",
      "/data/processing3/leily/miniconda3/envs/matplotlib/lib/python3.6/site-packages/ipykernel_launcher.py:13: SettingWithCopyWarning: \n",
      "A value is trying to be set on a copy of a slice from a DataFrame.\n",
      "Try using .loc[row_indexer,col_indexer] = value instead\n",
      "\n",
      "See the caveats in the documentation: https://pandas.pydata.org/pandas-docs/stable/user_guide/indexing.html#returning-a-view-versus-a-copy\n",
      "  del sys.path[0]\n"
     ]
    }
   ],
   "source": [
    "# exteded TSS using the flanking bases\n",
    "df = pd.DataFrame()\n",
    "extended_tss = {'tss_' + str(i):df for i in flanks.keys()}\n",
    "for key, flank in flanks.items():\n",
    "    tss_pos = genes.loc[genes[\"Strand\"] == \"+\"]\n",
    "    tss_pos[\"End\"] = tss_pos[\"Start\"].astype('int32')+flank\n",
    "    tss_pos[\"Start\"] = tss_pos[\"Start\"].astype('int32')-flank\n",
    "    tss_pos.loc[tss_pos[\"Start\"] < 0, \"Start\" ] = 0\n",
    "\n",
    "    tss_neg = genes.loc[genes[\"Strand\"] == \"-\"]\n",
    "    tss_neg[\"Start\"] = tss_neg[\"End\"].astype('int32')-flank\n",
    "    tss_neg.loc[tss_neg[\"Start\"] < 0, \"Start\"] = 0\n",
    "    tss_neg[\"End\"] = tss_neg[\"End\"].astype('int32')+flank\n",
    "    extended_tss[\"tss_\"+key] = pd.concat([tss_pos, tss_neg])\n",
    "    extended_tss[\"tss_\"+key].sort_values(['Chr', 'Start'], inplace= True)\n",
    "    # # check for chr length \n",
    "    for chrom in np.unique(extended_tss[\"tss_\"+key][\"Chr\"].values):\n",
    "        length = chrom_length[chrom].astype('int32').values[0]\n",
    "        extended_tss[\"tss_\"+key].loc[(extended_tss[\"tss_\"+key][\"Chr\"] == chrom) & \n",
    "                                      (extended_tss[\"tss_\"+key][\"End\"] > length), \"End\"] = length - 1"
   ]
  },
  {
   "cell_type": "code",
   "execution_count": 22,
   "metadata": {},
   "outputs": [],
   "source": [
    "# get the groseq overlapped files sequences\n",
    "tsvs_path = os.path.join(root, \"downstream_analysis_ensembl96/groseq_overlap/\")\n",
    "for file in os.listdir(tsvs_path):\n",
    "    if \"padj0.05_lfc-1_groseq\" in file:\n",
    "        name = file.split(\".tsv\")[0]\n",
    "        df = pd.read_csv(os.path.join(tsvs_path, file),sep = \"\\t\", usecols = [\"gene_id\"])\n",
    "        df.rename(columns={\"gene_id\": \"Geneid\"}, inplace = True)\n",
    "        for k, tss in extended_tss.items():\n",
    "            df_tss = df.merge(tss, on =\"Geneid\", how=\"inner\") # each kd is merged to its gene coord.\n",
    "            df_fasta = pbt.BedTool.from_dataframe(df_tss[[\"Chr\",\"Start\",\"End\"]])\n",
    "            df_fasta = df_fasta.sequence(fi=\"/data/repository/organisms/dm6_ensembl/\"\n",
    "                                         \"genome_fasta/genome.fa\",\n",
    "                                         fo = name+\"_\"+k+\"base_regions.fasta\")    "
   ]
  },
  {
   "cell_type": "code",
   "execution_count": 10,
   "metadata": {},
   "outputs": [],
   "source": [
    "# motif dbs:"
   ]
  },
  {
   "cell_type": "code",
   "execution_count": 11,
   "metadata": {},
   "outputs": [],
   "source": [
    "# core promotor motifs dbs: (only for +-300)\n",
    "path_to_repo = \"/data/iovino/repository/rauer/Databases/\"\n",
    "path_to_group = \"/data/iovino/group/rauer/Domino-H2Av/output3/TF_motif_enrichment/\"\\\n",
    "                \"motif_database/\"\n",
    "promoter_dbs = [\n",
    "    path_to_repo+\"CPE.Haberle_and_Stark/Haberle_and_Stark_NRMCB_2018_Table1_motifs_PFMs.meme\",\n",
    "    path_to_repo+\"Ramalingam2021/promoter_elements.meme\",\n",
    "    path_to_group+\"Custom_databases/Zelda_motif/MA1462.1.meme\"\n",
    "    ]"
   ]
  },
  {
   "cell_type": "code",
   "execution_count": 12,
   "metadata": {},
   "outputs": [],
   "source": [
    "# Fly motif dbs: (only for +-2000)\n",
    "# path_to_dbs = \"/data/iovino/group/rauer/Domino-H2Av/output2/TFmotifs.error/data/\"\\\n",
    "#               \"MEME_database/motif_databases/FLY/\"\n",
    "# path_to_dbs+\"OnTheFly_2014_Drosophila.meme\",\n",
    "# path_to_dbs+\"idmmpmm2009.meme\",\n",
    "# path_to_dbs+\"flyreg.v2.meme\",\n",
    "# path_to_dbs+\"fly_factor_survey.meme\",\n",
    "# path_to_dbs+\"dmmpmm2009.meme\",\n",
    "path_to_jasper = \"/data/iovino/group/rauer/Domino-H2Av/output3/TF_motif_enrichment/\"\\\n",
    "                \"motif_database/\"\n",
    "dbs = [\n",
    "    path_to_jasper+\"JASPAR2020/JASPAR2020_CORE_insects_non-redundant_pfms_meme.txt\"\n",
    "    ]"
   ]
  },
  {
   "cell_type": "code",
   "execution_count": 13,
   "metadata": {},
   "outputs": [],
   "source": [
    "# option 1: Use all groseq+ as bg"
   ]
  },
  {
   "cell_type": "code",
   "execution_count": 14,
   "metadata": {},
   "outputs": [],
   "source": [
    "# bg_df = pd.read_csv(os.path.join(root,\"downstream_analysis/motif_enrichment/csv_lists/\",\n",
    "#                                  \"FC1_groseq+.csv\"), sep = \";\", usecols = [\"groseq+\"])\n",
    "# bg_df.columns = ['Geneid']\n",
    "# for k, tss in extended_tss.items():\n",
    "#     print(k)\n",
    "#     df_tss = bg_df.merge(tss, on =\"Geneid\", how=\"inner\")\n",
    "#     df_fasta = pbt.BedTool.from_dataframe(df_tss[[\"Chr\",\"Start\",\"End\"]])\n",
    "#     df_fasta = df_fasta.sequence(fi=\"/data/repository/organisms/dm6_ensembl/\"\n",
    "#                                     \"genome_fasta/genome.fa\",\n",
    "#                                  fo = \"groseq_\"+k+\"base_regions.fasta\")  "
   ]
  },
  {
   "cell_type": "code",
   "execution_count": 16,
   "metadata": {},
   "outputs": [],
   "source": [
    "# for file in os.listdir(os.getcwd()):\n",
    "#     name = file.split(\"_tss\")[0]\n",
    "#     if (\"padj0.05_lfc-1\" in file ) and (file.endswith(\"_300base_regions.fasta\")):\n",
    "#         cmd = \"module load meme;\"\n",
    "#         cmd += \"ame --control groseq_tss_300base_regions.fasta \"\n",
    "#         cmd += \"-oc cp_motifs/\" + name + \"_allgroseq+bg_cp_0.3kb \"\n",
    "#         cmd += os.path.join(os.getcwd(), file) + \" \"\n",
    "#         cmd += (\" \").join(promoter_dbs)\n",
    "#         print(cmd)\n",
    "#         sp.check_output(cmd, shell = True)\n",
    "#     elif (\"padj0.05_lfc-1\" in file ) and (file.endswith(\"_2000base_regions.fasta\")):\n",
    "#         cmd = \"module load meme;\"\n",
    "#         cmd += \"ame --control groseq_tss_2000base_regions.fasta \"\n",
    "#         cmd += \"-oc tf_motifs/\" + name + \"_allgroseq+bg_tf_2kb  \"\n",
    "#         cmd += os.path.join(os.getcwd(), file) + \" \"\n",
    "#         cmd += (\" \").join(dbs)\n",
    "#         print(cmd)\n",
    "#         sp.check_output(cmd, shell = True)      "
   ]
  },
  {
   "cell_type": "code",
   "execution_count": 17,
   "metadata": {},
   "outputs": [],
   "source": [
    "# option 2: Exclude the foreground from groseq+"
   ]
  },
  {
   "cell_type": "code",
   "execution_count": 18,
   "metadata": {},
   "outputs": [],
   "source": [
    "# tsvs_path = os.path.join(root, \"downstream_analysis_ensembl96/groseq_overlap/\")\n",
    "# bg_df = pd.read_csv(os.path.join(root,\"downstream_analysis/motif_enrichment/csv_lists/\",\n",
    "#                                  \"FC1_groseq+.csv\"), sep = \";\", usecols = [\"groseq+\"])\n",
    "# bg_df.columns = ['Geneid']\n",
    "# def get_extended_tss(extended_tss, df, kd):\n",
    "#     for k, tss in extended_tss.items():\n",
    "#         df_tss = df.merge(tss, on =\"Geneid\", how=\"inner\")\n",
    "#         df_fasta = pbt.BedTool.from_dataframe(df_tss[[\"Chr\",\"Start\",\"End\"]])\n",
    "#         df_fasta = df_fasta.sequence(fi=\"/data/repository/organisms/dm6_ensembl/\"\n",
    "#                                         \"genome_fasta/genome.fa\",\n",
    "#                                      fo = \"groseq_exclude_\"+kd+k+\"base_regions.fasta\")  \n",
    "# for file in os.listdir(os.getcwd()):\n",
    "#     name = file.split(\"_tss\")[0]\n",
    "#     if (\"padj0.05_lfc-1\" in file ) and (file.endswith(\"_300base_regions.fasta\")):\n",
    "#         kd_df = pd.read_csv(tsvs_path+name+\".tsv\", sep = \"\\t\")\n",
    "#         kd_df.rename(columns={\"gene_id\":\"Geneid\"}, inplace =True)\n",
    "#         this_bg = bg_df.merge(kd_df, how=\"outer\",indicator=True).loc[lambda x : x['_merge']=='left_only']\n",
    "#         this_bg = this_bg.iloc[:,0:1]\n",
    "#         get_extended_tss(extended_tss, this_bg, name.split(\"padj\")[0])\n",
    "#         cmd = \"module load meme;\"\n",
    "#         cmd += \"ame --control groseq_exclude_\"+name.split(\"padj\")[0]+\"tss_300base_regions.fasta \"\n",
    "#         cmd += \"-oc cp_motifs/\" + name + \"_groseq+_exclude_\"+name.split(\"padj\")[0]+\"bg_cp_0.3kb \"\n",
    "#         cmd += os.path.join(os.getcwd(), file) + \" \"\n",
    "#         cmd += (\" \").join(promoter_dbs)\n",
    "#         print(cmd)\n",
    "#         sp.check_output(cmd, shell = True)\n",
    "#     elif (\"padj0.05_lfc-1\" in file ) and (file.endswith(\"_2000base_regions.fasta\")):\n",
    "#         kd_df = pd.read_csv(tsvs_path+name+\".tsv\", sep = \"\\t\")\n",
    "#         kd_df.rename(columns={\"gene_id\":\"Geneid\"}, inplace =True)\n",
    "#         this_bg = bg_df.merge(kd_df, how=\"outer\",indicator=True).loc[lambda x : x['_merge']=='left_only']\n",
    "#         this_bg = this_bg.iloc[:,0:1]\n",
    "#         get_extended_tss(extended_tss, this_bg, name.split(\"padj\")[0])\n",
    "#         cmd = \"module load meme;\"\n",
    "#         cmd += \"ame --control groseq_exclude_\"+name.split(\"padj\")[0]+\"tss_2000base_regions.fasta \"\n",
    "#         cmd += \"-oc tf_motifs/\" + name + \"_groseq+_exclude_\"+name.split(\"padj\")[0]+\"bg_tf_2kb  \"\n",
    "#         cmd += os.path.join(os.getcwd(), file) + \" \"\n",
    "#         cmd += (\" \").join(dbs)\n",
    "#         print(cmd)\n",
    "#         sp.check_output(cmd, shell = True) "
   ]
  },
  {
   "cell_type": "code",
   "execution_count": 19,
   "metadata": {},
   "outputs": [],
   "source": [
    "# option3: inactive genes as bg"
   ]
  },
  {
   "cell_type": "code",
   "execution_count": 20,
   "metadata": {
    "collapsed": true
   },
   "outputs": [
    {
     "name": "stderr",
     "output_type": "stream",
     "text": [
      "/data/processing3/leily/miniconda3/envs/matplotlib/lib/python3.6/site-packages/pandas/core/frame.py:4301: SettingWithCopyWarning: \n",
      "A value is trying to be set on a copy of a slice from a DataFrame\n",
      "\n",
      "See the caveats in the documentation: https://pandas.pydata.org/pandas-docs/stable/user_guide/indexing.html#returning-a-view-versus-a-copy\n",
      "  errors=errors,\n"
     ]
    }
   ],
   "source": [
    "regions_df = pd.read_csv(os.path.join(root, \"downstream_analysis_ensembl96\",\n",
    "                                      \"Domino-study.grouping_figure3.gene_id.tsv\"),\n",
    "                        sep = \"\\t\")\n",
    "inactive = regions_df.loc[regions_df[\"fig3.group\"] == \"inactive\"]\n",
    "inactive.rename(columns={\"gene_id\": \"Geneid\"}, inplace = True)\n",
    "for k, tss in extended_tss.items():\n",
    "    df_tss = inactive.merge(tss, on =\"Geneid\", how=\"inner\")\n",
    "    df_fasta = pbt.BedTool.from_dataframe(df_tss[[\"Chr\",\"Start\",\"End\"]])\n",
    "    df_fasta = df_fasta.sequence(fi=\"/data/repository/organisms/dm6_ensembl/\"\n",
    "                                    \"genome_fasta/genome.fa\",\n",
    "                                 fo = \"inactvie_\"+k+\"base_regions.fasta\")  "
   ]
  },
  {
   "cell_type": "code",
   "execution_count": 23,
   "metadata": {},
   "outputs": [
    {
     "name": "stdout",
     "output_type": "stream",
     "text": [
      "module load meme;ame --control inactvie_tss_300base_regions.fasta -oc cp_motifs/hdac3_down_padj0.05_lfc-1_groseq_inactvie+bg_cp_0.3kb /data/iovino/group/rabbani/FC_exp9_4_and_FC_exp9_10/downstream_analysis_ensembl96/motif_enrichment/hdac3_down_padj0.05_lfc-1_groseq_tss_300base_regions.fasta /data/iovino/repository/rauer/Databases/CPE.Haberle_and_Stark/Haberle_and_Stark_NRMCB_2018_Table1_motifs_PFMs.meme /data/iovino/repository/rauer/Databases/Ramalingam2021/promoter_elements.meme /data/iovino/group/rauer/Domino-H2Av/output3/TF_motif_enrichment/motif_database/Custom_databases/Zelda_motif/MA1462.1.meme\n",
      "module load meme;ame --control inactvie_tss_300base_regions.fasta -oc cp_motifs/gcn5_down_padj0.05_lfc-1_groseq_inactvie+bg_cp_0.3kb /data/iovino/group/rabbani/FC_exp9_4_and_FC_exp9_10/downstream_analysis_ensembl96/motif_enrichment/gcn5_down_padj0.05_lfc-1_groseq_tss_300base_regions.fasta /data/iovino/repository/rauer/Databases/CPE.Haberle_and_Stark/Haberle_and_Stark_NRMCB_2018_Table1_motifs_PFMs.meme /data/iovino/repository/rauer/Databases/Ramalingam2021/promoter_elements.meme /data/iovino/group/rauer/Domino-H2Av/output3/TF_motif_enrichment/motif_database/Custom_databases/Zelda_motif/MA1462.1.meme\n",
      "module load meme;ame --control inactvie_tss_1000base_regions.fasta -oc tf_motifs/gcn5_down_padj0.05_lfc-1_groseq_inactive+bg_tf_1kb  /data/iovino/group/rabbani/FC_exp9_4_and_FC_exp9_10/downstream_analysis_ensembl96/motif_enrichment/gcn5_down_padj0.05_lfc-1_groseq_tss_1000base_regions.fasta /data/iovino/group/rauer/Domino-H2Av/output3/TF_motif_enrichment/motif_database/JASPAR2020/JASPAR2020_CORE_insects_non-redundant_pfms_meme.txt\n",
      "module load meme;ame --control inactvie_tss_300base_regions.fasta -oc cp_motifs/hdac3_up_padj0.05_lfc-1_groseq_inactvie+bg_cp_0.3kb /data/iovino/group/rabbani/FC_exp9_4_and_FC_exp9_10/downstream_analysis_ensembl96/motif_enrichment/hdac3_up_padj0.05_lfc-1_groseq_tss_300base_regions.fasta /data/iovino/repository/rauer/Databases/CPE.Haberle_and_Stark/Haberle_and_Stark_NRMCB_2018_Table1_motifs_PFMs.meme /data/iovino/repository/rauer/Databases/Ramalingam2021/promoter_elements.meme /data/iovino/group/rauer/Domino-H2Av/output3/TF_motif_enrichment/motif_database/Custom_databases/Zelda_motif/MA1462.1.meme\n",
      "module load meme;ame --control inactvie_tss_300base_regions.fasta -oc cp_motifs/hdac1_up_padj0.05_lfc-1_groseq_inactvie+bg_cp_0.3kb /data/iovino/group/rabbani/FC_exp9_4_and_FC_exp9_10/downstream_analysis_ensembl96/motif_enrichment/hdac1_up_padj0.05_lfc-1_groseq_tss_300base_regions.fasta /data/iovino/repository/rauer/Databases/CPE.Haberle_and_Stark/Haberle_and_Stark_NRMCB_2018_Table1_motifs_PFMs.meme /data/iovino/repository/rauer/Databases/Ramalingam2021/promoter_elements.meme /data/iovino/group/rauer/Domino-H2Av/output3/TF_motif_enrichment/motif_database/Custom_databases/Zelda_motif/MA1462.1.meme\n",
      "module load meme;ame --control inactvie_tss_300base_regions.fasta -oc cp_motifs/hdac6_up_padj0.05_lfc-1_groseq_inactvie+bg_cp_0.3kb /data/iovino/group/rabbani/FC_exp9_4_and_FC_exp9_10/downstream_analysis_ensembl96/motif_enrichment/hdac6_up_padj0.05_lfc-1_groseq_tss_300base_regions.fasta /data/iovino/repository/rauer/Databases/CPE.Haberle_and_Stark/Haberle_and_Stark_NRMCB_2018_Table1_motifs_PFMs.meme /data/iovino/repository/rauer/Databases/Ramalingam2021/promoter_elements.meme /data/iovino/group/rauer/Domino-H2Av/output3/TF_motif_enrichment/motif_database/Custom_databases/Zelda_motif/MA1462.1.meme\n",
      "module load meme;ame --control inactvie_tss_300base_regions.fasta -oc cp_motifs/nej_down_padj0.05_lfc-1_groseq_inactvie+bg_cp_0.3kb /data/iovino/group/rabbani/FC_exp9_4_and_FC_exp9_10/downstream_analysis_ensembl96/motif_enrichment/nej_down_padj0.05_lfc-1_groseq_tss_300base_regions.fasta /data/iovino/repository/rauer/Databases/CPE.Haberle_and_Stark/Haberle_and_Stark_NRMCB_2018_Table1_motifs_PFMs.meme /data/iovino/repository/rauer/Databases/Ramalingam2021/promoter_elements.meme /data/iovino/group/rauer/Domino-H2Av/output3/TF_motif_enrichment/motif_database/Custom_databases/Zelda_motif/MA1462.1.meme\n",
      "module load meme;ame --control inactvie_tss_300base_regions.fasta -oc cp_motifs/enok_up_padj0.05_lfc-1_groseq_inactvie+bg_cp_0.3kb /data/iovino/group/rabbani/FC_exp9_4_and_FC_exp9_10/downstream_analysis_ensembl96/motif_enrichment/enok_up_padj0.05_lfc-1_groseq_tss_300base_regions.fasta /data/iovino/repository/rauer/Databases/CPE.Haberle_and_Stark/Haberle_and_Stark_NRMCB_2018_Table1_motifs_PFMs.meme /data/iovino/repository/rauer/Databases/Ramalingam2021/promoter_elements.meme /data/iovino/group/rauer/Domino-H2Av/output3/TF_motif_enrichment/motif_database/Custom_databases/Zelda_motif/MA1462.1.meme\n",
      "module load meme;ame --control inactvie_tss_1000base_regions.fasta -oc tf_motifs/enok_down_padj0.05_lfc-1_groseq_inactive+bg_tf_1kb  /data/iovino/group/rabbani/FC_exp9_4_and_FC_exp9_10/downstream_analysis_ensembl96/motif_enrichment/enok_down_padj0.05_lfc-1_groseq_tss_1000base_regions.fasta /data/iovino/group/rauer/Domino-H2Av/output3/TF_motif_enrichment/motif_database/JASPAR2020/JASPAR2020_CORE_insects_non-redundant_pfms_meme.txt\n",
      "module load meme;ame --control inactvie_tss_1000base_regions.fasta -oc tf_motifs/hdac3_down_padj0.05_lfc-1_groseq_inactive+bg_tf_1kb  /data/iovino/group/rabbani/FC_exp9_4_and_FC_exp9_10/downstream_analysis_ensembl96/motif_enrichment/hdac3_down_padj0.05_lfc-1_groseq_tss_1000base_regions.fasta /data/iovino/group/rauer/Domino-H2Av/output3/TF_motif_enrichment/motif_database/JASPAR2020/JASPAR2020_CORE_insects_non-redundant_pfms_meme.txt\n",
      "module load meme;ame --control inactvie_tss_1000base_regions.fasta -oc tf_motifs/hdac6_down_padj0.05_lfc-1_groseq_inactive+bg_tf_1kb  /data/iovino/group/rabbani/FC_exp9_4_and_FC_exp9_10/downstream_analysis_ensembl96/motif_enrichment/hdac6_down_padj0.05_lfc-1_groseq_tss_1000base_regions.fasta /data/iovino/group/rauer/Domino-H2Av/output3/TF_motif_enrichment/motif_database/JASPAR2020/JASPAR2020_CORE_insects_non-redundant_pfms_meme.txt\n",
      "module load meme;ame --control inactvie_tss_1000base_regions.fasta -oc tf_motifs/enok_up_padj0.05_lfc-1_groseq_inactive+bg_tf_1kb  /data/iovino/group/rabbani/FC_exp9_4_and_FC_exp9_10/downstream_analysis_ensembl96/motif_enrichment/enok_up_padj0.05_lfc-1_groseq_tss_1000base_regions.fasta /data/iovino/group/rauer/Domino-H2Av/output3/TF_motif_enrichment/motif_database/JASPAR2020/JASPAR2020_CORE_insects_non-redundant_pfms_meme.txt\n",
      "module load meme;ame --control inactvie_tss_1000base_regions.fasta -oc tf_motifs/hdac3_up_padj0.05_lfc-1_groseq_inactive+bg_tf_1kb  /data/iovino/group/rabbani/FC_exp9_4_and_FC_exp9_10/downstream_analysis_ensembl96/motif_enrichment/hdac3_up_padj0.05_lfc-1_groseq_tss_1000base_regions.fasta /data/iovino/group/rauer/Domino-H2Av/output3/TF_motif_enrichment/motif_database/JASPAR2020/JASPAR2020_CORE_insects_non-redundant_pfms_meme.txt\n",
      "module load meme;ame --control inactvie_tss_300base_regions.fasta -oc cp_motifs/gcn5_up_padj0.05_lfc-1_groseq_inactvie+bg_cp_0.3kb /data/iovino/group/rabbani/FC_exp9_4_and_FC_exp9_10/downstream_analysis_ensembl96/motif_enrichment/gcn5_up_padj0.05_lfc-1_groseq_tss_300base_regions.fasta /data/iovino/repository/rauer/Databases/CPE.Haberle_and_Stark/Haberle_and_Stark_NRMCB_2018_Table1_motifs_PFMs.meme /data/iovino/repository/rauer/Databases/Ramalingam2021/promoter_elements.meme /data/iovino/group/rauer/Domino-H2Av/output3/TF_motif_enrichment/motif_database/Custom_databases/Zelda_motif/MA1462.1.meme\n",
      "module load meme;ame --control inactvie_tss_300base_regions.fasta -oc cp_motifs/hdac6_down_padj0.05_lfc-1_groseq_inactvie+bg_cp_0.3kb /data/iovino/group/rabbani/FC_exp9_4_and_FC_exp9_10/downstream_analysis_ensembl96/motif_enrichment/hdac6_down_padj0.05_lfc-1_groseq_tss_300base_regions.fasta /data/iovino/repository/rauer/Databases/CPE.Haberle_and_Stark/Haberle_and_Stark_NRMCB_2018_Table1_motifs_PFMs.meme /data/iovino/repository/rauer/Databases/Ramalingam2021/promoter_elements.meme /data/iovino/group/rauer/Domino-H2Av/output3/TF_motif_enrichment/motif_database/Custom_databases/Zelda_motif/MA1462.1.meme\n",
      "module load meme;ame --control inactvie_tss_1000base_regions.fasta -oc tf_motifs/hdac1_up_padj0.05_lfc-1_groseq_inactive+bg_tf_1kb  /data/iovino/group/rabbani/FC_exp9_4_and_FC_exp9_10/downstream_analysis_ensembl96/motif_enrichment/hdac1_up_padj0.05_lfc-1_groseq_tss_1000base_regions.fasta /data/iovino/group/rauer/Domino-H2Av/output3/TF_motif_enrichment/motif_database/JASPAR2020/JASPAR2020_CORE_insects_non-redundant_pfms_meme.txt\n"
     ]
    },
    {
     "name": "stdout",
     "output_type": "stream",
     "text": [
      "module load meme;ame --control inactvie_tss_300base_regions.fasta -oc cp_motifs/hdac1_down_padj0.05_lfc-1_groseq_inactvie+bg_cp_0.3kb /data/iovino/group/rabbani/FC_exp9_4_and_FC_exp9_10/downstream_analysis_ensembl96/motif_enrichment/hdac1_down_padj0.05_lfc-1_groseq_tss_300base_regions.fasta /data/iovino/repository/rauer/Databases/CPE.Haberle_and_Stark/Haberle_and_Stark_NRMCB_2018_Table1_motifs_PFMs.meme /data/iovino/repository/rauer/Databases/Ramalingam2021/promoter_elements.meme /data/iovino/group/rauer/Domino-H2Av/output3/TF_motif_enrichment/motif_database/Custom_databases/Zelda_motif/MA1462.1.meme\n",
      "module load meme;ame --control inactvie_tss_1000base_regions.fasta -oc tf_motifs/hdac1_down_padj0.05_lfc-1_groseq_inactive+bg_tf_1kb  /data/iovino/group/rabbani/FC_exp9_4_and_FC_exp9_10/downstream_analysis_ensembl96/motif_enrichment/hdac1_down_padj0.05_lfc-1_groseq_tss_1000base_regions.fasta /data/iovino/group/rauer/Domino-H2Av/output3/TF_motif_enrichment/motif_database/JASPAR2020/JASPAR2020_CORE_insects_non-redundant_pfms_meme.txt\n",
      "module load meme;ame --control inactvie_tss_1000base_regions.fasta -oc tf_motifs/nej_down_padj0.05_lfc-1_groseq_inactive+bg_tf_1kb  /data/iovino/group/rabbani/FC_exp9_4_and_FC_exp9_10/downstream_analysis_ensembl96/motif_enrichment/nej_down_padj0.05_lfc-1_groseq_tss_1000base_regions.fasta /data/iovino/group/rauer/Domino-H2Av/output3/TF_motif_enrichment/motif_database/JASPAR2020/JASPAR2020_CORE_insects_non-redundant_pfms_meme.txt\n",
      "module load meme;ame --control inactvie_tss_1000base_regions.fasta -oc tf_motifs/nej_up_padj0.05_lfc-1_groseq_inactive+bg_tf_1kb  /data/iovino/group/rabbani/FC_exp9_4_and_FC_exp9_10/downstream_analysis_ensembl96/motif_enrichment/nej_up_padj0.05_lfc-1_groseq_tss_1000base_regions.fasta /data/iovino/group/rauer/Domino-H2Av/output3/TF_motif_enrichment/motif_database/JASPAR2020/JASPAR2020_CORE_insects_non-redundant_pfms_meme.txt\n",
      "module load meme;ame --control inactvie_tss_1000base_regions.fasta -oc tf_motifs/hdac6_up_padj0.05_lfc-1_groseq_inactive+bg_tf_1kb  /data/iovino/group/rabbani/FC_exp9_4_and_FC_exp9_10/downstream_analysis_ensembl96/motif_enrichment/hdac6_up_padj0.05_lfc-1_groseq_tss_1000base_regions.fasta /data/iovino/group/rauer/Domino-H2Av/output3/TF_motif_enrichment/motif_database/JASPAR2020/JASPAR2020_CORE_insects_non-redundant_pfms_meme.txt\n",
      "module load meme;ame --control inactvie_tss_1000base_regions.fasta -oc tf_motifs/gcn5_up_padj0.05_lfc-1_groseq_inactive+bg_tf_1kb  /data/iovino/group/rabbani/FC_exp9_4_and_FC_exp9_10/downstream_analysis_ensembl96/motif_enrichment/gcn5_up_padj0.05_lfc-1_groseq_tss_1000base_regions.fasta /data/iovino/group/rauer/Domino-H2Av/output3/TF_motif_enrichment/motif_database/JASPAR2020/JASPAR2020_CORE_insects_non-redundant_pfms_meme.txt\n",
      "module load meme;ame --control inactvie_tss_300base_regions.fasta -oc cp_motifs/enok_down_padj0.05_lfc-1_groseq_inactvie+bg_cp_0.3kb /data/iovino/group/rabbani/FC_exp9_4_and_FC_exp9_10/downstream_analysis_ensembl96/motif_enrichment/enok_down_padj0.05_lfc-1_groseq_tss_300base_regions.fasta /data/iovino/repository/rauer/Databases/CPE.Haberle_and_Stark/Haberle_and_Stark_NRMCB_2018_Table1_motifs_PFMs.meme /data/iovino/repository/rauer/Databases/Ramalingam2021/promoter_elements.meme /data/iovino/group/rauer/Domino-H2Av/output3/TF_motif_enrichment/motif_database/Custom_databases/Zelda_motif/MA1462.1.meme\n",
      "module load meme;ame --control inactvie_tss_300base_regions.fasta -oc cp_motifs/nej_up_padj0.05_lfc-1_groseq_inactvie+bg_cp_0.3kb /data/iovino/group/rabbani/FC_exp9_4_and_FC_exp9_10/downstream_analysis_ensembl96/motif_enrichment/nej_up_padj0.05_lfc-1_groseq_tss_300base_regions.fasta /data/iovino/repository/rauer/Databases/CPE.Haberle_and_Stark/Haberle_and_Stark_NRMCB_2018_Table1_motifs_PFMs.meme /data/iovino/repository/rauer/Databases/Ramalingam2021/promoter_elements.meme /data/iovino/group/rauer/Domino-H2Av/output3/TF_motif_enrichment/motif_database/Custom_databases/Zelda_motif/MA1462.1.meme\n"
     ]
    }
   ],
   "source": [
    "for file in os.listdir(os.getcwd()):\n",
    "    name = file.split(\"_tss\")[0]\n",
    "    if (\"padj0.05_lfc-1\" in file ) and (file.endswith(\"_300base_regions.fasta\")):\n",
    "        cmd = \"module load meme;\"\n",
    "        cmd += \"ame --control inactvie_tss_300base_regions.fasta \"\n",
    "        cmd += \"-oc cp_motifs/\" + name + \"_inactvie+bg_cp_0.3kb \"\n",
    "        cmd += os.path.join(os.getcwd(), file) + \" \"\n",
    "        cmd += (\" \").join(promoter_dbs)\n",
    "        print(cmd)\n",
    "        sp.check_output(cmd, shell = True)\n",
    "    elif (\"padj0.05_lfc-1\" in file ) and (file.endswith(\"_1000base_regions.fasta\")):\n",
    "        cmd = \"module load meme;\"\n",
    "        cmd += \"ame --control inactvie_tss_1000base_regions.fasta \"\n",
    "        cmd += \"-oc tf_motifs/\" + name + \"_inactive+bg_tf_1kb  \"\n",
    "        cmd += os.path.join(os.getcwd(), file) + \" \"\n",
    "        cmd += (\" \").join(dbs)\n",
    "        print(cmd)\n",
    "        sp.check_output(cmd, shell = True)  "
   ]
  },
  {
   "cell_type": "code",
   "execution_count": null,
   "metadata": {},
   "outputs": [],
   "source": []
  }
 ],
 "metadata": {
  "kernelspec": {
   "display_name": "SSH maximus matplotlib3",
   "language": "",
   "name": "rik_ssh_maximus_matplotlib3"
  },
  "language_info": {
   "codemirror_mode": {
    "name": "ipython",
    "version": 3
   },
   "file_extension": ".py",
   "mimetype": "text/x-python",
   "name": "python",
   "nbconvert_exporter": "python",
   "pygments_lexer": "ipython3",
   "version": "3.6.7"
  }
 },
 "nbformat": 4,
 "nbformat_minor": 2
}
