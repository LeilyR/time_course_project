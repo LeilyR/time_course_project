{
 "cells": [
  {
   "cell_type": "code",
   "execution_count": 2,
   "metadata": {},
   "outputs": [],
   "source": [
    "# run ame on differential peaks"
   ]
  },
  {
   "cell_type": "code",
   "execution_count": 3,
   "metadata": {},
   "outputs": [],
   "source": [
    "import os\n",
    "import numpy as np\n",
    "import pandas as pd\n",
    "import subprocess as sp\n",
    "from importlib import reload \n",
    "import pybedtools as pbt\n",
    "pbt.set_bedtools_path(\"/localenv/rabbani/anaconda/miniconda3/envs/matplotlib/bin/\")\n",
    "pbt = reload(pbt)"
   ]
  },
  {
   "cell_type": "code",
   "execution_count": 4,
   "metadata": {},
   "outputs": [],
   "source": [
    "# get the diffpeaks sequences\n",
    "df = pd.read_csv(os.path.join(\"/data/manke/group/rabbani/atac_project2078/timecourse_diff_analysis/diff_peaks.bed\"),\n",
    "                 sep = \"\\t\", header = None)\n",
    "df_fasta = pbt.BedTool.from_dataframe(df)\n",
    "df_fasta = df_fasta.sequence(fi=\"/data/repository/organisms/GRCm38_ensembl/genome_fasta/genome.fa\",\n",
    "                             fo = \"diffpeaks.fasta\")    "
   ]
  },
  {
   "cell_type": "code",
   "execution_count": 4,
   "metadata": {},
   "outputs": [],
   "source": [
    "# call ame with shuffle bg"
   ]
  },
  {
   "cell_type": "code",
   "execution_count": 5,
   "metadata": {},
   "outputs": [
    {
     "name": "stdout",
     "output_type": "stream",
     "text": [
      "module load meme;ame --control '--shuffle--' -oc diffpeaks_motifs/  diffpeaks.fasta  /data/repository/misc/Motif/HOCOMOCO/HOCOMOCOv11_full_MOUSE_mono_meme_format.meme \n"
     ]
    },
    {
     "name": "stderr",
     "output_type": "stream",
     "text": [
      "Added /data/repository/misc/Motif/HOCOMOCO/HOCOMOCOv11_full_MOUSE_mono_meme_format.meme to motif_sources which now has 1 file names.\n",
      "Motif file name is /data/repository/misc/Motif/HOCOMOCO/HOCOMOCOv11_full_MOUSE_mono_meme_format.meme.\n",
      "Writing results to output directory 'diffpeaks_motifs/'.\n",
      "E-value threshold for reporting results: 10\n",
      "Checking alphabets in 1 motif files.\n",
      "Loading motifs from file '/data/repository/misc/Motif/HOCOMOCO/HOCOMOCOv11_full_MOUSE_mono_meme_format.meme'\n",
      "Loading primary sequences.\n",
      "Creating control sequences by shuffling input sequences preserving 2-mers.\n",
      "Not in partition maximization mode. Fixing partition at the number of primary sequences (324).\n",
      "MOTIF: 1 SEQ: 1620/1620\n",
      "Sorting sequences by sequence PWM score to get PWM ranks; breaking ties to put negatives first.\n",
      "Leaving sequences sorted by PWM score.\n",
      "Optimizing over sequence PWM score threshold.\n",
      "MOTIF: 529 SEQ: 1620/1620\n"
     ]
    },
    {
     "data": {
      "text/plain": [
       "b''"
      ]
     },
     "execution_count": 5,
     "metadata": {},
     "output_type": "execute_result"
    }
   ],
   "source": [
    "cmd = \"module load meme;\"\n",
    "cmd += \"ame --control '--shuffle--' \"\n",
    "cmd += \"-oc diffpeaks_motifs/ \"\n",
    "cmd += \" diffpeaks.fasta \"\n",
    "cmd += \" /data/repository/misc/Motif/HOCOMOCO/HOCOMOCOv11_full_MOUSE_mono_meme_format.meme \"\n",
    "print(cmd)\n",
    "sp.check_output(cmd, shell = True)\n"
   ]
  },
  {
   "cell_type": "code",
   "execution_count": 5,
   "metadata": {},
   "outputs": [],
   "source": [
    "# make a meme file of ame.tsv"
   ]
  },
  {
   "cell_type": "code",
   "execution_count": 5,
   "metadata": {},
   "outputs": [
    {
     "data": {
      "text/plain": [
       "0      RFX3_MOUSE.H11MO.0.C\n",
       "1      RFX2_MOUSE.H11MO.0.A\n",
       "2      RFX1_MOUSE.H11MO.1.A\n",
       "3      RFX6_MOUSE.H11MO.1.C\n",
       "4      RFX3_MOUSE.H11MO.1.C\n",
       "               ...         \n",
       "122    ZEP2_MOUSE.H11MO.0.D\n",
       "123    BATF_MOUSE.H11MO.0.A\n",
       "124                     nan\n",
       "125                     nan\n",
       "126                     nan\n",
       "Name: motif_ID, Length: 127, dtype: object"
      ]
     },
     "execution_count": 5,
     "metadata": {},
     "output_type": "execute_result"
    }
   ],
   "source": [
    "my_motifs = pd.read_csv(\"/data/manke/group/rabbani/atac_project2078/timecourse_diff_analysis/\"\\\n",
    "                        \"diffpeaks_motifs/ame.tsv\", usecols = [\"motif_ID\"], sep = \"\\t\")\n",
    "my_motifs[\"motif_ID\"].astype(str)"
   ]
  },
  {
   "cell_type": "code",
   "execution_count": 17,
   "metadata": {},
   "outputs": [],
   "source": [
    "# make a meme file of found motifs , this is needed as an input for tobias\n",
    "output = open(\"/data/manke/group/rabbani/atac_project2078/timecourse_diff_analysis/diffpeaks_motifs/ame.meme\",\"w\")\n",
    "f = open(\"/data/repository/misc/Motif/HOCOMOCO/HOCOMOCOv11_full_MOUSE_mono_meme_format.meme\", \"r\")\n",
    "output.write(\"MEME version 4\\n\\nALPHABET= ACGT\\n\\nstrands: + -\\n\\nBackground letter frequencies\\n\\n\"\\\n",
    "             \"A 0.25 C 0.25 G 0.25 T 0.25\\n\\n\")\n",
    "lines = f.readlines()\n",
    "write_it = False\n",
    "for line in lines:\n",
    "    this_line = line.rstrip()\n",
    "    if any(motif in this_line for motif in my_motifs[\"motif_ID\"].astype(str)):\n",
    "        if this_line.startswith(\"MOTIF\"):\n",
    "            write_it = True\n",
    "        elif this_line.startswith(\"URL\"):\n",
    "            output.write(this_line+\"\\n\")\n",
    "            output.write(\"\\n\")\n",
    "            write_it = False\n",
    "    if write_it == True:\n",
    "        output.write(this_line+\"\\n\")"
   ]
  },
  {
   "cell_type": "code",
   "execution_count": 16,
   "metadata": {},
   "outputs": [],
   "source": [
    "# cluster them"
   ]
  },
  {
   "cell_type": "code",
   "execution_count": null,
   "metadata": {},
   "outputs": [],
   "source": [
    "%%bash\n",
    "conda activate /localenv/deboutte/anaconda/miniconda3/envs/TOBIASenv;\n",
    "TOBIAS ClusterMotifs -m ame.meme -t 0.4 -a meme --dist_method seqcor --clust_method complete -o tobias_cluster"
   ]
  },
  {
   "cell_type": "code",
   "execution_count": 18,
   "metadata": {},
   "outputs": [
    {
     "name": "stdout",
     "output_type": "stream",
     "text": [
      "module load meme;ame --control '--shuffle--' -oc diffpeaks_tobias_motifs/  diffpeaks.fasta /data/manke/group/rabbani/atac_project2078/timecourse_diff_analysis/diffpeaks_motifs/tobias_cluster/motif_comparison_consensus_motifs.meme \n"
     ]
    },
    {
     "name": "stderr",
     "output_type": "stream",
     "text": [
      "Added /data/manke/group/rabbani/atac_project2078/timecourse_diff_analysis/diffpeaks_motifs/tobias_cluster/motif_comparison_consensus_motifs.meme to motif_sources which now has 1 file names.\n",
      "Motif file name is /data/manke/group/rabbani/atac_project2078/timecourse_diff_analysis/diffpeaks_motifs/tobias_cluster/motif_comparison_consensus_motifs.meme.\n",
      "Writing results to output directory 'diffpeaks_tobias_motifs/'.\n",
      "E-value threshold for reporting results: 10\n",
      "Checking alphabets in 1 motif files.\n",
      "Loading motifs from file '/data/manke/group/rabbani/atac_project2078/timecourse_diff_analysis/diffpeaks_motifs/tobias_cluster/motif_comparison_consensus_motifs.meme'\n",
      "Loading primary sequences.\n",
      "Creating control sequences by shuffling input sequences preserving 2-mers.\n",
      "Not in partition maximization mode. Fixing partition at the number of primary sequences (324).\n",
      "MOTIF: 1 SEQ: 1620/1620\n",
      "Sorting sequences by sequence PWM score to get PWM ranks; breaking ties to put negatives first.\n",
      "Leaving sequences sorted by PWM score.\n",
      "Optimizing over sequence PWM score threshold.\n",
      "MOTIF: 33 SEQ: 1620/1620\n"
     ]
    },
    {
     "data": {
      "text/plain": [
       "b''"
      ]
     },
     "execution_count": 18,
     "metadata": {},
     "output_type": "execute_result"
    }
   ],
   "source": [
    "cmd = \"module load meme;\"\n",
    "cmd += \"ame --control '--shuffle--' \"\n",
    "cmd += \"-oc diffpeaks_tobias_motifs/ \"\n",
    "cmd += \" diffpeaks.fasta \"\n",
    "cmd += \"/data/manke/group/rabbani/atac_project2078/timecourse_diff_analysis/diffpeaks_motifs/tobias_cluster/motif_comparison_consensus_motifs.meme \"\n",
    "print(cmd)\n",
    "sp.check_output(cmd, shell = True)"
   ]
  },
  {
   "cell_type": "code",
   "execution_count": null,
   "metadata": {},
   "outputs": [],
   "source": []
  }
 ],
 "metadata": {
  "kernelspec": {
   "display_name": "SSH minimus matplotlib3_py3.8",
   "language": "",
   "name": "rik_ssh_maximus_matplotlib3_py38"
  },
  "language_info": {
   "codemirror_mode": {
    "name": "ipython",
    "version": 3
   },
   "file_extension": ".py",
   "mimetype": "text/x-python",
   "name": "python",
   "nbconvert_exporter": "python",
   "pygments_lexer": "ipython3",
   "version": "3.8.0"
  }
 },
 "nbformat": 4,
 "nbformat_minor": 5
}
