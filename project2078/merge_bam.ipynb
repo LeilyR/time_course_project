{
 "cells": [
  {
   "cell_type": "code",
   "execution_count": 1,
   "id": "404088ed",
   "metadata": {},
   "outputs": [],
   "source": [
    "import subprocess as sp\n",
    "import os\n",
    "import glob"
   ]
  },
  {
   "cell_type": "code",
   "execution_count": 2,
   "id": "b6a5efb2",
   "metadata": {},
   "outputs": [],
   "source": [
    "filtered_bams = os.path.join(\"/data/manke/group/rabbani/atac_project2078/snakepipes_output/filtered_bam/\")\n",
    "output_path = os.path.join(\"/data/manke/group/rabbani/atac_project2078/merged_filterbams/\")"
   ]
  },
  {
   "cell_type": "code",
   "execution_count": 3,
   "id": "3855cf6b",
   "metadata": {},
   "outputs": [],
   "source": [
    "conds = [\"WT\",\"K197Q\", \"K197R\", \"Vector\"]\n",
    "times = [\"LPS0\",\"LPS3\", \"LPS12\"]"
   ]
  },
  {
   "cell_type": "code",
   "execution_count": 4,
   "id": "95d588c5",
   "metadata": {},
   "outputs": [
    {
     "name": "stdout",
     "output_type": "stream",
     "text": [
      "module load samtools;samtools merge -@ 10 /data/manke/group/rabbani/atac_project2078/merged_filterbams/merged_WT_LPS0.bam /data/manke/group/rabbani/atac_project2078/snakepipes_output/filtered_bam/WT-LPS0-rep2.filtered.bam /data/manke/group/rabbani/atac_project2078/snakepipes_output/filtered_bam/WT-LPS0-rep3.filtered.bam /data/manke/group/rabbani/atac_project2078/snakepipes_output/filtered_bam/WT-LPS0-rep1.filtered.bam; samtools index /data/manke/group/rabbani/atac_project2078/merged_filterbams/merged_WT_LPS0.bam\n",
      "module load samtools;samtools merge -@ 10 /data/manke/group/rabbani/atac_project2078/merged_filterbams/merged_K197Q_LPS0.bam /data/manke/group/rabbani/atac_project2078/snakepipes_output/filtered_bam/K197Q-LPS0-rep1.filtered.bam /data/manke/group/rabbani/atac_project2078/snakepipes_output/filtered_bam/K197Q-LPS0-rep2.filtered.bam /data/manke/group/rabbani/atac_project2078/snakepipes_output/filtered_bam/K197Q-LPS0-rep3.filtered.bam; samtools index /data/manke/group/rabbani/atac_project2078/merged_filterbams/merged_K197Q_LPS0.bam\n",
      "module load samtools;samtools merge -@ 10 /data/manke/group/rabbani/atac_project2078/merged_filterbams/merged_K197R_LPS0.bam /data/manke/group/rabbani/atac_project2078/snakepipes_output/filtered_bam/K197R-LPS0-rep1.filtered.bam /data/manke/group/rabbani/atac_project2078/snakepipes_output/filtered_bam/K197R-LPS0-rep3.filtered.bam /data/manke/group/rabbani/atac_project2078/snakepipes_output/filtered_bam/K197R-LPS0-rep2.filtered.bam; samtools index /data/manke/group/rabbani/atac_project2078/merged_filterbams/merged_K197R_LPS0.bam\n",
      "module load samtools;samtools merge -@ 10 /data/manke/group/rabbani/atac_project2078/merged_filterbams/merged_Vector_LPS0.bam /data/manke/group/rabbani/atac_project2078/snakepipes_output/filtered_bam/Vector-LPS0-rep2.filtered.bam /data/manke/group/rabbani/atac_project2078/snakepipes_output/filtered_bam/Vector-LPS0-rep3.filtered.bam /data/manke/group/rabbani/atac_project2078/snakepipes_output/filtered_bam/Vector-LPS0-rep1.filtered.bam; samtools index /data/manke/group/rabbani/atac_project2078/merged_filterbams/merged_Vector_LPS0.bam\n",
      "module load samtools;samtools merge -@ 10 /data/manke/group/rabbani/atac_project2078/merged_filterbams/merged_WT_LPS3.bam /data/manke/group/rabbani/atac_project2078/snakepipes_output/filtered_bam/WT-LPS3-rep1.filtered.bam /data/manke/group/rabbani/atac_project2078/snakepipes_output/filtered_bam/WT-LPS3-rep2.filtered.bam /data/manke/group/rabbani/atac_project2078/snakepipes_output/filtered_bam/WT-LPS3-rep3.filtered.bam; samtools index /data/manke/group/rabbani/atac_project2078/merged_filterbams/merged_WT_LPS3.bam\n",
      "module load samtools;samtools merge -@ 10 /data/manke/group/rabbani/atac_project2078/merged_filterbams/merged_K197Q_LPS3.bam /data/manke/group/rabbani/atac_project2078/snakepipes_output/filtered_bam/K197Q-LPS3-rep2.filtered.bam /data/manke/group/rabbani/atac_project2078/snakepipes_output/filtered_bam/K197Q-LPS3-rep3.filtered.bam /data/manke/group/rabbani/atac_project2078/snakepipes_output/filtered_bam/K197Q-LPS3-rep1.filtered.bam; samtools index /data/manke/group/rabbani/atac_project2078/merged_filterbams/merged_K197Q_LPS3.bam\n",
      "module load samtools;samtools merge -@ 10 /data/manke/group/rabbani/atac_project2078/merged_filterbams/merged_K197R_LPS3.bam /data/manke/group/rabbani/atac_project2078/snakepipes_output/filtered_bam/K197R-LPS3-rep3.filtered.bam /data/manke/group/rabbani/atac_project2078/snakepipes_output/filtered_bam/K197R-LPS3-rep2.filtered.bam /data/manke/group/rabbani/atac_project2078/snakepipes_output/filtered_bam/K197R-LPS3-rep1.filtered.bam; samtools index /data/manke/group/rabbani/atac_project2078/merged_filterbams/merged_K197R_LPS3.bam\n",
      "module load samtools;samtools merge -@ 10 /data/manke/group/rabbani/atac_project2078/merged_filterbams/merged_Vector_LPS3.bam /data/manke/group/rabbani/atac_project2078/snakepipes_output/filtered_bam/Vector-LPS3-rep1.filtered.bam /data/manke/group/rabbani/atac_project2078/snakepipes_output/filtered_bam/Vector-LPS3-rep2.filtered.bam /data/manke/group/rabbani/atac_project2078/snakepipes_output/filtered_bam/Vector-LPS3-rep3.filtered.bam; samtools index /data/manke/group/rabbani/atac_project2078/merged_filterbams/merged_Vector_LPS3.bam\n",
      "module load samtools;samtools merge -@ 10 /data/manke/group/rabbani/atac_project2078/merged_filterbams/merged_WT_LPS12.bam /data/manke/group/rabbani/atac_project2078/snakepipes_output/filtered_bam/WT-LPS12-rep1.filtered.bam /data/manke/group/rabbani/atac_project2078/snakepipes_output/filtered_bam/WT-LPS12-rep3.filtered.bam /data/manke/group/rabbani/atac_project2078/snakepipes_output/filtered_bam/WT-LPS12-rep2.filtered.bam; samtools index /data/manke/group/rabbani/atac_project2078/merged_filterbams/merged_WT_LPS12.bam\n",
      "module load samtools;samtools merge -@ 10 /data/manke/group/rabbani/atac_project2078/merged_filterbams/merged_K197Q_LPS12.bam /data/manke/group/rabbani/atac_project2078/snakepipes_output/filtered_bam/K197Q-LPS12-rep1.filtered.bam /data/manke/group/rabbani/atac_project2078/snakepipes_output/filtered_bam/K197Q-LPS12-rep3.filtered.bam /data/manke/group/rabbani/atac_project2078/snakepipes_output/filtered_bam/K197Q-LPS12-rep2.filtered.bam; samtools index /data/manke/group/rabbani/atac_project2078/merged_filterbams/merged_K197Q_LPS12.bam\n",
      "module load samtools;samtools merge -@ 10 /data/manke/group/rabbani/atac_project2078/merged_filterbams/merged_K197R_LPS12.bam /data/manke/group/rabbani/atac_project2078/snakepipes_output/filtered_bam/K197R-LPS12-rep1.filtered.bam /data/manke/group/rabbani/atac_project2078/snakepipes_output/filtered_bam/K197R-LPS12-rep2.filtered.bam /data/manke/group/rabbani/atac_project2078/snakepipes_output/filtered_bam/K197R-LPS12-rep3.filtered.bam; samtools index /data/manke/group/rabbani/atac_project2078/merged_filterbams/merged_K197R_LPS12.bam\n",
      "module load samtools;samtools merge -@ 10 /data/manke/group/rabbani/atac_project2078/merged_filterbams/merged_Vector_LPS12.bam /data/manke/group/rabbani/atac_project2078/snakepipes_output/filtered_bam/Vector-LPS12-rep2.filtered.bam /data/manke/group/rabbani/atac_project2078/snakepipes_output/filtered_bam/Vector-LPS12-rep3.filtered.bam /data/manke/group/rabbani/atac_project2078/snakepipes_output/filtered_bam/Vector-LPS12-rep1.filtered.bam; samtools index /data/manke/group/rabbani/atac_project2078/merged_filterbams/merged_Vector_LPS12.bam\n"
     ]
    }
   ],
   "source": [
    "for time in times:\n",
    "    for cond in conds:\n",
    "        files = glob.glob(os.path.join(filtered_bams, cond+\"*\"+time+\"*.bam\"))\n",
    "        cmd = \"module load samtools;\"\n",
    "        cmd += \"samtools merge -@ 10 \"+os.path.join(output_path, \"merged_\"+cond+\"_\"+time+\".bam\")\n",
    "        cmd += \" \"+\" \".join(files)\n",
    "        cmd += \"; samtools index \"+os.path.join(output_path, \"merged_\"+cond+\"_\"+time+\".bam\")\n",
    "        print(cmd)\n",
    "        sp.check_output(cmd, shell = True)\n",
    "            "
   ]
  },
  {
   "cell_type": "code",
   "execution_count": null,
   "id": "47d16aa3",
   "metadata": {},
   "outputs": [],
   "source": []
  }
 ],
 "metadata": {
  "kernelspec": {
   "display_name": "SSH minimus matplotlib3_py3.8",
   "language": "",
   "name": "rik_ssh_maximus_matplotlib3_py38"
  },
  "language_info": {
   "codemirror_mode": {
    "name": "ipython",
    "version": 3
   },
   "file_extension": ".py",
   "mimetype": "text/x-python",
   "name": "python",
   "nbconvert_exporter": "python",
   "pygments_lexer": "ipython3",
   "version": "3.8.0"
  }
 },
 "nbformat": 4,
 "nbformat_minor": 5
}
