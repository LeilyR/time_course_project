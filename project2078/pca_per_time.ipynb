{
 "cells": [
  {
   "cell_type": "code",
   "execution_count": 1,
   "metadata": {},
   "outputs": [],
   "source": [
    "# do it on the merged peaks of its own time point "
   ]
  },
  {
   "cell_type": "code",
   "execution_count": 2,
   "metadata": {},
   "outputs": [],
   "source": [
    "import os \n",
    "import pandas as pd\n",
    "import numpy as np\n",
    "import subprocess as sp\n",
    "import glob"
   ]
  },
  {
   "cell_type": "code",
   "execution_count": 3,
   "metadata": {},
   "outputs": [],
   "source": [
    "root = os.path.join(\"/data/manke/group/rabbani/atac_project2078\")\n",
    "macs2_path = os.path.join(root, \"atac_pipeline/MACS2\")\n"
   ]
  },
  {
   "cell_type": "code",
   "execution_count": 4,
   "metadata": {},
   "outputs": [],
   "source": [
    "for time in [\"LPS0\", \"LPS3\", \"LPS12\"]:\n",
    "    files = glob.glob(os.path.join(macs2_path, \"*\"+time+\"*.narrowPeak\"))\n",
    "    files = \" \".join(files)\n",
    "    cmd = \"module load bedtools2;\"\n",
    "    cmd += \"cat \"+files+\" | sort -k1,1 -k2,2n | bedtools merge > \"\n",
    "    cmd += os.path.join(root, \"peaks_per_time\", time+\".narrowPeak\")\n",
    "#     print(cmd)\n",
    "    sp.check_output(cmd, shell = True)"
   ]
  },
  {
   "cell_type": "code",
   "execution_count": 5,
   "metadata": {},
   "outputs": [
    {
     "name": "stderr",
     "output_type": "stream",
     "text": [
      "Number of bins found: 169261\n",
      "Number of bins found: 182235\n",
      "Number of bins found: 189832\n"
     ]
    }
   ],
   "source": [
    "for time in [\"LPS0\", \"LPS3\", \"LPS12\"]:\n",
    "    files = \" \"\n",
    "    for cond in [\"WT\", \"Vector\", \"K197Q\", \"K197R\"]:\n",
    "        files += \" \".join(glob.glob(os.path.join(root, \"atac_pipeline/BigWigs/\"+cond+\"*\"+time+\"*.filtered.bw\")))+\" \"\n",
    "    cmd = \"module load deeptools;\"\n",
    "    cmd += \"multiBigwigSummary BED-file --BED \" + os.path.join(root, \"peaks_per_time\", time+\".narrowPeak\")\n",
    "    cmd += \" -o \"+ os.path.join(root, \"peaks_per_time\", time+\".npz\")\n",
    "    cmd += \" -b \"+files\n",
    "    cmd += \" -bl /data/repository/organisms/GRCm38_ensembl/akundaje/blacklist.bed -p 15 -bs 15\"\n",
    "    sp.check_output(cmd, shell = True)"
   ]
  },
  {
   "cell_type": "code",
   "execution_count": 6,
   "metadata": {},
   "outputs": [
    {
     "name": "stdout",
     "output_type": "stream",
     "text": [
      "module load deeptools;plotPCA --corData /data/manke/group/rabbani/atac_project2078/peaks_per_time/LPS0.npz --transpose -o /data/manke/group/rabbani/atac_project2078/peaks_per_time/LPS0.pca.png\n",
      "module load deeptools;plotPCA --corData /data/manke/group/rabbani/atac_project2078/peaks_per_time/LPS3.npz --transpose -o /data/manke/group/rabbani/atac_project2078/peaks_per_time/LPS3.pca.png\n",
      "module load deeptools;plotPCA --corData /data/manke/group/rabbani/atac_project2078/peaks_per_time/LPS12.npz --transpose -o /data/manke/group/rabbani/atac_project2078/peaks_per_time/LPS12.pca.png\n"
     ]
    }
   ],
   "source": [
    "for time in [\"LPS0\", \"LPS3\", \"LPS12\"]:\n",
    "    file = os.path.join(root, \"peaks_per_time\", time+\".npz\")\n",
    "    cmd = \"module load deeptools;\"\n",
    "    cmd += \"plotPCA --corData \"+file+\" --transpose -o \"\n",
    "    cmd += os.path.join(root, \"peaks_per_time\", time+\".pca.png\")\n",
    "    print(cmd)\n",
    "    sp.check_output(cmd, shell = True)"
   ]
  },
  {
   "cell_type": "code",
   "execution_count": 7,
   "metadata": {},
   "outputs": [
    {
     "name": "stdout",
     "output_type": "stream",
     "text": [
      "module load deeptools;plotCorrelation --corData /data/manke/group/rabbani/atac_project2078/peaks_per_time/LPS0.npz -c pearson -p scatterplot -o /data/manke/group/rabbani/atac_project2078/peaks_per_time/LPS0.pearson.scatter.png --removeOutliers --plotNumbers \n",
      "module load deeptools;plotCorrelation --corData /data/manke/group/rabbani/atac_project2078/peaks_per_time/LPS3.npz -c pearson -p scatterplot -o /data/manke/group/rabbani/atac_project2078/peaks_per_time/LPS3.pearson.scatter.png --removeOutliers --plotNumbers \n",
      "module load deeptools;plotCorrelation --corData /data/manke/group/rabbani/atac_project2078/peaks_per_time/LPS12.npz -c pearson -p scatterplot -o /data/manke/group/rabbani/atac_project2078/peaks_per_time/LPS12.pearson.scatter.png --removeOutliers --plotNumbers \n"
     ]
    }
   ],
   "source": [
    "for time in [\"LPS0\", \"LPS3\", \"LPS12\"]:\n",
    "    file = os.path.join(root, \"peaks_per_time\", time+\".npz\")\n",
    "    cmd = \"module load deeptools;\"\n",
    "    cmd += \"plotCorrelation --corData \"+file+\" -c pearson -p scatterplot -o \"\n",
    "    cmd += os.path.join(root, \"peaks_per_time\", time+\".pearson.scatter.png\")\n",
    "    cmd += \" --removeOutliers --plotNumbers \"\n",
    "    print(cmd)\n",
    "    sp.check_output(cmd, shell = True)"
   ]
  },
  {
   "cell_type": "code",
   "execution_count": 8,
   "metadata": {},
   "outputs": [
    {
     "name": "stdout",
     "output_type": "stream",
     "text": [
      "module load deeptools;plotCorrelation --corData /data/manke/group/rabbani/atac_project2078/peaks_per_time/LPS0.npz -c pearson -p heatmap -o /data/manke/group/rabbani/atac_project2078/peaks_per_time/LPS0.pearson.heatmap.png --removeOutliers --plotNumbers \n",
      "module load deeptools;plotCorrelation --corData /data/manke/group/rabbani/atac_project2078/peaks_per_time/LPS3.npz -c pearson -p heatmap -o /data/manke/group/rabbani/atac_project2078/peaks_per_time/LPS3.pearson.heatmap.png --removeOutliers --plotNumbers \n",
      "module load deeptools;plotCorrelation --corData /data/manke/group/rabbani/atac_project2078/peaks_per_time/LPS12.npz -c pearson -p heatmap -o /data/manke/group/rabbani/atac_project2078/peaks_per_time/LPS12.pearson.heatmap.png --removeOutliers --plotNumbers \n"
     ]
    }
   ],
   "source": [
    "for time in [\"LPS0\", \"LPS3\", \"LPS12\"]:\n",
    "    file = os.path.join(root, \"peaks_per_time\", time+\".npz\")\n",
    "    cmd = \"module load deeptools;\"\n",
    "    cmd += \"plotCorrelation --corData \"+file+\" -c pearson -p heatmap -o \"\n",
    "    cmd += os.path.join(root, \"peaks_per_time\", time+\".pearson.heatmap.png\")\n",
    "    cmd += \" --removeOutliers --plotNumbers \"\n",
    "    print(cmd)\n",
    "    sp.check_output(cmd, shell = True)"
   ]
  },
  {
   "cell_type": "code",
   "execution_count": null,
   "metadata": {},
   "outputs": [],
   "source": []
  }
 ],
 "metadata": {
  "kernelspec": {
   "display_name": "SSH minimus matplotlib3_py3.8",
   "language": "",
   "name": "rik_ssh_maximus_matplotlib3_py38"
  },
  "language_info": {
   "codemirror_mode": {
    "name": "ipython",
    "version": 3
   },
   "file_extension": ".py",
   "mimetype": "text/x-python",
   "name": "python",
   "nbconvert_exporter": "python",
   "pygments_lexer": "ipython3",
   "version": "3.8.0"
  }
 },
 "nbformat": 4,
 "nbformat_minor": 4
}
