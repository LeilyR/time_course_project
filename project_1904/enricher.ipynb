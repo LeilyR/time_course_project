{
 "cells": [
  {
   "cell_type": "code",
   "execution_count": 1,
   "metadata": {},
   "outputs": [],
   "source": [
    "# For each time point use the overlapping DE genes of mof and prdx1 (extract from time_up_n_down) \n",
    "# to find kegg pathways using enricher (and)or clusterProfiler\n",
    "# background: all DE genes `time_all_diffs.tsv` (or all genes??)"
   ]
  },
  {
   "cell_type": "code",
   "execution_count": 2,
   "metadata": {},
   "outputs": [],
   "source": [
    "import pandas as pd\n",
    "import gseapy as gp\n",
    "from gseapy.parser import Biomart\n",
    "import matplotlib.pyplot as plt\n",
    "import os\n",
    "import gffutils\n",
    "import glob\n",
    "import numpy as np"
   ]
  },
  {
   "cell_type": "code",
   "execution_count": 3,
   "metadata": {},
   "outputs": [],
   "source": [
    "# paths\n",
    "in_path = os.path.join(\"/data/processing1/leily/deseq_pairwise/fdr0.05\")\n",
    "out_path = os.path.join(\"/data/processing1/leily/deseq_pairwise/fdr0.05/enrichment_analysis\")"
   ]
  },
  {
   "cell_type": "code",
   "execution_count": 4,
   "metadata": {},
   "outputs": [
    {
     "name": "stdout",
     "output_type": "stream",
     "text": [
      "47937\n"
     ]
    }
   ],
   "source": [
    "# convert IDs using biomart\n",
    "bm = Biomart()\n",
    "genes_names = pd.read_csv(os.path.join(in_path, \"gsea\", \"gene_id_ensembl.tsv\"), sep = \"\\t\")\n",
    "queries = genes_names[\"gene_id\"].values.tolist() # need to be a python list\n",
    "print(len(queries))\n",
    "results = bm.query(dataset='mmusculus_gene_ensembl',\n",
    "                   attributes=['ensembl_gene_id', 'external_gene_name', 'entrezgene_id'],\n",
    "                   filters={'ensembl_gene_id': queries})"
   ]
  },
  {
   "cell_type": "code",
   "execution_count": 5,
   "metadata": {},
   "outputs": [],
   "source": [
    "# enricher"
   ]
  },
  {
   "cell_type": "code",
   "execution_count": 6,
   "metadata": {},
   "outputs": [
    {
     "name": "stdout",
     "output_type": "stream",
     "text": [
      "down:\n",
      "lps0 733\n",
      "lps3 1806\n",
      "lps12 989\n",
      "up:\n",
      "lps0 443\n",
      "lps3 1432\n",
      "lps12 606\n"
     ]
    }
   ],
   "source": [
    "up_dfs = dict()\n",
    "down_dfs = dict()\n",
    "for time in [\"lps0\", \"lps3\", \"lps12\"]:\n",
    "    for file in glob.glob(os.path.join(in_path, time+\"_up_n_down.tsv\")):\n",
    "        df = pd.read_csv(file, sep = \"\\t\")\n",
    "        df.rename(columns={'gene_name':'external_gene_name'}, inplace = True)\n",
    "        cols = [i for i in df.columns[1:-1]]\n",
    "        merged_df = df.merge(results, on = \"external_gene_name\", how = \"inner\")\n",
    "        if time not in up_dfs.keys():\n",
    "            up_dfs[time] = []\n",
    "            down_dfs[time] = []\n",
    "            \n",
    "        up_dfs[time].append(df.loc[(df[cols[0]] == \"UP\") & (df[cols[1]] == \"UP\")])\n",
    "        down_dfs[time].append(df.loc[(df[cols[0]] == \"DOWN\") & (df[cols[1]] == \"DOWN\")])\n",
    "\n",
    "print(\"down:\")\n",
    "for k, v in down_dfs.items():\n",
    "    print(k, len(v[0]))\n",
    "\n",
    "print(\"up:\")\n",
    "for k, v in up_dfs.items():\n",
    "    print(k, len(v[0]))"
   ]
  },
  {
   "cell_type": "code",
   "execution_count": 7,
   "metadata": {},
   "outputs": [
    {
     "name": "stdout",
     "output_type": "stream",
     "text": [
      "47937\n",
      "8593\n",
      "47937\n",
      "10047\n",
      "47937\n",
      "8576\n"
     ]
    }
   ],
   "source": [
    "#Get the rows of time_all_diffs.tsv where at least one of the columns is not nan, add their external gene name\n",
    "db = gffutils.FeatureDB(os.path.join(in_path, \"grcm38.db\"))\n",
    "bg = dict()\n",
    "for time in [\"lps0\", \"lps3\", \"lps12\"]:\n",
    "    df = pd.read_csv(os.path.join(in_path,time+\"_all_diffs.tsv\"), sep = \"\\t\", na_values = \"NaN\")\n",
    "    print(len(df))\n",
    "    cols = [i for i in df.columns[1:]]\n",
    "    df = df.loc[(df[cols[0]].astype(str) != \"nan\") | (df[cols[1]].astype(str) != \"nan\")]\n",
    "    print(len(df))\n",
    "    names = []\n",
    "    for index, row in df.iterrows():\n",
    "        gene_id = row['gene_id']\n",
    "        try:\n",
    "            gene = db[gene_id]\n",
    "            name = gene.attributes['gene_name']\n",
    "            names.append(name[0])\n",
    "        except:\n",
    "            print(\"name not found!\")\n",
    "            names.append(\"no_name\")\n",
    "    df['gene_name'] = names\n",
    "    bg[time] = df"
   ]
  },
  {
   "cell_type": "code",
   "execution_count": 8,
   "metadata": {
    "collapsed": true
   },
   "outputs": [
    {
     "name": "stdout",
     "output_type": "stream",
     "text": [
      "1     Prdx1\n",
      "2     Cyb5b\n",
      "4    Mapre1\n",
      "6      Xpot\n",
      "8     Stmn1\n",
      "Name: external_gene_name, dtype: object\n",
      "0     Akr1a1\n",
      "1      Prdx1\n",
      "2    Dnajc14\n",
      "3      Cyb5b\n",
      "4     Pabpc1\n",
      "Name: gene_name, dtype: object\n"
     ]
    },
    {
     "name": "stderr",
     "output_type": "stream",
     "text": [
      "2021-09-03 11:19:53,040 Warning: No enrich terms using library KEGG_2019_Mouse when cutoff = 0.05\n"
     ]
    },
    {
     "name": "stdout",
     "output_type": "stream",
     "text": [
      "0    Rab11fip1\n",
      "2        Traf1\n",
      "5        Ptgs2\n",
      "7       Adgrl2\n",
      "9        Malt1\n",
      "Name: external_gene_name, dtype: object\n",
      "0    Rab11fip1\n",
      "1          Lox\n",
      "2        Traf1\n",
      "3         Bin2\n",
      "4         Pon2\n",
      "Name: gene_name, dtype: object\n",
      "0      Stmn1\n",
      "13      Ttc7\n",
      "15      Lsp1\n",
      "17    Mapre1\n",
      "18     Uhmk1\n",
      "Name: external_gene_name, dtype: object\n",
      "0     Prdx1\n",
      "1     Stmn1\n",
      "2    Akr1a1\n",
      "3     Ampd3\n",
      "4      Xpot\n",
      "Name: gene_name, dtype: object\n"
     ]
    }
   ],
   "source": [
    "# enricher uses its own back ground in the online mode, so there is no reason to rpovide any background here.\n",
    "# It is not used anyway.\n",
    "for time in [\"lps0\", \"lps3\", \"lps12\"]:\n",
    "    for df in up_dfs[time]:\n",
    "        print(df[\"external_gene_name\"].head())\n",
    "        print(bg[time][\"gene_name\"].head())\n",
    "        enr = gp.enrichr(gene_list=df[\"external_gene_name\"].astype(str),\n",
    "                         description=time+\"_up\",\n",
    "                         gene_sets='KEGG_2019_Mouse',\n",
    "#                          background= bg[time][\"gene_name\"].astype(str), \n",
    "                         outdir=os.path.join(out_path,'enricher_report_kegg_2019_'+time+\"_up\"),\n",
    "                         cutoff=0.05, # only used for ploting.\n",
    "                         organism='Mouse',\n",
    "                         verbose=False)\n",
    "#         dotplot(enr.res2d, title='KEGG_2019_Mouse',cmap='viridis_r')"
   ]
  },
  {
   "cell_type": "code",
   "execution_count": 9,
   "metadata": {},
   "outputs": [],
   "source": [
    "for time in [\"lps0\", \"lps3\", \"lps12\"]:\n",
    "    for df in down_dfs[time]:\n",
    "        enr = gp.enrichr(gene_list=df[\"external_gene_name\"].astype(str),\n",
    "                         description=time+\"_down\",\n",
    "                         gene_sets='KEGG_2019_Mouse',\n",
    "#                          background= bg[time][\"gene_name\"].astype(str), \n",
    "                         outdir=os.path.join(out_path,'enricher_report_kegg_2019_'+time+\"_down\"),\n",
    "                         cutoff=0.05, # only used for ploting.\n",
    "                         organism='Mouse',\n",
    "                         verbose=False)"
   ]
  },
  {
   "cell_type": "code",
   "execution_count": 10,
   "metadata": {},
   "outputs": [],
   "source": [
    "# heatmap of log2(FC) on the selected pathways genes (TNF signaling pathway, NF-kappa B signaling pathway)"
   ]
  },
  {
   "cell_type": "code",
   "execution_count": 6,
   "metadata": {},
   "outputs": [],
   "source": [
    "gene_name_df = pd.read_csv(\"/data/processing1/leily/deseq_pairwise/fdr0.05/gsea/kegg_name.tsv\", sep =\"\\t\")\n",
    "tnf_pathway = [\"CSF2\", \"TNFAIP3\", \"CXCL1\", \"NOD2\", \"CXCL3\", \"PTGS2\", \"TNF\", \"CXCL2\", \"RELA\",\n",
    "               \"ICAM1\", \"IKBKB\", \"RPS6KA5\", \"CREB3L2\", \"JUNB\", \"MAP3K5\", \"VCAM1\", \"JAG1\", \"TRAF1\",\n",
    "               \"CFLAR\", \"NFKB1\", \"NFKBIA\", \"CXCL10\", \"IL6\", \"IL1B\", \"IRF1\", \"BCL3\", \"TAB3\", \"FAS\", \"BIRC3\"]\n",
    "\n",
    "kappaB_pathway = [\"NFAIP3\", \"PTGS2\", \"TNF\", \"CXCL2\", \"RELA\", \"MALT1\", \"ICAM1\", \"RELB\", \"IKBKB\", \"PLAU\",\n",
    "                  \"CD14\", \"ERC1\", \"BCL2A1B\", \"VCAM1\", \"CSNK2A1\", \"GADD45B\", \"SYK\", \"CSNK2A2\", \"TRAF1\",\n",
    "                  \"CFLAR\", \"NFKB1\", \"NFKB2\", \"NFKBIA\", \"IL1B\", \"TAB3\", \"BIRC3\"]\n",
    "steroid_pathway = [\"SQLE\",\"SC5D\",\"DHCR24\",\"MSMO1\",\"DHCR7\",\"HSD17B7\",\"CYP51\",\"FDFT1\"]\n",
    "cell_cycle_pathway = [\"MCM7\", \"PLK1\", \"BUB1B\", \"CDC20\", \"ORC5\", \"CCNA2\", \"RBL2\",\n",
    "                      \"CCNB2\", \"CDC23\", \"TFDP1\", \"TFDP2\", \"CCNE1\", \"RAD21\",\"CDK1\",\n",
    "                      \"MCM3\", \"E2F2\", \"ANAPC5\", \"MCM5\", \"SKP2\", \"ANAPC1\", \"MAD2L1\"]"
   ]
  },
  {
   "cell_type": "code",
   "execution_count": 12,
   "metadata": {},
   "outputs": [
    {
     "name": "stdout",
     "output_type": "stream",
     "text": [
      "25\n"
     ]
    }
   ],
   "source": [
    "# 1) kappaB\n",
    "kappaB_ensemble = gene_name_df.loc[gene_name_df[\"external_gene_name\"].str.upper().isin(kappaB_pathway)]\n",
    "kappaB_ensemble = kappaB_ensemble[[\"ensembl_gene_id\", \"ensembl_gene_id_version\", \"external_gene_name\"]]\n",
    "print(len(kappaB_ensemble))"
   ]
  },
  {
   "cell_type": "code",
   "execution_count": 13,
   "metadata": {},
   "outputs": [
    {
     "name": "stdout",
     "output_type": "stream",
     "text": [
      "/data/processing1/leily/deseq_pairwise/fdr0.05/ddr_lps0_shctrl_lps0_shmof.filtered.tsv\n",
      "/data/processing1/leily/deseq_pairwise/fdr0.05/ddr_lps0_shctrl_lps0_shprdx1.filtered.tsv\n",
      "/data/processing1/leily/deseq_pairwise/fdr0.05/ddr_lps3_shctrl_lps3_shmof.filtered.tsv\n",
      "/data/processing1/leily/deseq_pairwise/fdr0.05/ddr_lps3_shctrl_lps3_shprdx1.filtered.tsv\n",
      "/data/processing1/leily/deseq_pairwise/fdr0.05/ddr_lps12_shctrl_lps12_shmof.filtered.tsv\n",
      "/data/processing1/leily/deseq_pairwise/fdr0.05/ddr_lps12_shctrl_lps12_shprdx1.filtered.tsv\n"
     ]
    }
   ],
   "source": [
    "all_dfs = dict()\n",
    "for time in [\"lps0\", \"lps3\", \"lps12\"]:\n",
    "    for cond in [\"shmof\", \"shprdx1\"]:\n",
    "        for file in glob.glob(os.path.join(in_path, \"ddr_\"+time+\"_shctrl_\"+time+\"_\"+cond+\"*.tsv\")):\n",
    "            print(file)\n",
    "            df = pd.read_csv(file, sep = \"\\t\")\n",
    "            df['ensembl_gene_id'] = df['gene_id'].str.split('.', 1).str[0]\n",
    "            df = df.merge(kappaB_ensemble, how = \"inner\", on = \"ensembl_gene_id\")\n",
    "            df.sort_values(by=['external_gene_name'], inplace = True)\n",
    "            if time not in all_dfs.keys():\n",
    "                all_dfs[time] = []            \n",
    "            all_dfs[time].append(df)"
   ]
  },
  {
   "cell_type": "code",
   "execution_count": 14,
   "metadata": {},
   "outputs": [
    {
     "data": {
      "image/png": "[encoded data removed]",
      "text/plain": [
       "<Figure size 720x1296 with 6 Axes>"
      ]
     },
     "metadata": {
      "needs_background": "light"
     },
     "output_type": "display_data"
    }
   ],
   "source": [
    "previous_names = np.array([])\n",
    "df_to_write = pd.DataFrame()\n",
    "fig, ax = plt.subplots(ncols=3)\n",
    "for i, (k, v) in enumerate(all_dfs.items()):\n",
    "    \n",
    "    df_to_write[k+\"_shmof\"] = v[0][\"log2FoldChange\"].values\n",
    "    df_to_write[k+\"_shprdx1\"] = v[1][\"log2FoldChange\"].values\n",
    "    \n",
    "    values = np.array([v[0][\"log2FoldChange\"].values, v[1][\"log2FoldChange\"].values])\n",
    "    comparison = v[0][\"external_gene_name\"].values == v[1][\"external_gene_name\"].values\n",
    "    equal_arrays = comparison.all()\n",
    "    assert(equal_arrays == True)\n",
    "    \n",
    "    previous_names = v[0][\"external_gene_name\"].values\n",
    "    comparison = previous_names == v[1][\"external_gene_name\"].values\n",
    "    equal_arrays = comparison.all()\n",
    "    assert(equal_arrays == True)\n",
    "    im = ax[i].imshow(values.transpose(), interpolation='nearest', aspect='auto', vmin = -2,\n",
    "                      vmax = 2, cmap='PiYG')\n",
    "    \n",
    "    if i == 0:\n",
    "        ax[i].set_yticks(np.arange(len(previous_names)))\n",
    "        ax[i].set_yticklabels(previous_names)\n",
    "    else:\n",
    "        ax[i].set_yticks([])\n",
    "    ax[i].set_xticks(np.arange(2))\n",
    "    ax[i].set_xticklabels([\"shmof\", \"shprdx1\"])\n",
    "    ax[i].set_title(k)\n",
    "    fig.colorbar(im, ax = ax[i], orientation='horizontal', pad=0.05)\n",
    "fig.set_size_inches(10,18)\n",
    "plt.show()\n",
    "fig.savefig(os.path.join(out_path, \"kappab_pathway.pdf\"))\n",
    "df_to_write[\"gene_name\"] = previous_names\n",
    "df_to_write.to_csv(os.path.join(out_path, \"kappab_pathway.tsv\"), sep = \"\\t\", index = None)"
   ]
  },
  {
   "cell_type": "code",
   "execution_count": 15,
   "metadata": {},
   "outputs": [
    {
     "name": "stdout",
     "output_type": "stream",
     "text": [
      "29\n"
     ]
    }
   ],
   "source": [
    "# 2) tnf pathway\n",
    "tnf_ensemble = gene_name_df.loc[gene_name_df[\"external_gene_name\"].str.upper().isin(tnf_pathway)]\n",
    "tnf_ensemble = tnf_ensemble[[\"ensembl_gene_id\", \"ensembl_gene_id_version\", \"external_gene_name\"]]\n",
    "print(len(tnf_ensemble))"
   ]
  },
  {
   "cell_type": "code",
   "execution_count": 16,
   "metadata": {},
   "outputs": [
    {
     "name": "stdout",
     "output_type": "stream",
     "text": [
      "/data/processing1/leily/deseq_pairwise/fdr0.05/ddr_lps0_shctrl_lps0_shmof.filtered.tsv\n",
      "/data/processing1/leily/deseq_pairwise/fdr0.05/ddr_lps0_shctrl_lps0_shprdx1.filtered.tsv\n",
      "/data/processing1/leily/deseq_pairwise/fdr0.05/ddr_lps3_shctrl_lps3_shmof.filtered.tsv\n",
      "/data/processing1/leily/deseq_pairwise/fdr0.05/ddr_lps3_shctrl_lps3_shprdx1.filtered.tsv\n",
      "/data/processing1/leily/deseq_pairwise/fdr0.05/ddr_lps12_shctrl_lps12_shmof.filtered.tsv\n",
      "/data/processing1/leily/deseq_pairwise/fdr0.05/ddr_lps12_shctrl_lps12_shprdx1.filtered.tsv\n"
     ]
    }
   ],
   "source": [
    "all_dfs = dict()\n",
    "for time in [\"lps0\", \"lps3\", \"lps12\"]:\n",
    "    for cond in [\"shmof\", \"shprdx1\"]:\n",
    "        for file in glob.glob(os.path.join(in_path, \"ddr_\"+time+\"_shctrl_\"+time+\"_\"+cond+\"*.tsv\")):\n",
    "            print(file)\n",
    "            df = pd.read_csv(file, sep = \"\\t\")\n",
    "            df['ensembl_gene_id'] = df['gene_id'].str.split('.', 1).str[0]\n",
    "            df = df.merge(tnf_ensemble, how = \"inner\", on = \"ensembl_gene_id\")\n",
    "            df.sort_values(by=['external_gene_name'], inplace = True)\n",
    "            if time not in all_dfs.keys():\n",
    "                all_dfs[time] = []            \n",
    "            all_dfs[time].append(df)"
   ]
  },
  {
   "cell_type": "code",
   "execution_count": 17,
   "metadata": {},
   "outputs": [
    {
     "data": {
      "image/png": "[encoded data removed]",
      "text/plain": [
       "<Figure size 720x1296 with 6 Axes>"
      ]
     },
     "metadata": {
      "needs_background": "light"
     },
     "output_type": "display_data"
    }
   ],
   "source": [
    "previous_names = np.array([])\n",
    "df_to_write = pd.DataFrame()\n",
    "fig, ax = plt.subplots(ncols=3)\n",
    "for i, (k, v) in enumerate(all_dfs.items()):\n",
    "    df_to_write[k+\"_shmof\"] = v[0][\"log2FoldChange\"].values\n",
    "    df_to_write[k+\"_shprdx1\"] = v[1][\"log2FoldChange\"].values\n",
    "\n",
    "    values = np.array([v[0][\"log2FoldChange\"].values, v[1][\"log2FoldChange\"].values])\n",
    "    comparison = v[0][\"external_gene_name\"].values == v[1][\"external_gene_name\"].values\n",
    "    equal_arrays = comparison.all()\n",
    "    assert(equal_arrays == True)\n",
    "    \n",
    "    previous_names = v[0][\"external_gene_name\"].values\n",
    "    comparison = previous_names == v[1][\"external_gene_name\"].values\n",
    "    equal_arrays = comparison.all()\n",
    "    assert(equal_arrays == True)\n",
    "    im = ax[i].imshow(values.transpose(), interpolation='nearest', aspect='auto', vmin = -2,\n",
    "                      vmax = 2, cmap='PiYG')\n",
    "    \n",
    "    if i == 0:\n",
    "        ax[i].set_yticks(np.arange(len(previous_names)))\n",
    "        ax[i].set_yticklabels(previous_names)\n",
    "    else:\n",
    "        ax[i].set_yticks([])\n",
    "    ax[i].set_xticks(np.arange(2))\n",
    "    ax[i].set_xticklabels([\"shmof\", \"shprdx1\"])\n",
    "    ax[i].set_title(k)\n",
    "    fig.colorbar(im, ax = ax[i], orientation='horizontal', pad=0.05)\n",
    "fig.set_size_inches(10,18)\n",
    "plt.show()\n",
    "fig.savefig(os.path.join(out_path, \"tnf_pathway.pdf\"))\n",
    "df_to_write[\"gene_name\"] = previous_names\n",
    "df_to_write.to_csv(os.path.join(out_path, \"tnf_pathway.tsv\"), sep = \"\\t\", index = None)"
   ]
  },
  {
   "cell_type": "code",
   "execution_count": 18,
   "metadata": {},
   "outputs": [
    {
     "name": "stdout",
     "output_type": "stream",
     "text": [
      "8\n"
     ]
    }
   ],
   "source": [
    "# 3) steroid pathway\n",
    "steroid_ensemble = gene_name_df.loc[gene_name_df[\"external_gene_name\"].str.upper().isin(steroid_pathway)]\n",
    "steroid_ensemble = steroid_ensemble[[\"ensembl_gene_id\", \"ensembl_gene_id_version\", \"external_gene_name\"]]\n",
    "print(len(steroid_ensemble))"
   ]
  },
  {
   "cell_type": "code",
   "execution_count": 19,
   "metadata": {},
   "outputs": [
    {
     "name": "stdout",
     "output_type": "stream",
     "text": [
      "/data/processing1/leily/deseq_pairwise/fdr0.05/ddr_lps0_shctrl_lps0_shmof.filtered.tsv\n",
      "/data/processing1/leily/deseq_pairwise/fdr0.05/ddr_lps0_shctrl_lps0_shprdx1.filtered.tsv\n",
      "/data/processing1/leily/deseq_pairwise/fdr0.05/ddr_lps3_shctrl_lps3_shmof.filtered.tsv\n",
      "/data/processing1/leily/deseq_pairwise/fdr0.05/ddr_lps3_shctrl_lps3_shprdx1.filtered.tsv\n",
      "/data/processing1/leily/deseq_pairwise/fdr0.05/ddr_lps12_shctrl_lps12_shmof.filtered.tsv\n",
      "/data/processing1/leily/deseq_pairwise/fdr0.05/ddr_lps12_shctrl_lps12_shprdx1.filtered.tsv\n"
     ]
    }
   ],
   "source": [
    "all_dfs = dict()\n",
    "for time in [\"lps0\", \"lps3\", \"lps12\"]:\n",
    "    for cond in [\"shmof\", \"shprdx1\"]:\n",
    "        for file in glob.glob(os.path.join(in_path, \"ddr_\"+time+\"_shctrl_\"+time+\"_\"+cond+\"*.tsv\")):\n",
    "            print(file)\n",
    "            df = pd.read_csv(file, sep = \"\\t\")\n",
    "            df['ensembl_gene_id'] = df['gene_id'].str.split('.', 1).str[0]\n",
    "            df = df.merge(steroid_ensemble, how = \"inner\", on = \"ensembl_gene_id\")\n",
    "            df.sort_values(by=['external_gene_name'], inplace = True)\n",
    "            if time not in all_dfs.keys():\n",
    "                all_dfs[time] = []            \n",
    "            all_dfs[time].append(df)"
   ]
  },
  {
   "cell_type": "code",
   "execution_count": 20,
   "metadata": {},
   "outputs": [
    {
     "data": {
      "image/png": "[encoded data removed]",
      "text/plain": [
       "<Figure size 720x432 with 6 Axes>"
      ]
     },
     "metadata": {
      "needs_background": "light"
     },
     "output_type": "display_data"
    }
   ],
   "source": [
    "previous_names = np.array([])\n",
    "df_to_write = pd.DataFrame()\n",
    "fig, ax = plt.subplots(ncols=3)\n",
    "for i, (k, v) in enumerate(all_dfs.items()):\n",
    "    df_to_write[k+\"_shmof\"] = v[0][\"log2FoldChange\"].values\n",
    "    df_to_write[k+\"_shprdx1\"] = v[1][\"log2FoldChange\"].values\n",
    "\n",
    "    values = np.array([v[0][\"log2FoldChange\"].values, v[1][\"log2FoldChange\"].values])\n",
    "    comparison = v[0][\"external_gene_name\"].values == v[1][\"external_gene_name\"].values\n",
    "    equal_arrays = comparison.all()\n",
    "    assert(equal_arrays == True)\n",
    "    \n",
    "    previous_names = v[0][\"external_gene_name\"].values\n",
    "    comparison = previous_names == v[1][\"external_gene_name\"].values\n",
    "    equal_arrays = comparison.all()\n",
    "    assert(equal_arrays == True)\n",
    "    im = ax[i].imshow(values.transpose(), interpolation='nearest', aspect='auto', vmin = -2,\n",
    "                      vmax = 2, cmap='PiYG')\n",
    "    \n",
    "    if i == 0:\n",
    "        ax[i].set_yticks(np.arange(len(previous_names)))\n",
    "        ax[i].set_yticklabels(previous_names)\n",
    "    else:\n",
    "        ax[i].set_yticks([])\n",
    "    ax[i].set_xticks(np.arange(2))\n",
    "    ax[i].set_xticklabels([\"shmof\", \"shprdx1\"])\n",
    "    ax[i].set_title(k)\n",
    "    fig.colorbar(im, ax = ax[i], orientation='horizontal', pad=0.08)\n",
    "fig.set_size_inches(10,6)\n",
    "plt.show()\n",
    "fig.savefig(os.path.join(out_path, \"steroid_pathway.pdf\"))\n",
    "df_to_write[\"gene_name\"] = previous_names\n",
    "df_to_write.to_csv(os.path.join(out_path, \"steroid_pathway.tsv\"), sep = \"\\t\", index = None)"
   ]
  },
  {
   "cell_type": "code",
   "execution_count": 7,
   "metadata": {},
   "outputs": [],
   "source": [
    "# export DEGs with log2FC in LPS12 up enriched pathways- Cell cycle"
   ]
  },
  {
   "cell_type": "code",
   "execution_count": 11,
   "metadata": {},
   "outputs": [
    {
     "data": {
      "image/png": "[encoded data removed]",
      "text/plain": [
       "<Figure size 720x1152 with 6 Axes>"
      ]
     },
     "metadata": {
      "needs_background": "light"
     },
     "output_type": "display_data"
    }
   ],
   "source": [
    "cellcycle_ensemble = gene_name_df.loc[gene_name_df[\"external_gene_name\"].str.upper().isin(cell_cycle_pathway)]\n",
    "\n",
    "all_dfs = dict()\n",
    "for time in [\"lps0\", \"lps3\", \"lps12\"]:\n",
    "    for cond in [\"shmof\", \"shprdx1\"]:\n",
    "        for file in glob.glob(os.path.join(in_path, \"ddr_\"+time+\"_shctrl_\"+time+\"_\"+cond+\"*.tsv\")):\n",
    "            df = pd.read_csv(file, sep = \"\\t\")\n",
    "            df['ensembl_gene_id'] = df['gene_id'].str.split('.', 1).str[0]\n",
    "            df = df.merge(cellcycle_ensemble, how = \"inner\", on = \"ensembl_gene_id\")\n",
    "            df.sort_values(by=['external_gene_name'], inplace = True)\n",
    "            if time not in all_dfs.keys():\n",
    "                all_dfs[time] = []            \n",
    "            all_dfs[time].append(df)\n",
    "\n",
    "previous_names = np.array([])\n",
    "df_to_write = pd.DataFrame()\n",
    "fig, ax = plt.subplots(ncols=3)\n",
    "for i, (k, v) in enumerate(all_dfs.items()):\n",
    "    df_to_write[k+\"_shmof\"] = v[0][\"log2FoldChange\"].values\n",
    "    df_to_write[k+\"_shprdx1\"] = v[1][\"log2FoldChange\"].values\n",
    "\n",
    "    values = np.array([v[0][\"log2FoldChange\"].values, v[1][\"log2FoldChange\"].values])\n",
    "    comparison = v[0][\"external_gene_name\"].values == v[1][\"external_gene_name\"].values\n",
    "    equal_arrays = comparison.all()\n",
    "    assert(equal_arrays == True)\n",
    "    \n",
    "    previous_names = v[0][\"external_gene_name\"].values\n",
    "    comparison = previous_names == v[1][\"external_gene_name\"].values\n",
    "    equal_arrays = comparison.all()\n",
    "    assert(equal_arrays == True)\n",
    "    im = ax[i].imshow(values.transpose(), interpolation='nearest', aspect='auto', vmin = -2,\n",
    "                      vmax = 2, cmap='PiYG')\n",
    "    \n",
    "    if i == 0:\n",
    "        ax[i].set_yticks(np.arange(len(previous_names)))\n",
    "        ax[i].set_yticklabels(previous_names)\n",
    "    else:\n",
    "        ax[i].set_yticks([])\n",
    "    ax[i].set_xticks(np.arange(2))\n",
    "    ax[i].set_xticklabels([\"shmof\", \"shprdx1\"])\n",
    "    ax[i].set_title(k)\n",
    "    fig.colorbar(im, ax = ax[i], orientation='horizontal', pad=0.05)\n",
    "fig.set_size_inches(10,16)\n",
    "plt.show()\n",
    "fig.savefig(os.path.join(out_path, \"cellcycle_pathway.pdf\"))\n",
    "df_to_write[\"gene_name\"] = previous_names\n",
    "df_to_write.to_csv(os.path.join(out_path, \"cellcycle_pathway.tsv\"), sep = \"\\t\", index = None)"
   ]
  },
  {
   "cell_type": "code",
   "execution_count": null,
   "metadata": {},
   "outputs": [],
   "source": []
  }
 ],
 "metadata": {
  "kernelspec": {
   "display_name": "SSH maximus matplotlib3",
   "language": "",
   "name": "rik_ssh_maximus_matplotlib3"
  },
  "language_info": {
   "codemirror_mode": {
    "name": "ipython",
    "version": 3
   },
   "file_extension": ".py",
   "mimetype": "text/x-python",
   "name": "python",
   "nbconvert_exporter": "python",
   "pygments_lexer": "ipython3",
   "version": "3.6.12"
  }
 },
 "nbformat": 4,
 "nbformat_minor": 2
}
