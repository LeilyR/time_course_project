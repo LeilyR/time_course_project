{
 "cells": [
  {
   "cell_type": "code",
   "execution_count": 1,
   "id": "reduced-fabric",
   "metadata": {},
   "outputs": [],
   "source": [
    "from gseapy.parser import Biomart\n",
    "import pandas as pd\n",
    "import gseapy as gp\n",
    "import matplotlib.pyplot as plt\n",
    "import os\n",
    "import glob"
   ]
  },
  {
   "cell_type": "code",
   "execution_count": 2,
   "id": "separate-secretary",
   "metadata": {},
   "outputs": [],
   "source": [
    "# use biomart "
   ]
  },
  {
   "cell_type": "code",
   "execution_count": 3,
   "id": "major-account",
   "metadata": {},
   "outputs": [],
   "source": [
    "in_path = os.path.join(\"/data/manke/group/rabbani/deseq_multi_grp/gene_lists\")\n",
    "out_path = os.path.join(\"/data/processing1/leily/deseq_pairwise/time_course_clustered_genes\")"
   ]
  },
  {
   "cell_type": "code",
   "execution_count": 4,
   "id": "exact-louisiana",
   "metadata": {},
   "outputs": [],
   "source": [
    "# convert IDs using biomart\n",
    "from gseapy.parser import Biomart\n",
    "bm = Biomart()\n",
    "marts = bm.get_marts()\n",
    "datasets = bm.get_datasets(mart='ENSEMBL_MART_ENSEMBL')"
   ]
  },
  {
   "cell_type": "code",
   "execution_count": 7,
   "id": "suburban-listing",
   "metadata": {},
   "outputs": [
    {
     "name": "stdout",
     "output_type": "stream",
     "text": [
      "27\n",
      "126\n",
      "39\n",
      "113\n",
      "25\n",
      "39\n",
      "67\n",
      "20\n",
      "16\n",
      "56\n",
      "78\n",
      "57\n",
      "73\n",
      "14\n",
      "26\n",
      "79\n",
      "25\n",
      "12\n",
      "134\n",
      "60\n",
      "7\n",
      "27\n",
      "26\n",
      "80\n",
      "46\n",
      "306\n",
      "90\n",
      "42\n",
      "48\n",
      "67\n"
     ]
    }
   ],
   "source": [
    "for file in glob.glob(os.path.join(in_path, \"*tsv\")):\n",
    "    genes_names = pd.read_csv(file, sep = \"\\t\")\n",
    "    queries = genes_names[\"gene_id\"].values.tolist() # need to be a python list\n",
    "    print(len(queries))\n",
    "    results = bm.query(dataset='mmusculus_gene_ensembl',\n",
    "                       attributes=['ensembl_gene_id', 'external_gene_name', 'entrezgene_id'],\n",
    "                       filters={'ensembl_gene_id': queries})\n",
    "    results.to_csv(os.path.join(out_path, os.path.basename(file)), sep = \"\\t\", index = False)"
   ]
  },
  {
   "cell_type": "code",
   "execution_count": null,
   "id": "operating-chorus",
   "metadata": {},
   "outputs": [],
   "source": []
  },
  {
   "cell_type": "code",
   "execution_count": null,
   "id": "advisory-capability",
   "metadata": {},
   "outputs": [],
   "source": []
  }
 ],
 "metadata": {
  "kernelspec": {
   "display_name": "SSH maximus matplotlib3",
   "language": "",
   "name": "rik_ssh_maximus_matplotlib3"
  }
 },
 "nbformat": 4,
 "nbformat_minor": 5
}
