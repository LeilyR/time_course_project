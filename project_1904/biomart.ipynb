{
 "cells": [
  {
   "cell_type": "code",
   "execution_count": 1,
   "id": "2340a117",
   "metadata": {},
   "outputs": [],
   "source": [
    "from gseapy.parser import Biomart\n",
    "import pandas as pd\n",
    "import gseapy as gp\n",
    "import matplotlib.pyplot as plt\n",
    "import os\n",
    "import glob"
   ]
  },
  {
   "cell_type": "code",
   "execution_count": 2,
   "id": "fcf14905",
   "metadata": {},
   "outputs": [],
   "source": [
    "# use biomart "
   ]
  },
  {
   "cell_type": "code",
   "execution_count": 3,
   "id": "82d9f874",
   "metadata": {},
   "outputs": [],
   "source": [
    "in_path = os.path.join(\"/data/akhtar/group2/rabbani/rna_project1904/lrt_factor/genes_in_clusters/\")\n",
    "out_path = os.path.join(\"/data/akhtar/group2/rabbani/rna_project1904/lrt_factor/genes_in_clusters/clustered_genes_with_gene_name\")"
   ]
  },
  {
   "cell_type": "code",
   "execution_count": 4,
   "id": "1908d3f0",
   "metadata": {},
   "outputs": [],
   "source": [
    "# convert IDs using biomart\n",
    "from gseapy.parser import Biomart\n",
    "bm = Biomart()\n",
    "marts = bm.get_marts()\n",
    "datasets = bm.get_datasets(mart='ENSEMBL_MART_ENSEMBL')"
   ]
  },
  {
   "cell_type": "code",
   "execution_count": 5,
   "id": "a10ae2e5",
   "metadata": {
    "collapsed": true,
    "jupyter": {
     "outputs_hidden": true
    }
   },
   "outputs": [
    {
     "name": "stdout",
     "output_type": "stream",
     "text": [
      "86\n",
      "6\n",
      "210\n",
      "11\n",
      "50\n",
      "22\n",
      "39\n",
      "30\n",
      "82\n",
      "34\n",
      "41\n",
      "45\n",
      "33\n",
      "75\n",
      "113\n",
      "16\n",
      "10\n",
      "30\n",
      "25\n",
      "103\n",
      "104\n",
      "22\n",
      "474\n",
      "169\n",
      "9\n",
      "59\n",
      "12\n",
      "117\n",
      "33\n",
      "7\n"
     ]
    }
   ],
   "source": [
    "for file in glob.glob(os.path.join(in_path, \"*tsv\")):\n",
    "    genes_names = pd.read_csv(file, sep = \"\\t\")\n",
    "    queries = genes_names[\"gene_id\"].values.tolist() # need to be a python list\n",
    "    print(len(queries))\n",
    "    results = bm.query(dataset='mmusculus_gene_ensembl',\n",
    "                       attributes=['ensembl_gene_id', 'external_gene_name', 'entrezgene_id'],\n",
    "                       filters={'ensembl_gene_id': queries})\n",
    "    results.to_csv(os.path.join(out_path, os.path.basename(file)), sep = \"\\t\", index = False)"
   ]
  },
  {
   "cell_type": "code",
   "execution_count": null,
   "id": "380dc00b",
   "metadata": {},
   "outputs": [],
   "source": []
  },
  {
   "cell_type": "code",
   "execution_count": null,
   "id": "a103257e",
   "metadata": {},
   "outputs": [],
   "source": []
  }
 ],
 "metadata": {
  "kernelspec": {
   "display_name": "SSH minimus matplotlib3_py3.8",
   "language": "",
   "name": "rik_ssh_maximus_matplotlib3_py38"
  },
  "language_info": {
   "codemirror_mode": {
    "name": "ipython",
    "version": 3
   },
   "file_extension": ".py",
   "mimetype": "text/x-python",
   "name": "python",
   "nbconvert_exporter": "python",
   "pygments_lexer": "ipython3",
   "version": "3.8.0"
  }
 },
 "nbformat": 4,
 "nbformat_minor": 5
}
