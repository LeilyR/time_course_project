{
 "cells": [
  {
   "cell_type": "code",
   "execution_count": 1,
   "metadata": {},
   "outputs": [],
   "source": [
    "from gseapy.parser import Biomart\n",
    "import pandas as pd\n",
    "import gseapy as gp\n",
    "import matplotlib.pyplot as plt\n",
    "import os\n",
    "import glob"
   ]
  },
  {
   "cell_type": "code",
   "execution_count": 2,
   "metadata": {},
   "outputs": [],
   "source": [
    "# use biomart\n",
    "# read the list of deseq genes\n",
    "# use prerank\n",
    "# plot gsea"
   ]
  },
  {
   "cell_type": "code",
   "execution_count": 3,
   "metadata": {},
   "outputs": [],
   "source": [
    "# conditions of interest:\n",
    "#     LPS0_shCTRL_vs_shMOF\n",
    "#     LPS0_shCTRL_vs_shPRDX1\n",
    "#     LPS3_shCTRL_vs_shMOF\n",
    "#     LPS3_shCTRL_vs_shPRDX1\n",
    "#     LPS12_shCTRL_vs_shMOF\n",
    "#     LPS12_shCTRL_vs_shPRDX1"
   ]
  },
  {
   "cell_type": "code",
   "execution_count": 4,
   "metadata": {},
   "outputs": [],
   "source": [
    "in_path = os.path.join(\"/data/akhtar/group2/rabbani/rna_project1904/pairwise_comparison\")\n",
    "out_path = os.path.join(\"/data/akhtar/group2/rabbani/rna_project1904/pairwise_comparison/fdr0.05/gsea\")"
   ]
  },
  {
   "cell_type": "code",
   "execution_count": 5,
   "metadata": {},
   "outputs": [],
   "source": [
    "# From GSEApy developer:\n",
    "# prerank is used for comparing two group of samples (e.g. control and treatment),\n",
    "# where the gene ranking are defined by your custom rank method (like t-statistic, signal-to-noise, et.al)."
   ]
  },
  {
   "cell_type": "code",
   "execution_count": 6,
   "metadata": {},
   "outputs": [],
   "source": [
    "# convert IDs using biomart\n",
    "from gseapy.parser import Biomart\n",
    "bm = Biomart()\n",
    "marts = bm.get_marts()\n",
    "datasets = bm.get_datasets(mart='ENSEMBL_MART_ENSEMBL')"
   ]
  },
  {
   "cell_type": "code",
   "execution_count": 7,
   "metadata": {},
   "outputs": [
    {
     "name": "stdout",
     "output_type": "stream",
     "text": [
      "47937\n"
     ]
    }
   ],
   "source": [
    "genes_names = pd.read_csv(os.path.join(out_path, \"gene_id_ensembl.tsv\"), sep = \"\\t\")\n",
    "queries = genes_names[\"gene_id\"].values.tolist() # need to be a python list\n",
    "print(len(queries))\n",
    "results = bm.query(dataset='mmusculus_gene_ensembl',\n",
    "                   attributes=['ensembl_gene_id', 'external_gene_name', 'entrezgene_id'],\n",
    "                   filters={'ensembl_gene_id': queries})"
   ]
  },
  {
   "cell_type": "code",
   "execution_count": 8,
   "metadata": {
    "collapsed": true,
    "jupyter": {
     "outputs_hidden": true
    }
   },
   "outputs": [
    {
     "name": "stderr",
     "output_type": "stream",
     "text": [
      "2022-05-16 18:24:50,697 Input gene rankings contains duplicated IDs, Only use the duplicated ID with highest value!\n"
     ]
    },
    {
     "name": "stdout",
     "output_type": "stream",
     "text": [
      "lps0_shprdx1_lps0_shctrl\n",
      "                  GeneID  log2FoldChange     ensembl_gene_id  \\\n",
      "0  ENSMUSG00000052516.17        4.167885  ENSMUSG00000052516   \n",
      "1   ENSMUSG00000026535.9        4.162830  ENSMUSG00000026535   \n",
      "2  ENSMUSG00000029275.17        3.991026  ENSMUSG00000029275   \n",
      "3   ENSMUSG00000092021.8        3.577217  ENSMUSG00000092021   \n",
      "4  ENSMUSG00000015053.14        3.480622  ENSMUSG00000015053   \n",
      "\n",
      "  external_gene_name  entrezgene_id  \n",
      "0              Robo2         268902  \n",
      "1            Ifi202b          26388  \n",
      "2               Gfi1          14581  \n",
      "3              Gbp11           <NA>  \n",
      "4              Gata2          14461  \n"
     ]
    },
    {
     "name": "stderr",
     "output_type": "stream",
     "text": [
      "2022-05-16 18:25:41,190 Input gene rankings contains duplicated IDs, Only use the duplicated ID with highest value!\n"
     ]
    },
    {
     "name": "stdout",
     "output_type": "stream",
     "text": [
      "lps0_shmof_lps0_shctrl\n",
      "                  GeneID  log2FoldChange     ensembl_gene_id  \\\n",
      "0  ENSMUSG00000052516.17        4.542760  ENSMUSG00000052516   \n",
      "1   ENSMUSG00000023886.9        3.128205  ENSMUSG00000023886   \n",
      "2  ENSMUSG00000041782.14        2.962411  ENSMUSG00000041782   \n",
      "3   ENSMUSG00000038201.9        2.589884  ENSMUSG00000038201   \n",
      "4  ENSMUSG00000015053.14        2.578129  ENSMUSG00000015053   \n",
      "\n",
      "  external_gene_name  entrezgene_id  \n",
      "0              Robo2         268902  \n",
      "1              Smoc2          64074  \n",
      "2               Lad1          16763  \n",
      "3              Kcna7          16495  \n",
      "4              Gata2          14461  \n"
     ]
    },
    {
     "name": "stderr",
     "output_type": "stream",
     "text": [
      "2022-05-16 18:26:31,763 Input gene rankings contains duplicated IDs, Only use the duplicated ID with highest value!\n"
     ]
    },
    {
     "name": "stdout",
     "output_type": "stream",
     "text": [
      "lps3_shprdx1_lps3_shctrl\n",
      "                 GeneID  log2FoldChange     ensembl_gene_id  \\\n",
      "0  ENSMUSG00000092837.1        4.957045  ENSMUSG00000092837   \n",
      "1  ENSMUSG00000088088.1        4.923361  ENSMUSG00000088088   \n",
      "2  ENSMUSG00000026535.9        3.782115  ENSMUSG00000026535   \n",
      "3  ENSMUSG00000097848.1        3.200252  ENSMUSG00000097848   \n",
      "4  ENSMUSG00000079138.3        3.097919  ENSMUSG00000079138   \n",
      "\n",
      "  external_gene_name  entrezgene_id  \n",
      "0              Rpph1          85029  \n",
      "1               Rmrp          19782  \n",
      "2            Ifi202b          26388  \n",
      "3              Gm807         328320  \n",
      "4             Gm8818           <NA>  \n"
     ]
    },
    {
     "name": "stderr",
     "output_type": "stream",
     "text": [
      "2022-05-16 18:27:22,278 Input gene rankings contains duplicated IDs, Only use the duplicated ID with highest value!\n"
     ]
    },
    {
     "name": "stdout",
     "output_type": "stream",
     "text": [
      "lps3_shmof_lps3_shctrl\n",
      "                  GeneID  log2FoldChange     ensembl_gene_id  \\\n",
      "0   ENSMUSG00000082560.1        3.174656  ENSMUSG00000082560   \n",
      "1  ENSMUSG00000070868.11        2.834957  ENSMUSG00000070868   \n",
      "2   ENSMUSG00000052415.5        2.519693  ENSMUSG00000052415   \n",
      "3   ENSMUSG00000022123.8        2.507119  ENSMUSG00000022123   \n",
      "4   ENSMUSG00000070720.3        2.502026  ENSMUSG00000070720   \n",
      "\n",
      "  external_gene_name  entrezgene_id  \n",
      "0            Gm15157           <NA>  \n",
      "1             Skint3         195564  \n",
      "2               Tchh          99681  \n",
      "3               Scel          64929  \n",
      "4           Tmem200b         623230  \n"
     ]
    },
    {
     "name": "stderr",
     "output_type": "stream",
     "text": [
      "2022-05-16 18:28:21,134 Input gene rankings contains duplicated IDs, Only use the duplicated ID with highest value!\n"
     ]
    },
    {
     "name": "stdout",
     "output_type": "stream",
     "text": [
      "lps3_shctrl_lps0_shctrl\n",
      "                  GeneID  log2FoldChange     ensembl_gene_id  \\\n",
      "0  ENSMUSG00000004296.14       11.608734  ENSMUSG00000004296   \n",
      "1   ENSMUSG00000026582.6       11.218868  ENSMUSG00000026582   \n",
      "2   ENSMUSG00000018916.5       11.131849  ENSMUSG00000018916   \n",
      "3  ENSMUSG00000041782.14       11.025293  ENSMUSG00000041782   \n",
      "4  ENSMUSG00000025746.11       10.988077  ENSMUSG00000025746   \n",
      "\n",
      "  external_gene_name  entrezgene_id  \n",
      "0              Il12b           <NA>  \n",
      "1               Sele          20339  \n",
      "2               Csf2          12981  \n",
      "3               Lad1          16763  \n",
      "4                Il6          16193  \n"
     ]
    },
    {
     "name": "stderr",
     "output_type": "stream",
     "text": [
      "2022-05-16 18:29:16,356 Input gene rankings contains duplicated IDs, Only use the duplicated ID with highest value!\n"
     ]
    },
    {
     "name": "stdout",
     "output_type": "stream",
     "text": [
      "lps12_shctrl_lps3_shctrl\n",
      "                  GeneID  log2FoldChange     ensembl_gene_id  \\\n",
      "0   ENSMUSG00000029084.5        4.771642  ENSMUSG00000029084   \n",
      "1   ENSMUSG00000095620.7        4.561110  ENSMUSG00000095620   \n",
      "2   ENSMUSG00000019987.8        4.496170  ENSMUSG00000019987   \n",
      "3   ENSMUSG00000051748.2        4.416183  ENSMUSG00000051748   \n",
      "4  ENSMUSG00000064065.15        4.243571  ENSMUSG00000064065   \n",
      "\n",
      "  external_gene_name  entrezgene_id  \n",
      "0               Cd38           <NA>  \n",
      "1              Csta2          76770  \n",
      "2               Arg1          11846  \n",
      "3             Wfdc21          66107  \n",
      "4             Ipcef1         320495  \n"
     ]
    },
    {
     "name": "stderr",
     "output_type": "stream",
     "text": [
      "2022-05-16 18:30:08,717 Input gene rankings contains duplicated IDs, Only use the duplicated ID with highest value!\n"
     ]
    },
    {
     "name": "stdout",
     "output_type": "stream",
     "text": [
      "lps12_shmof_lps12_shctrl\n",
      "                  GeneID  log2FoldChange     ensembl_gene_id  \\\n",
      "0  ENSMUSG00000059336.14        5.357557  ENSMUSG00000059336   \n",
      "1  ENSMUSG00000048031.15        4.128252  ENSMUSG00000048031   \n",
      "2  ENSMUSG00000035275.14        3.633860  ENSMUSG00000035275   \n",
      "3   ENSMUSG00000039883.5        3.442256  ENSMUSG00000039883   \n",
      "4  ENSMUSG00000025815.13        3.374905  ENSMUSG00000025815   \n",
      "\n",
      "  external_gene_name  entrezgene_id  \n",
      "0            Slc14a1         108052  \n",
      "1              Fcrl5         329693  \n",
      "2             Raver2         242570  \n",
      "3             Lrrc17          74511  \n",
      "4             Dhtkd1         209692  \n"
     ]
    },
    {
     "name": "stderr",
     "output_type": "stream",
     "text": [
      "2022-05-16 18:31:00,785 Input gene rankings contains duplicated IDs, Only use the duplicated ID with highest value!\n"
     ]
    },
    {
     "name": "stdout",
     "output_type": "stream",
     "text": [
      "lps12_shctrl_lps0_shctrl\n",
      "                  GeneID  log2FoldChange     ensembl_gene_id  \\\n",
      "0  ENSMUSG00000026822.14       12.905310  ENSMUSG00000026822   \n",
      "1   ENSMUSG00000040026.7       11.539613  ENSMUSG00000040026   \n",
      "2   ENSMUSG00000029084.5       10.931293  ENSMUSG00000029084   \n",
      "3  ENSMUSG00000024743.14       10.791555  ENSMUSG00000024743   \n",
      "4  ENSMUSG00000041782.14       10.579538  ENSMUSG00000041782   \n",
      "\n",
      "  external_gene_name  entrezgene_id  \n",
      "0               Lcn2          16819  \n",
      "1               Saa3          20210  \n",
      "2               Cd38           <NA>  \n",
      "3               Syt7          54525  \n",
      "4               Lad1          16763  \n"
     ]
    },
    {
     "name": "stderr",
     "output_type": "stream",
     "text": [
      "2022-05-16 18:31:52,143 Input gene rankings contains duplicated IDs, Only use the duplicated ID with highest value!\n"
     ]
    },
    {
     "name": "stdout",
     "output_type": "stream",
     "text": [
      "lps12_shprdx1_lps12_shctrl\n",
      "                  GeneID  log2FoldChange     ensembl_gene_id  \\\n",
      "0   ENSMUSG00000091556.8        5.051291  ENSMUSG00000091556   \n",
      "1   ENSMUSG00000097558.1        5.030853  ENSMUSG00000097558   \n",
      "2   ENSMUSG00000082560.1        4.027485  ENSMUSG00000082560   \n",
      "3  ENSMUSG00000041592.16        3.909540  ENSMUSG00000041592   \n",
      "4  ENSMUSG00000034683.12        3.798470  ENSMUSG00000034683   \n",
      "\n",
      "  external_gene_name  entrezgene_id  \n",
      "0            Gm14569      101055983  \n",
      "1            Gm26902           <NA>  \n",
      "2            Gm15157           <NA>  \n",
      "3               Sdk2         237979  \n",
      "4            Ppp1r1c          75276  \n"
     ]
    }
   ],
   "source": [
    "for time in [\"lps0\", \"lps3\",\"lps12\"]:\n",
    "    for file in glob.glob(os.path.join(in_path, \"ddr_\"+time+\"*_shctrl.tsv\")):\n",
    "        name = os.path.basename(file)\n",
    "        name = name.split(\".tsv\")[0].split(\"ddr_\")[-1]\n",
    "        print(name)\n",
    "        df = pd.read_csv(file, sep = \"\\t\", usecols = [\"GeneID\", \"log2FoldChange\"])\n",
    "        df.sort_values(by=[\"log2FoldChange\"], inplace = True, ascending = False)\n",
    "        df['ensembl_gene_id'] = df['GeneID'].str.split('.', 1).str[0]\n",
    "        merged_df = df.merge(results, on = \"ensembl_gene_id\", how = \"inner\")\n",
    "        print(merged_df.head())\n",
    "        df1 = pd.DataFrame()\n",
    "        df1[0] = merged_df[\"external_gene_name\"].str.upper()\n",
    "        df1[1] = merged_df[\"log2FoldChange\"]\n",
    "        df1.dropna(inplace = True)\n",
    "        df1.sort_values(by=[1], ascending = False, inplace = True)\n",
    "        pre_res = gp.prerank(rnk=df1, gene_sets='KEGG_2019_Mouse',\n",
    "                             processes=4,\n",
    "                             seed=149,\n",
    "                             graph_num = 25,\n",
    "                             permutation_num=100,\n",
    "                             outdir=os.path.join(out_path,'test_prerank_report_kegg_2019_'+name))"
   ]
  },
  {
   "cell_type": "code",
   "execution_count": 9,
   "metadata": {},
   "outputs": [],
   "source": [
    "# look for common pathways within a time point"
   ]
  },
  {
   "cell_type": "code",
   "execution_count": 10,
   "metadata": {
    "collapsed": true,
    "jupyter": {
     "outputs_hidden": true
    }
   },
   "outputs": [
    {
     "name": "stdout",
     "output_type": "stream",
     "text": [
      "/data/akhtar/group2/rabbani/rna_project1904/pairwise_comparison/fdr0.05/gsea/test_prerank_report_kegg_2019_lps3_shctrl_lps0_shctrl/gseapy.prerank.gene_sets.report.csv\n",
      "270\n",
      "127\n",
      "/data/akhtar/group2/rabbani/rna_project1904/pairwise_comparison/fdr0.05/gsea/test_prerank_report_kegg_2019_lps0_shprdx1_lps0_shctrl/gseapy.prerank.gene_sets.report.csv\n",
      "270\n",
      "15\n",
      "/data/akhtar/group2/rabbani/rna_project1904/pairwise_comparison/fdr0.05/gsea/test_prerank_report_kegg_2019_lps12_shctrl_lps0_shctrl/gseapy.prerank.gene_sets.report.csv\n",
      "270\n",
      "107\n",
      "/data/akhtar/group2/rabbani/rna_project1904/pairwise_comparison/fdr0.05/gsea/test_prerank_report_kegg_2019_lps0_shmof_lps0_shctrl/gseapy.prerank.gene_sets.report.csv\n",
      "270\n",
      "22\n",
      "Empty DataFrame\n",
      "Columns: [Term, nes_x, pval_x, fdr_x, nes_y, pval_y, fdr_y, nes_x, pval_x, fdr_x, nes_y, pval_y, fdr_y]\n",
      "Index: []\n",
      "/data/akhtar/group2/rabbani/rna_project1904/pairwise_comparison/fdr0.05/gsea/test_prerank_report_kegg_2019_lps3_shctrl_lps0_shctrl/gseapy.prerank.gene_sets.report.csv\n",
      "270\n",
      "127\n",
      "/data/akhtar/group2/rabbani/rna_project1904/pairwise_comparison/fdr0.05/gsea/test_prerank_report_kegg_2019_lps12_shctrl_lps3_shctrl/gseapy.prerank.gene_sets.report.csv\n",
      "270\n",
      "91\n",
      "/data/akhtar/group2/rabbani/rna_project1904/pairwise_comparison/fdr0.05/gsea/test_prerank_report_kegg_2019_lps3_shprdx1_lps3_shctrl/gseapy.prerank.gene_sets.report.csv\n",
      "270\n",
      "2\n",
      "/data/akhtar/group2/rabbani/rna_project1904/pairwise_comparison/fdr0.05/gsea/test_prerank_report_kegg_2019_lps3_shmof_lps3_shctrl/gseapy.prerank.gene_sets.report.csv\n",
      "270\n",
      "128\n",
      "Empty DataFrame\n",
      "Columns: [nes_x, pval_x, fdr_x, nes_y, pval_y, fdr_y, nes_x, pval_x, fdr_x, Term, nes_y, pval_y, fdr_y]\n",
      "Index: []\n",
      "/data/akhtar/group2/rabbani/rna_project1904/pairwise_comparison/fdr0.05/gsea/test_prerank_report_kegg_2019_lps12_shctrl_lps3_shctrl/gseapy.prerank.gene_sets.report.csv\n",
      "270\n",
      "91\n",
      "/data/akhtar/group2/rabbani/rna_project1904/pairwise_comparison/fdr0.05/gsea/test_prerank_report_kegg_2019_lps12_shprdx1_lps12_shctrl/gseapy.prerank.gene_sets.report.csv\n",
      "270\n",
      "7\n",
      "/data/akhtar/group2/rabbani/rna_project1904/pairwise_comparison/fdr0.05/gsea/test_prerank_report_kegg_2019_lps12_shmof_lps12_shctrl/gseapy.prerank.gene_sets.report.csv\n",
      "270\n",
      "31\n",
      "/data/akhtar/group2/rabbani/rna_project1904/pairwise_comparison/fdr0.05/gsea/test_prerank_report_kegg_2019_lps12_shctrl_lps0_shctrl/gseapy.prerank.gene_sets.report.csv\n",
      "270\n",
      "107\n",
      "Empty DataFrame\n",
      "Columns: [Term, nes_x, pval_x, fdr_x, nes_y, pval_y, fdr_y, nes_x, pval_x, fdr_x, nes_y, pval_y, fdr_y]\n",
      "Index: []\n"
     ]
    },
    {
     "name": "stderr",
     "output_type": "stream",
     "text": [
      "/localenv/rabbani/anaconda/miniconda3/envs/matplotlib/lib/python3.8/site-packages/pandas/core/frame.py:9186: FutureWarning: Passing 'suffixes' which cause duplicate columns {'fdr_x', 'pval_x', 'nes_x'} in the result is deprecated and will raise a MergeError in a future version.\n",
      "  return merge(\n",
      "/localenv/rabbani/anaconda/miniconda3/envs/matplotlib/lib/python3.8/site-packages/pandas/core/frame.py:9186: FutureWarning: Passing 'suffixes' which cause duplicate columns {'fdr_x', 'pval_x', 'nes_x'} in the result is deprecated and will raise a MergeError in a future version.\n",
      "  return merge(\n",
      "/localenv/rabbani/anaconda/miniconda3/envs/matplotlib/lib/python3.8/site-packages/pandas/core/frame.py:9186: FutureWarning: Passing 'suffixes' which cause duplicate columns {'fdr_x', 'pval_x', 'nes_x'} in the result is deprecated and will raise a MergeError in a future version.\n",
      "  return merge(\n"
     ]
    }
   ],
   "source": [
    "for time in [\"lps0\", \"lps3\", \"lps12\"]:\n",
    "    merged_df = pd.DataFrame()\n",
    "    for index, file in enumerate(glob.glob(os.path.join(out_path, \"test_prerank_*\"+time+\"*\", \"*csv\"))):\n",
    "        print(file)\n",
    "        df = pd.read_csv(file, sep =\",\", usecols = [\"Term\", \"nes\", \"pval\", \"fdr\"])\n",
    "        print(len(df))\n",
    "        df = df.loc[df[\"fdr\"] <= 0.25] # recommneded by developer!\n",
    "        print(len(df))\n",
    "        if index == 0:\n",
    "            merged_df = df\n",
    "        else:\n",
    "            merged_df = merged_df.merge(df, how = \"inner\", on = \"Term\")\n",
    "    print(merged_df)"
   ]
  },
  {
   "cell_type": "code",
   "execution_count": 11,
   "metadata": {},
   "outputs": [],
   "source": [
    "# filter those with FC>0.5 (FC<0.05)+padi<0.05\n",
    "# gp.enrichr"
   ]
  },
  {
   "cell_type": "code",
   "execution_count": 12,
   "metadata": {
    "collapsed": true,
    "jupyter": {
     "outputs_hidden": true
    }
   },
   "outputs": [
    {
     "name": "stdout",
     "output_type": "stream",
     "text": [
      "/data/akhtar/group2/rabbani/rna_project1904/pairwise_comparison/ddr_lps0_shmof_lps0_shctrl.tsv\n",
      "/data/akhtar/group2/rabbani/rna_project1904/pairwise_comparison/ddr_lps0_shprdx1_lps0_shctrl.tsv\n",
      "/data/akhtar/group2/rabbani/rna_project1904/pairwise_comparison/ddr_lps3_shmof_lps3_shctrl.tsv\n",
      "/data/akhtar/group2/rabbani/rna_project1904/pairwise_comparison/ddr_lps3_shprdx1_lps3_shctrl.tsv\n",
      "/data/akhtar/group2/rabbani/rna_project1904/pairwise_comparison/ddr_lps12_shmof_lps12_shctrl.tsv\n",
      "/data/akhtar/group2/rabbani/rna_project1904/pairwise_comparison/ddr_lps12_shprdx1_lps12_shctrl.tsv\n",
      "                     GeneID  log2FoldChange          padj     ensembl_gene_id  \\\n",
      "1      ENSMUSG00000000056.7       -0.246523  1.016272e-03  ENSMUSG00000000056   \n",
      "2      ENSMUSG00000000078.6       -0.249566  1.041826e-04  ENSMUSG00000000078   \n",
      "3     ENSMUSG00000000085.16       -0.541236  8.327553e-11  ENSMUSG00000000085   \n",
      "6     ENSMUSG00000000154.16       -0.435672  2.197982e-03  ENSMUSG00000000154   \n",
      "8     ENSMUSG00000000194.13       -0.409422  1.273726e-20  ENSMUSG00000000194   \n",
      "...                     ...             ...           ...                 ...   \n",
      "6534   ENSMUSG00000108591.1       -0.644524  2.302204e-02  ENSMUSG00000108591   \n",
      "6535   ENSMUSG00000108604.1       -1.579293  2.711855e-04  ENSMUSG00000108604   \n",
      "6536   ENSMUSG00000108621.1       -0.378724  8.805253e-04  ENSMUSG00000108621   \n",
      "6540   ENSMUSG00000109366.1       -1.064298  2.473121e-02  ENSMUSG00000109366   \n",
      "6541   ENSMUSG00000109429.1       -1.563254  4.667153e-02  ENSMUSG00000109429   \n",
      "\n",
      "     external_gene_name  entrezgene_id  \n",
      "1                  Narf          67608  \n",
      "2                  Klf6          23849  \n",
      "3                 Scmh1          29871  \n",
      "6              Slc22a18          18400  \n",
      "8                Gpr107         277463  \n",
      "...                 ...            ...  \n",
      "6534            Particl           <NA>  \n",
      "6535            Gm44850           <NA>  \n",
      "6536            Gm33989      102637087  \n",
      "6540            Gm44698           <NA>  \n",
      "6541            Gm45223           <NA>  \n",
      "\n",
      "[2959 rows x 6 columns]\n"
     ]
    }
   ],
   "source": [
    "up_dfs = dict()\n",
    "down_dfs = dict()\n",
    "for time in [\"lps0\", \"lps3\", \"lps12\"]:\n",
    "    for cond in [\"shmof\", \"shprdx1\"]:\n",
    "        for file in glob.glob(os.path.join(in_path, \"ddr_\"+time+\"*\"+cond+\"*\"+time+\"_shctrl.tsv\")):\n",
    "            print(file)\n",
    "            df = pd.read_csv(file, sep = \"\\t\", usecols = [\"GeneID\", \"log2FoldChange\", \"padj\"])\n",
    "            df = df.loc[df[\"padj\"] < 0.05]\n",
    "            df['ensembl_gene_id'] = df['GeneID'].str.split('.', 1).str[0]\n",
    "            merged_df = df.merge(results, on = \"ensembl_gene_id\", how = \"inner\")\n",
    "            df_up = merged_df.loc[merged_df[\"log2FoldChange\"] > 0.05]\n",
    "            df_down = merged_df.loc[merged_df[\"log2FoldChange\"] < 0.05]\n",
    "            if time not in up_dfs.keys():\n",
    "                up_dfs[time] = dict()\n",
    "                down_dfs[time] = dict()\n",
    "            \n",
    "            up_dfs[time][cond] = df_up\n",
    "            down_dfs[time][cond] = df_down\n",
    "print(down_dfs[\"lps0\"][\"shprdx1\"])"
   ]
  },
  {
   "cell_type": "code",
   "execution_count": 13,
   "metadata": {},
   "outputs": [],
   "source": [
    "for time in [\"lps0\", \"lps3\", \"lps12\"]:\n",
    "    for cond, df in up_dfs[time].items():\n",
    "        enr = gp.enrichr(gene_list=df[\"external_gene_name\"].astype(str),\n",
    "                          description=time+\"_\"+cond+\"_up\",\n",
    "                          gene_sets='KEGG_2019_Mouse',\n",
    "                          background= 30000, # the number of genes, e.g 20000\n",
    "                          outdir=os.path.join(out_path,'enricher_report_kegg_2019_'+time+\"_\"+cond+\"_up\"),\n",
    "                          cutoff=0.05, # only used for testing.\n",
    "                          organism='Mouse',\n",
    "                          verbose=False)\n",
    "#         dotplot(enr.res2d, title='KEGG_2019_Mouse',cmap='viridis_r')"
   ]
  },
  {
   "cell_type": "code",
   "execution_count": 14,
   "metadata": {},
   "outputs": [],
   "source": [
    "# Could you help me to sort out up-regulated genes in TNF pathway in LPS3_shCTRL_vs_shMOF and \n",
    "# LPS3_shCTRL_vs_shPRDX1 and collect their log2FC from DESeq2 in a file?\n",
    "gene_name_df = pd.read_csv(\"/data/akhtar/group2/rabbani/rna_project1904/pairwise_comparison/fdr0.05/gsea/kegg_name.tsv\", sep =\"\\t\")"
   ]
  },
  {
   "cell_type": "code",
   "execution_count": 15,
   "metadata": {},
   "outputs": [],
   "source": [
    "# tnf path ledge_genes in mof (108 genes)\n",
    "tnf_mof = [\"CXCL10\", \"CXCL3\", \"PTGS2\", \"CXCL1\", \"IL6\", \"CSF2\", \"CXCL2\", \"TRAF1\",\"MMP3\", \"CSF1\", \"VCAM1\",\n",
    "           \"CCL20\", \"SELE\", \"TNFAIP3\", \"IL15\", \"CX3CL1\", \"LIF\", \"CCL2\", \"IFNB1\", \"IL1B\", \"MAP2K3\", \"MAPK13\",\n",
    "           \"JAG1\", \"MAP2K6\", \"NOD2\", \"ICAM1\", \"RPS6KA5\", \"DAB2IP\", \"CREB3L2\", \"SOCS3\", \"MAPK12\", \"NFKB1\",\n",
    "           \"TNFRSF1B\", \"FAS\", \"MAP2K4\", \"FOS\", \"NFKBIA\", \"CASP3\", \"IRF1\", \"JUNB\", \"TNF\", \"MAP2K1\", \"PIK3R3\",\n",
    "           \"CREB5\", \"CREB3L4\", \"CFLAR\", \"BAG4\", \"MAP3K5\", \"BCL3\", \"IKBKB\", \"TAB3\", \"TRAF5\", \"RELA\", \"BIRC3\",\n",
    "           \"TRAF2\", \"GM5431\", \"BIRC2\", \"PGAM5\", \"AKT3\", \"ITCH\", \"ATF4\", \"IKBKG\", \"PIK3R2\", \"ATF2\", \"CHUK\",\n",
    "           \"CASP7\", \"PIK3R1\", \"TRAF3\", \"AKT1\", \"TRADD\", \"MAP3K7\", \"MAPK3\", \"MAP2K7\", \"CREB1\", \"CREB3L1\",\n",
    "           \"MAPK8\", \"AKT2\", \"IFI47\", \"RIPK1\", \"CEBPB\", \"DNM1L\", \"MLKL\", \"PIK3CB\", \"MAPK1\", \"FADD\", \"LTA\",\n",
    "           \"TAB1\", \"ATF6B\", \"MAP3K8\", \"CCL5\", \"PIK3CA\", \"RIPK3\", \"EDN1\", \"TAB2\", \"CASP8\", \"TNFRSF1A\",\n",
    "           \"JUN\", \"CREB3\", \"MAPK11\", \"MAPK9\", \"MAP3K14\", \"MMP9\", \"IL18R1\", \"MAPK14\", \"CREB3L3\", \"PIK3CD\",\n",
    "           \"CCL12\", \"MMP14\"]\n",
    "tnf_mof_ensemble = gene_name_df.loc[gene_name_df[\"external_gene_name\"].str.upper().isin(tnf_mof)]\n",
    "tnf_mof_ensemble =tnf_mof_ensemble[[\"ensembl_gene_id\", \"ensembl_gene_id_version\", \"external_gene_name\"]]"
   ]
  },
  {
   "cell_type": "code",
   "execution_count": 16,
   "metadata": {},
   "outputs": [],
   "source": [
    "# tnf path ledge_genes in prdx1 (108 genes)\n",
    "tnf_prdx1 = [\"CCL20\", \"CXCL3\", \"CASP7\", \"MMP9\", \"CXCL1\", \"IL1B\", \"CSF2\", \"CXCL2\", \"PTGS2\", \"IL6\",\n",
    "             \"VCAM1\", \"RPS6KA5\", \"JAG1\", \"NFKBIA\", \"MAP3K5\", \"TNF\", \"TNFAIP3\", \"CREB3L2\", \"ICAM1\",\n",
    "             \"MAPK11\", \"CXCL10\", \"NOD2\", \"IKBKB\", \"BIRC3\", \"IRF1\", \"TRAF1\", \"TAB3\", \"CREB3L1\", \"FAS\",\n",
    "             \"BCL3\", \"RELA\", \"MAPK12\", \"MAP2K7\", \"PGAM5\", \"MAP3K7\", \"MMP14\", \"JUNB\", \"MAPK14\", \"CHUK\",\n",
    "             \"JUN\", \"NFKB1\", \"AKT2\", \"AKT1\", \"CCL2\", \"IL15\", \"CFLAR\", \"IKBKG\", \"RIPK3\", \"PIK3CA\", \"TRADD\",\n",
    "             \"BIRC2\", \"MAP2K6\", \"CEBPB\", \"MLKL\", \"MAPK13\", \"DNM1L\", \"ATF2\", \"IFNB1\", \"TRAF5\", \"ITCH\",\n",
    "             \"CREB3L4\", \"ATF6B\", \"SOCS3\", \"DAB2IP\", \"CREB1\", \"MAPK1\", \"CCL5\", \"MAP2K4\", \"MAPK8\", \"PIK3R1\",\n",
    "             \"IFI47\", \"MAP3K14\", \"MAP3K8\", \"MAP2K3\", \"TAB2\", \"LIF\", \"RIPK1\", \"BAG4\", \"ATF4\", \"MAPK9\", \"PIK3R2\",\n",
    "             \"CSF1\", \"MAPK3\", \"CREB5\", \"AKT3\", \"PIK3R3\", \"TRAF3\", \"FOS\", \"TNFRSF1B\", \"CREB3\", \"FADD\", \"PIK3CB\",\n",
    "             \"CASP3\", \"TNFRSF1A\", \"TRAF2\", \"CX3CL1\", \"TAB1\", \"MAP2K1\", \"CASP8\", \"GM5431\", \"MMP3\", \"CREB3L3\",\n",
    "             \"SELE\", \"IL18R1\", \"EDN1\", \"PIK3CD\", \"CCL12\", \"LTA\"]\n",
    "tnf_prdx1_ensemble = gene_name_df.loc[gene_name_df[\"external_gene_name\"].str.upper().isin(tnf_prdx1)]\n",
    "tnf_prdx1_ensemble =tnf_prdx1_ensemble[[\"ensembl_gene_id\", \"ensembl_gene_id_version\", \"external_gene_name\"]]"
   ]
  },
  {
   "cell_type": "code",
   "execution_count": 17,
   "metadata": {},
   "outputs": [],
   "source": [
    "deseq_mof = os.path.join(in_path, \"ddr_lps3_shmof_lps3_shctrl.tsv\")\n",
    "deseq_mof_df = pd.read_csv(deseq_mof, sep = \"\\t\")\n",
    "deseq_mof_df['ensembl_gene_id'] = deseq_mof_df['GeneID'].str.split('.', 1).str[0]\n",
    "deseq_mof_df = deseq_mof_df.merge(tnf_mof_ensemble, on = \"ensembl_gene_id\", how = \"inner\")\n",
    "deseq_mof_df.to_csv(os.path.join(out_path, \"tnf_genes_mof_lp3.tsv\"), sep = \"\\t\", index = None)\n",
    "deseq_prdx1 = os.path.join(in_path, \"ddr_lps3_shprdx1_lps3_shctrl.tsv\")\n",
    "deseq_prdx1_df = pd.read_csv(deseq_prdx1, sep = \"\\t\")\n",
    "deseq_prdx1_df['ensembl_gene_id'] = deseq_prdx1_df['GeneID'].str.split('.', 1).str[0]\n",
    "deseq_prdx1_df = deseq_prdx1_df.merge(tnf_prdx1_ensemble, on = \"ensembl_gene_id\", how = \"inner\")\n",
    "deseq_prdx1_df.to_csv(os.path.join(out_path, \"tnf_genes_prdx1_lp3.tsv\"), sep = \"\\t\", index = None)\n"
   ]
  },
  {
   "cell_type": "code",
   "execution_count": null,
   "metadata": {},
   "outputs": [],
   "source": []
  },
  {
   "cell_type": "code",
   "execution_count": null,
   "metadata": {},
   "outputs": [],
   "source": []
  }
 ],
 "metadata": {
  "kernelspec": {
   "display_name": "SSH minimus matplotlib3_py3.8",
   "language": "",
   "name": "rik_ssh_maximus_matplotlib3_py38"
  },
  "language_info": {
   "codemirror_mode": {
    "name": "ipython",
    "version": 3
   },
   "file_extension": ".py",
   "mimetype": "text/x-python",
   "name": "python",
   "nbconvert_exporter": "python",
   "pygments_lexer": "ipython3",
   "version": "3.8.0"
  }
 },
 "nbformat": 4,
 "nbformat_minor": 4
}
